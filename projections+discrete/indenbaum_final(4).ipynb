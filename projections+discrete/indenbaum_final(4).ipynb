{
  "cells": [
    {
      "cell_type": "code",
      "execution_count": 1,
      "metadata": {
        "id": "cVOfOvFZsIGJ"
      },
      "outputs": [],
      "source": [
        "from dgh import upper\n",
        "import numpy as np"
      ]
    },
    {
      "cell_type": "code",
      "execution_count": 1,
      "metadata": {},
      "outputs": [],
      "source": [
        "from grad_dgh import upper"
      ]
    },
    {
      "cell_type": "code",
      "execution_count": null,
      "metadata": {
        "colab": {
          "base_uri": "https://localhost:8080/"
        },
        "id": "X1J5pgYGsKuz",
        "outputId": "58865e5b-c496-477f-bd48-8e133f8a1a5e"
      },
      "outputs": [],
      "source": [
        "import numpy as np\n",
        "np.random.seed(42)\n",
        "\n",
        "def generate_symmetric_matrix(size, min_val=1, max_val=100):\n",
        "\n",
        "    matrix = np.random.randint(min_val, max_val + 1, size=(size, size))\n",
        "   \n",
        "    symmetric_matrix = (matrix + matrix.T) / 2\n",
        "\n",
        "    np.fill_diagonal(symmetric_matrix, 0.0)\n",
        "    return symmetric_matrix\n",
        "\n"
      ]
    },
    {
      "cell_type": "code",
      "execution_count": 3,
      "metadata": {},
      "outputs": [
        {
          "name": "stdout",
          "output_type": "stream",
          "text": [
            "True True 4\n",
            "True True 4\n",
            "True True 3\n",
            "True True 5\n",
            "True True 3\n",
            "True True 5\n",
            "True False 4\n",
            "True True 4\n",
            "47 4 S0 1.0001\n",
            "True True 4\n",
            "43 4 S0 1.0001\n",
            "True True 4\n",
            "39 4 S0 1.0001\n",
            "True True 4\n",
            "35 4 S0 1.0001\n",
            "True True 3\n",
            "32 3 S0 1.0001\n",
            "True True 5\n",
            "27 5 S0 1.0001\n",
            "True True 4\n",
            "23 4 S0 1.0001\n",
            "True True 3\n",
            "20 3 S0 1.0001\n",
            "True True 4\n",
            "16 4 S0 1.0001\n",
            "True True 3\n",
            "13 3 S0 1.0001\n",
            "True True 4\n",
            "9 4 S0 1.0001\n",
            "0.5\n"
          ]
        }
      ],
      "source": [
        "X = np.array([[0, 1, 10, 10],\n",
        "               [0, 0, 10, 10],\n",
        "               [0, 0, 0, 1],\n",
        "               [0, 0, 0, 0]])\n",
        "X += X.T\n",
        "Y = np.array([[0, 1, 1, 10],\n",
        "              [0, 0, 1, 10],\n",
        "              [0, 0, 0, 10],\n",
        "              [0, 0, 0, 0]])\n",
        "Y += Y.T\n",
        "\n",
        "print(upper(X,Y, iter_budget=100))"
      ]
    },
    {
      "cell_type": "code",
      "execution_count": 4,
      "metadata": {},
      "outputs": [
        {
          "name": "stdout",
          "output_type": "stream",
          "text": [
            "True\n",
            "True True 4\n",
            "True True 2\n",
            "True True 4\n",
            "True True 2\n",
            "True True 4\n",
            "[[0. 1. 0. 0. 0. 0. 0. 0.]\n",
            " [1. 0. 0. 0. 0. 0. 0. 0.]\n",
            " [0. 0. 0. 1. 0. 0. 0. 0.]\n",
            " [0. 0. 1. 0. 0. 0. 0. 0.]\n",
            " [0. 0. 0. 0. 0. 1. 0. 0.]\n",
            " [0. 0. 0. 0. 1. 0. 0. 0.]\n",
            " [0. 0. 0. 0. 0. 0. 0. 1.]\n",
            " [0. 0. 0. 0. 0. 0. 1. 0.]]\n",
            "True True 4\n",
            "[[0. 1. 0. 0. 0. 0. 0. 0.]\n",
            " [1. 0. 0. 0. 0. 0. 0. 0.]\n",
            " [0. 0. 0. 1. 0. 0. 0. 0.]\n",
            " [0. 0. 1. 0. 0. 0. 0. 0.]\n",
            " [0. 0. 0. 0. 0. 1. 0. 0.]\n",
            " [0. 0. 0. 0. 1. 0. 0. 0.]\n",
            " [0. 0. 0. 0. 0. 0. 0. 1.]\n",
            " [0. 0. 0. 0. 0. 0. 1. 0.]]\n",
            "True True 5\n",
            "[[0. 1. 0. 0. 0. 0. 0. 0.]\n",
            " [1. 0. 0. 0. 0. 0. 0. 0.]\n",
            " [0. 0. 0. 1. 0. 0. 0. 0.]\n",
            " [0. 0. 1. 0. 0. 0. 0. 0.]\n",
            " [0. 0. 0. 0. 0. 1. 0. 0.]\n",
            " [0. 0. 0. 0. 1. 0. 0. 0.]\n",
            " [0. 0. 0. 0. 0. 0. 0. 1.]\n",
            " [0. 0. 0. 0. 0. 0. 1. 0.]]\n",
            "True True 3\n",
            "True True 4\n",
            "True True 3\n",
            "True True 3\n",
            "True True 2\n",
            "[[1. 0. 0. 0. 0. 0. 0. 0.]\n",
            " [1. 0. 0. 0. 0. 0. 0. 0.]\n",
            " [0. 0. 0. 1. 0. 0. 0. 0.]\n",
            " [0. 0. 0. 1. 0. 0. 0. 0.]\n",
            " [0. 0. 0. 0. 1. 0. 0. 0.]\n",
            " [0. 0. 0. 0. 1. 0. 0. 0.]\n",
            " [0. 0. 0. 0. 0. 0. 0. 1.]\n",
            " [0. 0. 0. 0. 0. 0. 0. 1.]]\n",
            "51 break 2.0\n",
            "0.0\n"
          ]
        }
      ],
      "source": [
        "X = np.array([[0, 1, 10, 10],\n",
        "               [0, 0, 10, 10],\n",
        "               [0, 0, 0, 1],\n",
        "               [0, 0, 0, 0]])\n",
        "X += X.T\n",
        "Y = np.array([[0, 1, 10, 10],\n",
        "              [0, 0, 10, 10],\n",
        "              [0, 0, 0, 1],\n",
        "              [0, 0, 0, 0]])\n",
        "Y += Y.T\n",
        "print(np.array_equal(X,Y))\n",
        "print(upper(X,Y, iter_budget=100))"
      ]
    },
    {
      "cell_type": "code",
      "execution_count": 9,
      "metadata": {},
      "outputs": [
        {
          "name": "stdout",
          "output_type": "stream",
          "text": [
            "1000 1000 1.0001\n",
            "1000 1000 1.01\n",
            "1000 1000 2.0\n",
            "1000 1000 101.0\n",
            "1000 1000 10001.0\n",
            "1000 1000 1000001.0\n",
            "1000 1000 100000001.0\n"
          ]
        }
      ],
      "source": [
        "c_s = 1 + 10.**np.arange(-4, 9, 2)\n",
        "DGH = []\n",
        "for c in c_s:\n",
        "    DGH.append(upper(X, Y, iter_budget=1000, c = c))"
      ]
    },
    {
      "cell_type": "code",
      "execution_count": 10,
      "metadata": {},
      "outputs": [
        {
          "data": {
            "text/plain": [
              "[5.0, 5.0, 5.0, 5.0, 5.0, 5.0, 5.0]"
            ]
          },
          "execution_count": 10,
          "metadata": {},
          "output_type": "execute_result"
        }
      ],
      "source": [
        "DGH"
      ]
    },
    {
      "cell_type": "code",
      "execution_count": null,
      "metadata": {},
      "outputs": [],
      "source": [
        "'''\n",
        "def generate_symmetric_matrix(size):\n",
        "   \n",
        "    matrix = np.random.uniform(-5,5, size=(size, size))\n",
        "   \n",
        "    symmetric_matrix = (matrix + matrix.T) / 2\n",
        "   \n",
        "    np.fill_diagonal(symmetric_matrix, 0.0)\n",
        "    return symmetric_matrix\n",
        "\n",
        "'''"
      ]
    },
    {
      "cell_type": "code",
      "execution_count": 6,
      "metadata": {
        "colab": {
          "base_uri": "https://localhost:8080/"
        },
        "id": "xcYdph7MyLLl",
        "outputId": "61625e8f-a48e-406b-b87f-628ef8c5bd31"
      },
      "outputs": [
        {
          "name": "stdout",
          "output_type": "stream",
          "text": [
            "True\n"
          ]
        }
      ],
      "source": [
        "X = generate_symmetric_matrix(5)\n",
        "Y = X.copy()\n",
        "print(np.array_equal(X,Y))"
      ]
    },
    {
      "cell_type": "code",
      "execution_count": 5,
      "metadata": {},
      "outputs": [],
      "source": [
        "X = np.array([[ 0. , 57. , 51.5, 62.5, 31.5],\n",
        "       [57. ,  0. , 93.5, 38.5, 69.5],\n",
        "       [51.5, 93.5,  0. , 45.5, 41. ],\n",
        "       [62.5, 38.5, 45.5,  0. , 29.5],\n",
        "       [31.5, 69.5, 41. , 29.5,  0. ]])\n",
        "Y = X.copy()"
      ]
    },
    {
      "cell_type": "code",
      "execution_count": 6,
      "metadata": {},
      "outputs": [
        {
          "data": {
            "text/plain": [
              "array([[ 0. , 57. , 51.5, 62.5, 31.5],\n",
              "       [57. ,  0. , 93.5, 38.5, 69.5],\n",
              "       [51.5, 93.5,  0. , 45.5, 41. ],\n",
              "       [62.5, 38.5, 45.5,  0. , 29.5],\n",
              "       [31.5, 69.5, 41. , 29.5,  0. ]])"
            ]
          },
          "execution_count": 6,
          "metadata": {},
          "output_type": "execute_result"
        }
      ],
      "source": [
        "X"
      ]
    },
    {
      "cell_type": "code",
      "execution_count": 29,
      "metadata": {},
      "outputs": [],
      "source": [
        "X1 = X.copy()"
      ]
    },
    {
      "cell_type": "code",
      "execution_count": 7,
      "metadata": {},
      "outputs": [
        {
          "name": "stdout",
          "output_type": "stream",
          "text": [
            "True True 5\n",
            "9995 5 S0 1.0001\n",
            "True True 5\n",
            "9990 5 S0 1.0001\n",
            "True True 4\n",
            "9986 4 S0 1.0001\n",
            "True True 3\n",
            "9983 3 S0 1.0001\n",
            "True True 3\n",
            "9980 3 S0 1.0001\n",
            "True True 5\n",
            "9980 break 1.0001\n",
            "0.0\n",
            "True True 5\n",
            "9995 5 S0 1.01\n",
            "True True 5\n",
            "9990 5 S0 1.01\n",
            "True True 4\n",
            "9986 4 S0 1.01\n",
            "True True 3\n",
            "9983 3 S0 1.01\n",
            "True True 3\n",
            "9980 3 S0 1.01\n",
            "True True 5\n",
            "9980 break 1.01\n",
            "0.0\n",
            "True True 4\n",
            "9996 4 S0 2.0\n",
            "True True 3\n",
            "9993 3 S0 2.0\n",
            "True True 4\n",
            "9989 4 S0 2.0\n",
            "True True 3\n",
            "9986 3 S0 2.0\n",
            "True True 3\n",
            "9983 3 S0 2.0\n",
            "True True 5\n",
            "9983 break 2.0\n",
            "0.0\n",
            "True True 7\n",
            "9993 7 S0 101.0\n",
            "True True 4\n",
            "9989 4 S0 101.0\n",
            "True True 5\n",
            "9984 5 S0 101.0\n",
            "True True 5\n",
            "9979 5 S0 101.0\n",
            "True True 3\n",
            "9976 3 S0 101.0\n",
            "True True 5\n",
            "9976 break 101.0\n",
            "0.0\n",
            "True True 6\n",
            "9994 6 S0 10001.0\n",
            "True True 7\n",
            "9987 7 S0 10001.0\n",
            "True True 9\n",
            "9978 9 S0 10001.0\n",
            "True True 4\n",
            "9974 4 S0 10001.0\n",
            "True True 5\n",
            "9969 5 S0 10001.0\n",
            "True True 5\n",
            "9964 5 S0 10001.0\n",
            "True True 4\n",
            "9960 4 S0 10001.0\n",
            "True True 6\n",
            "9954 6 S0 10001.0\n",
            "True True 6\n",
            "9948 6 S0 10001.0\n",
            "True True 4\n",
            "9944 4 S0 10001.0\n",
            "True True 5\n",
            "9939 5 S0 10001.0\n",
            "True True 7\n",
            "9932 7 S0 10001.0\n",
            "True True 5\n",
            "9927 5 S0 10001.0\n",
            "True True 4\n",
            "9923 4 S0 10001.0\n",
            "True True 8\n",
            "9915 8 S0 10001.0\n",
            "True True 6\n",
            "9915 break 10001.0\n",
            "0.0\n",
            "True True 9\n",
            "9991 9 S0 1000001.0\n",
            "True True 8\n",
            "9983 8 S0 1000001.0\n",
            "True True 9\n",
            "9974 9 S0 1000001.0\n",
            "True True 5\n",
            "9969 5 S0 1000001.0\n",
            "True True 5\n",
            "9964 5 S0 1000001.0\n",
            "True True 5\n",
            "9959 5 S0 1000001.0\n",
            "True True 4\n",
            "9955 4 S0 1000001.0\n",
            "True True 7\n",
            "9948 7 S0 1000001.0\n",
            "True True 6\n",
            "9942 6 S0 1000001.0\n",
            "True True 9\n",
            "9933 9 S0 1000001.0\n",
            "True True 5\n",
            "9928 5 S0 1000001.0\n",
            "True True 6\n",
            "9922 6 S0 1000001.0\n",
            "True True 6\n",
            "9916 6 S0 1000001.0\n",
            "True True 5\n",
            "9911 5 S0 1000001.0\n",
            "True True 11\n",
            "9911 break 1000001.0\n",
            "0.0\n",
            "True True 8\n",
            "9992 8 S0 100000001.0\n",
            "True True 6\n",
            "9986 6 S0 100000001.0\n",
            "True True 8\n",
            "9978 8 S0 100000001.0\n",
            "True True 5\n",
            "9973 5 S0 100000001.0\n",
            "True True 4\n",
            "9969 4 S0 100000001.0\n",
            "True True 8\n",
            "9969 break 100000001.0\n",
            "0.0\n"
          ]
        }
      ],
      "source": [
        "c_s = 1 + 10.**np.arange(-4, 9, 2)\n",
        "DGH = []\n",
        "for c in c_s:\n",
        "    print(upper(X, Y, iter_budget=10000, c = c))"
      ]
    },
    {
      "cell_type": "code",
      "execution_count": 38,
      "metadata": {},
      "outputs": [
        {
          "name": "stdout",
          "output_type": "stream",
          "text": [
            "20.000000000000004\n",
            "19.5\n",
            "16.75\n",
            "16.75\n",
            "16.5\n"
          ]
        }
      ],
      "source": [
        "c = c_s[3]\n",
        "for i in ([1000,5000,10000,20000,50000]):\n",
        "    print(upper(X, Y, iter_budget=i, c = c))"
      ]
    },
    {
      "cell_type": "code",
      "execution_count": 31,
      "metadata": {},
      "outputs": [
        {
          "name": "stdout",
          "output_type": "stream",
          "text": [
            "True\n"
          ]
        }
      ],
      "source": [
        "print(np.array_equal(X,X1))"
      ]
    },
    {
      "cell_type": "code",
      "execution_count": 1,
      "metadata": {},
      "outputs": [],
      "source": [
        "import numpy as np\n",
        "np.random.seed(42)"
      ]
    },
    {
      "cell_type": "code",
      "execution_count": null,
      "metadata": {},
      "outputs": [],
      "source": [
        "def rnd_R(n, m):\n",
        "    #print(n,m)\n",
        "    \"\"\"\n",
        "    Generates random soft mapping in X🠖Y as a point in the bi-mapping polytope 𝓢.\n",
        "\n",
        "    :param n: cardinality of X (int)\n",
        "    :param m: cardinality of Y (int)\n",
        "    :return: soft mapping pair S ∈ 𝓢  (2d-array)\n",
        "    \"\"\"\n",
        "    nxn_zeros, mxm_zeros = (np.zeros((size, size)) for size in [n, m])\n",
        "\n",
        "    F = np.random.randint(0, 2, size = (n,m))\n",
        "    G = np.random.randint(0, 2, size = (m,n))\n",
        "    \n",
        "    R = np.block([[F, nxn_zeros], [mxm_zeros, G]])\n",
        "\n",
        "    return R"
      ]
    },
    {
      "cell_type": "code",
      "execution_count": 7,
      "metadata": {},
      "outputs": [
        {
          "data": {
            "text/plain": [
              "array([3, 4, 2, 4])"
            ]
          },
          "execution_count": 7,
          "metadata": {},
          "output_type": "execute_result"
        }
      ],
      "source": [
        "np.random.choice(5, size=4, replace=True) "
      ]
    },
    {
      "cell_type": "code",
      "execution_count": 2,
      "metadata": {},
      "outputs": [],
      "source": [
        "import numpy as np\n",
        "\n",
        "def random_permutation_matrix(n, m):\n",
        "    \"\"\"\n",
        "    Генерирует случайную матрицу (n, m), где в каждой строке ровно одна 1, остальное 0.\n",
        "\n",
        "    Аргументы:\n",
        "    - n: количество строк\n",
        "    - m: количество столбцов\n",
        "\n",
        "    Возвращает:\n",
        "    - R: матрица (n, m), где в каждой строке одна 1, остальное 0\n",
        "    \"\"\"\n",
        "    R = np.zeros((n, m), dtype=int)\n",
        "    col_indices = np.random.choice(m, size=n, replace=True) \n",
        "    row_indices = np.arange(n) \n",
        "\n",
        "    R[row_indices, col_indices] = 1 \n",
        "\n",
        "    return R"
      ]
    },
    {
      "cell_type": "code",
      "execution_count": null,
      "metadata": {},
      "outputs": [],
      "source": [
        "def rnd_R(n, m, nxn_zeros, mxm_zeros):\n",
        "    #print(n,m)\n",
        "    \"\"\"\n",
        "    Generates random soft mapping in X🠖Y as a point in the bi-mapping polytope 𝓢.\n",
        "\n",
        "    :param n: cardinality of X (int)\n",
        "    :param m: cardinality of Y (int)\n",
        "    :param rnd: NumPy random state\n",
        "    :return: soft mapping pair S ∈ 𝓢  (2d-array)\n",
        "    \"\"\"\n",
        "\n",
        "    F = random_permutation_matrix(n,m)\n",
        "    G = random_permutation_matrix(m,n)\n",
        "    \n",
        "    R = np.block([[F, nxn_zeros], [mxm_zeros, G]])\n",
        "\n",
        "    return R"
      ]
    },
    {
      "cell_type": "code",
      "execution_count": 3,
      "metadata": {},
      "outputs": [],
      "source": [
        "def dis(R, V, U, W):\n",
        " \n",
        "    R_W = R @ W\n",
        "\n",
        "    dis_R = np.abs(V - R @ U @ R.T + R_W - R_W.T).max()\n",
        "\n",
        "    return dis_R"
      ]
    },
    {
      "cell_type": "code",
      "execution_count": 76,
      "metadata": {},
      "outputs": [],
      "source": [
        "def compute_dgh(X, Y, num_tries = 1000):\n",
        "    n = X.shape[0]\n",
        "    m = Y.shape[0]\n",
        "    #nxn_zeros, mxm_zeros = (np.zeros((size, size)) for size in [n, m])\n",
        "    nxm_zeros = np.zeros((n,m))\n",
        "    mxn_zeros = np.zeros((m,n))\n",
        "    V = np.block([[X, nxm_zeros], [mxn_zeros, Y]])\n",
        "    U = np.block([[Y, mxn_zeros], [nxm_zeros, X]])\n",
        "    W = np.block([[mxn_zeros, Y], [X, nxm_zeros]])\n",
        "    dis_R = 10**6\n",
        "    rad_X = np.min(X.max(axis=0))\n",
        "    rad_Y = np.min(Y.max(axis=0))\n",
        "    nxn_zeros, mxm_zeros = (np.zeros((size, size)) for size in [n, m])\n",
        "    lb = max(abs(X.max() - Y.max()), abs(rad_X - rad_Y))\n",
        "    for i in range(num_tries):\n",
        "        R = rnd_R(n,m, nxn_zeros, mxm_zeros)\n",
        "        tmp_dis = dis(R, V, U, W)\n",
        "        dis_R = min(dis_R, tmp_dis)\n",
        "        if (dis_R - lb <= 0.01):\n",
        "            print('s')\n",
        "            return dis_R / 2\n",
        "    print(R)\n",
        "    return dis_R / 2\n",
        "\n",
        "    \n"
      ]
    },
    {
      "cell_type": "code",
      "execution_count": 8,
      "metadata": {},
      "outputs": [],
      "source": [
        "X = np.array([[0, 1, 10, 10],\n",
        "               [0, 0, 10, 10],\n",
        "               [0, 0, 0, 1],\n",
        "               [0, 0, 0, 0]])\n",
        "X += X.T\n",
        "Y = np.array([[0, 1, 1, 10],\n",
        "              [0, 0, 1, 10],\n",
        "              [0, 0, 0, 10],\n",
        "              [0, 0, 0, 0]])\n",
        "Y += Y.T\n"
      ]
    },
    {
      "cell_type": "code",
      "execution_count": null,
      "metadata": {},
      "outputs": [],
      "source": [
        "pip install dgh"
      ]
    },
    {
      "cell_type": "code",
      "execution_count": 5,
      "metadata": {},
      "outputs": [],
      "source": [
        "import dgh"
      ]
    },
    {
      "cell_type": "code",
      "execution_count": 113,
      "metadata": {},
      "outputs": [
        {
          "name": "stdout",
          "output_type": "stream",
          "text": [
            "True\n"
          ]
        }
      ],
      "source": [
        "X = generate_symmetric_matrix(100)\n",
        "Y = X.copy()\n",
        "print(np.array_equal(X,Y))"
      ]
    },
    {
      "cell_type": "code",
      "execution_count": 104,
      "metadata": {},
      "outputs": [
        {
          "data": {
            "text/plain": [
              "array([[ 0. , 42. , 41. , ..., 65.5, 18.5, 45.5],\n",
              "       [42. ,  0. , 37.5, ..., 63. , 39. , 45.5],\n",
              "       [41. , 37.5,  0. , ..., 46.5, 19. , 54.5],\n",
              "       ...,\n",
              "       [65.5, 63. , 46.5, ...,  0. ,  8.5, 32. ],\n",
              "       [18.5, 39. , 19. , ...,  8.5,  0. , 53. ],\n",
              "       [45.5, 45.5, 54.5, ..., 32. , 53. ,  0. ]])"
            ]
          },
          "execution_count": 104,
          "metadata": {},
          "output_type": "execute_result"
        }
      ],
      "source": [
        "X"
      ]
    },
    {
      "cell_type": "code",
      "execution_count": 114,
      "metadata": {},
      "outputs": [
        {
          "name": "stdout",
          "output_type": "stream",
          "text": [
            "31.75\n"
          ]
        }
      ],
      "source": [
        "print(dgh.upper(X,Y, iter_budget=1000))"
      ]
    },
    {
      "cell_type": "code",
      "execution_count": 116,
      "metadata": {},
      "outputs": [
        {
          "data": {
            "text/plain": [
              "44.5"
            ]
          },
          "execution_count": 116,
          "metadata": {},
          "output_type": "execute_result"
        }
      ],
      "source": [
        "compute_dgh(X, Y, num_tries = 50000)"
      ]
    },
    {
      "cell_type": "code",
      "execution_count": null,
      "metadata": {},
      "outputs": [],
      "source": [
        "def swap_units_in_blocks_optimized(R, n, m, num_swaps_F, num_swaps_G):\n",
        "    \"\"\"\n",
        "    Меняет перестановки единиц в левом (F) и правом (G) блоках матрицы R без циклов.\n",
        "\n",
        "    Параметры:\n",
        "    - R: матрица (n + m) x (n + m), состоящая из блоков F (n x m) и G (m x n).\n",
        "    - n: количество строк в блоке F.\n",
        "    - m: количество строк в блоке G.\n",
        "    - num_swaps_F: количество строк в блоке F, в которых нужно изменить перестановки единиц.\n",
        "    - num_swaps_G: количество строк в блоке G, в которых нужно изменить перестановки единиц.\n",
        "\n",
        "    Возвращает:\n",
        "    - Новую матрицу R с изменёнными перестановками единиц.\n",
        "    \"\"\"\n",
        "    R_new = R.copy()\n",
        "\n",
        "    F = R_new[:n, :m]\n",
        "\n",
        "    G = R_new[n:, m:]\n",
        "\n",
        "    if num_swaps_F > 0:\n",
        "    \n",
        "        rows_F = np.random.choice(n, size=num_swaps_F, replace=False)\n",
        "\n",
        "        current_units_F = np.argmax(F[rows_F], axis=1)\n",
        "\n",
        "        new_units_F = np.array([np.random.choice([i for i in range(m) if i != current_unit]) \n",
        "                                for current_unit in current_units_F])\n",
        "\n",
        "        F[rows_F, current_units_F] = 0\n",
        "        F[rows_F, new_units_F] = 1\n",
        "\n",
        "    if num_swaps_G > 0:\n",
        "       \n",
        "        rows_G = np.random.choice(m, size=num_swaps_G, replace=False)\n",
        "\n",
        "        current_units_G = np.argmax(G[rows_G], axis=1)\n",
        "\n",
        "        new_units_G = np.array([np.random.choice([i for i in range(n) if i != current_unit]) \n",
        "                                for current_unit in current_units_G])\n",
        "\n",
        "        G[rows_G, current_units_G] = 0\n",
        "        G[rows_G, new_units_G] = 1\n",
        "\n",
        "    R_new[:n, :m] = F\n",
        "    R_new[n:, m:] = G\n",
        "\n",
        "    return R_new"
      ]
    },
    {
      "cell_type": "code",
      "execution_count": 104,
      "metadata": {},
      "outputs": [],
      "source": [
        "n = 3\n",
        "m = 4\n",
        "nxn_zeros, mxm_zeros = (np.zeros((size, size)) for size in [n, m])\n",
        "\n",
        "R = rnd_R(n,m, nxn_zeros, mxm_zeros)"
      ]
    },
    {
      "cell_type": "code",
      "execution_count": 105,
      "metadata": {},
      "outputs": [
        {
          "data": {
            "text/plain": [
              "array([[1., 0., 0., 0., 0., 0., 0.],\n",
              "       [1., 0., 0., 0., 0., 0., 0.],\n",
              "       [0., 0., 1., 0., 0., 0., 0.],\n",
              "       [0., 0., 0., 0., 1., 0., 0.],\n",
              "       [0., 0., 0., 0., 1., 0., 0.],\n",
              "       [0., 0., 0., 0., 1., 0., 0.],\n",
              "       [0., 0., 0., 0., 1., 0., 0.]])"
            ]
          },
          "execution_count": 105,
          "metadata": {},
          "output_type": "execute_result"
        }
      ],
      "source": [
        "R"
      ]
    },
    {
      "cell_type": "code",
      "execution_count": 106,
      "metadata": {},
      "outputs": [
        {
          "data": {
            "text/plain": [
              "array([[1., 0., 0., 0., 0., 0., 0.],\n",
              "       [0., 1., 0., 0., 0., 0., 0.],\n",
              "       [0., 0., 0., 1., 0., 0., 0.],\n",
              "       [0., 0., 0., 0., 0., 1., 0.],\n",
              "       [0., 0., 0., 0., 1., 0., 0.],\n",
              "       [0., 0., 0., 0., 0., 0., 1.],\n",
              "       [0., 0., 0., 0., 1., 0., 0.]])"
            ]
          },
          "execution_count": 106,
          "metadata": {},
          "output_type": "execute_result"
        }
      ],
      "source": [
        "swap_units_in_blocks_optimized(R, n, m, 2, 2)"
      ]
    },
    {
      "cell_type": "code",
      "execution_count": 36,
      "metadata": {},
      "outputs": [
        {
          "data": {
            "text/plain": [
              "0.230893825622149"
            ]
          },
          "execution_count": 36,
          "metadata": {},
          "output_type": "execute_result"
        }
      ],
      "source": [
        "np.random.rand()"
      ]
    },
    {
      "cell_type": "code",
      "execution_count": null,
      "metadata": {},
      "outputs": [],
      "source": [
        "def make_fire(U,V,W,n,m,nxn_zeros,mxm_zeros, max_iter = 100000):\n",
        "    T_0 = 5.6\n",
        "    T = T_0\n",
        "    #alpha = 0.99\n",
        "    break_count = 0\n",
        "    R = rnd_R(n,m, nxn_zeros, mxm_zeros)\n",
        "    cur_energy = dis(R,V,U,W)\n",
        "    for i in range(max_iter):\n",
        "        #T *= alpha\n",
        "        T = T_0 / (i+1)\n",
        "        R_new = swap_units_in_blocks_optimized(R,n,m,1,1)\n",
        "        candidate_energy = dis(R_new, V, U, W)\n",
        "        delta_energy = candidate_energy - cur_energy\n",
        "        if (delta_energy < 0 or np.random.rand() < np.exp(-delta_energy / T)):\n",
        "            R = R_new\n",
        "            cur_energy = candidate_energy\n",
        "        if (T < 0.00001):\n",
        "            break_count = 1\n",
        "            break\n",
        "    return cur_energy, break_count\n",
        "\n"
      ]
    },
    {
      "cell_type": "code",
      "execution_count": 94,
      "metadata": {},
      "outputs": [],
      "source": [
        "def compute_dgh_fire(X, Y, num_tries = 100):\n",
        "    break_count = 0\n",
        "    n = X.shape[0]\n",
        "    m = Y.shape[0]\n",
        "    nxm_zeros = np.zeros((n,m))\n",
        "    mxn_zeros = np.zeros((m,n))\n",
        "    V = np.block([[X, nxm_zeros], [mxn_zeros, Y]])\n",
        "    U = np.block([[Y, mxn_zeros], [nxm_zeros, X]])\n",
        "    W = np.block([[mxn_zeros, Y], [X, nxm_zeros]])\n",
        "    dis_R = 10**6\n",
        "    rad_X = np.min(X.max(axis=0))\n",
        "    rad_Y = np.min(Y.max(axis=0))\n",
        "    nxn_zeros, mxm_zeros = (np.zeros((size, size)) for size in [n, m])\n",
        "    lb = max(abs(X.max() - Y.max()), abs(rad_X - rad_Y))\n",
        "\n",
        "    for i in range(num_tries):\n",
        "        tmp_dis, count = make_fire(U,V,W,n,m,nxn_zeros,mxm_zeros)\n",
        "        break_count += count\n",
        "        dis_R = min(dis_R, tmp_dis)\n",
        "        if (dis_R - lb <= 0.01):\n",
        "            print('s')\n",
        "            print(break_count)\n",
        "            return dis_R / 2\n",
        "    print(break_count)\n",
        "    return dis_R / 2\n"
      ]
    },
    {
      "cell_type": "code",
      "execution_count": 53,
      "metadata": {},
      "outputs": [
        {
          "name": "stdout",
          "output_type": "stream",
          "text": [
            "True\n"
          ]
        }
      ],
      "source": [
        "X = generate_symmetric_matrix(5)\n",
        "Y = X.copy()\n",
        "print(np.array_equal(X,Y))"
      ]
    },
    {
      "cell_type": "code",
      "execution_count": 54,
      "metadata": {},
      "outputs": [
        {
          "name": "stdout",
          "output_type": "stream",
          "text": [
            "9.000000000000002\n"
          ]
        }
      ],
      "source": [
        "print(dgh.upper(X,Y, iter_budget=100))"
      ]
    },
    {
      "cell_type": "code",
      "execution_count": 62,
      "metadata": {},
      "outputs": [
        {
          "name": "stdout",
          "output_type": "stream",
          "text": [
            "break\n",
            "s\n"
          ]
        },
        {
          "data": {
            "text/plain": [
              "0.0"
            ]
          },
          "execution_count": 62,
          "metadata": {},
          "output_type": "execute_result"
        }
      ],
      "source": [
        "compute_dgh_fire(X,Y)"
      ]
    },
    {
      "cell_type": "code",
      "execution_count": 108,
      "metadata": {},
      "outputs": [
        {
          "name": "stdout",
          "output_type": "stream",
          "text": [
            "True\n"
          ]
        }
      ],
      "source": [
        "X = generate_symmetric_matrix(8)\n",
        "Y = X.copy()\n",
        "print(np.array_equal(X,Y))"
      ]
    },
    {
      "cell_type": "code",
      "execution_count": 109,
      "metadata": {},
      "outputs": [
        {
          "name": "stdout",
          "output_type": "stream",
          "text": [
            "15.500000000000002\n"
          ]
        }
      ],
      "source": [
        "print(dgh.upper(X,Y, iter_budget=100))"
      ]
    },
    {
      "cell_type": "code",
      "execution_count": 113,
      "metadata": {},
      "outputs": [
        {
          "name": "stdout",
          "output_type": "stream",
          "text": [
            "500\n"
          ]
        },
        {
          "data": {
            "text/plain": [
              "15.0"
            ]
          },
          "execution_count": 113,
          "metadata": {},
          "output_type": "execute_result"
        }
      ],
      "source": [
        "compute_dgh_fire(X,Y, num_tries=500)"
      ]
    },
    {
      "cell_type": "code",
      "execution_count": 120,
      "metadata": {},
      "outputs": [
        {
          "name": "stdout",
          "output_type": "stream",
          "text": [
            "s\n",
            "0\n"
          ]
        },
        {
          "data": {
            "text/plain": [
              "0.0"
            ]
          },
          "execution_count": 120,
          "metadata": {},
          "output_type": "execute_result"
        }
      ],
      "source": [
        "compute_dgh_fire(X,Y, num_tries=50)"
      ]
    },
    {
      "cell_type": "code",
      "execution_count": 6,
      "metadata": {},
      "outputs": [
        {
          "name": "stdout",
          "output_type": "stream",
          "text": [
            "True\n"
          ]
        }
      ],
      "source": [
        "X = generate_symmetric_matrix(5)\n",
        "Y = X.copy()\n",
        "print(np.array_equal(X,Y))"
      ]
    },
    {
      "cell_type": "code",
      "execution_count": 7,
      "metadata": {},
      "outputs": [
        {
          "data": {
            "text/plain": [
              "0.0"
            ]
          },
          "execution_count": 7,
          "metadata": {},
          "output_type": "execute_result"
        }
      ],
      "source": [
        "dgh.upper(X,Y)"
      ]
    },
    {
      "cell_type": "code",
      "execution_count": null,
      "metadata": {},
      "outputs": [],
      "source": [
        "import numpy as np\n",
        "\n",
        "def generate_solution(n, m):\n",
        "  \n",
        "    p1 = np.random.choice(m, size = n)  # Индексы для первого блока\n",
        "    p2 = np.random.choice(n, size = m)  # Индексы для второго блока\n",
        "    return p1, p2\n"
      ]
    },
    {
      "cell_type": "code",
      "execution_count": 58,
      "metadata": {},
      "outputs": [],
      "source": [
        "import numpy as np\n",
        "\n",
        "def build_matrix(p1, p2, nxn_zeros, mxm_zeros):\n",
        "    \"\"\"\n",
        "    Generates random soft mapping in X🠖Y as a point in the bi-mapping polytope 𝓢.\n",
        "\n",
        "    :param n: cardinality of X (int)\n",
        "    :param m: cardinality of Y (int)\n",
        "    :param rnd: NumPy random state\n",
        "    :return: soft mapping pair S ∈ 𝓢  (2d-array)\n",
        "    \"\"\"\n",
        "    F = np.zeros((n, m), dtype=int)\n",
        "    row_indices = np.arange(n)\n",
        "    #print(F.shape, row_indices, p2)\n",
        "    F[row_indices, p1] = 1 \n",
        "\n",
        "    G = np.zeros((m, n), dtype=int)\n",
        "    row_indices = np.arange(m)\n",
        "    #print(G.shape, row_indices, p1)\n",
        "    G[row_indices, p2] = 1 \n",
        "    \n",
        "    R = np.block([[F, nxn_zeros], [mxm_zeros, G]])\n",
        "\n",
        "    return R\n",
        "\n"
      ]
    },
    {
      "cell_type": "code",
      "execution_count": 65,
      "metadata": {},
      "outputs": [],
      "source": [
        "n, m = 3,3\n",
        "nxn_zeros, mxm_zeros = (np.zeros((size, size)) for size in [n, m])"
      ]
    },
    {
      "cell_type": "code",
      "execution_count": 66,
      "metadata": {},
      "outputs": [
        {
          "name": "stdout",
          "output_type": "stream",
          "text": [
            "[0 0 2] [0 0 0 2]\n"
          ]
        }
      ],
      "source": [
        "print(p1,p2)"
      ]
    },
    {
      "cell_type": "code",
      "execution_count": 67,
      "metadata": {},
      "outputs": [
        {
          "data": {
            "text/plain": [
              "array([[1., 0., 0., 0., 0., 0.],\n",
              "       [1., 0., 0., 0., 0., 0.],\n",
              "       [0., 0., 1., 0., 0., 0.],\n",
              "       [0., 0., 0., 0., 0., 1.],\n",
              "       [0., 0., 0., 0., 0., 1.],\n",
              "       [0., 0., 0., 1., 0., 0.]])"
            ]
          },
          "execution_count": 67,
          "metadata": {},
          "output_type": "execute_result"
        }
      ],
      "source": [
        "p1, p2 = generate_solution(n,m)\n",
        "build_matrix(p1,p2, nxn_zeros, mxm_zeros)"
      ]
    },
    {
      "cell_type": "code",
      "execution_count": 91,
      "metadata": {},
      "outputs": [],
      "source": [
        "import numpy as np\n",
        "\n",
        "def dis(R, V, U, W):\n",
        " \n",
        "    R_W = R @ W\n",
        "\n",
        "    dis_R = np.abs(V - R @ U @ R.T + R_W - R_W.T).max()\n",
        "\n",
        "    return dis_R\n",
        "\n",
        "def build_matrix(p1, p2, nxn_zeros, mxm_zeros):\n",
        "\n",
        "    n, m = len(p1), len(p2)\n",
        "    \n",
        "    F = np.zeros((n, m), dtype=int)\n",
        "    row_indices = np.arange(n)\n",
        "    F[row_indices, p1] = 1 \n",
        "\n",
        "    G = np.zeros((m, n), dtype=int)\n",
        "    row_indices = np.arange(m)\n",
        "    G[row_indices, p2] = 1 \n",
        "    \n",
        "    R = np.block([[F, nxn_zeros], [mxm_zeros, G]])\n",
        "\n",
        "    return R\n",
        "\n",
        "class AntColonyMatrix:\n",
        "    def __init__(self, X, Y, alpha=1, rho=0.1, Q=1):\n",
        "        n = X.shape[0]\n",
        "        m = Y.shape[1]\n",
        "        nxm_zeros = np.zeros((n,m))\n",
        "        mxn_zeros = np.zeros((m,n))\n",
        "        self.V = np.block([[X, nxm_zeros], [mxn_zeros, Y]])\n",
        "        self.U = np.block([[Y, mxn_zeros], [nxm_zeros, X]])\n",
        "        self.W = np.block([[mxn_zeros, Y], [X, nxm_zeros]])\n",
        "        self.nxn_zeros, self.mxm_zeros = (np.zeros((size, size)) for size in [n, m])\n",
        "        self.n = n\n",
        "        self.m = m\n",
        "        self.alpha = alpha\n",
        "        self.rho = rho\n",
        "        self.Q = Q\n",
        "        self.tau_left = np.ones((n, m)) \n",
        "        self.tau_right = np.ones((m, n))\n",
        "        rad_X = np.min(X.max(axis=0))       \n",
        "        rad_Y = np.min(Y.max(axis=0))\n",
        "        self.lb = max(abs(X.max() - Y.max()), abs(rad_X - rad_Y))\n",
        "\n",
        "    def select_column(self, tau_row):\n",
        "        \"\"\"Выбирает столбец на основе вероятностей\"\"\"\n",
        "        probs = tau_row ** self.alpha\n",
        "        probs /= probs.sum()\n",
        "        return np.random.choice(len(probs), p=probs)\n",
        "\n",
        "    def construct_solution(self):\n",
        "        \"\"\"Создает одну матрицу (2 перестановки) на основе вероятностей\"\"\"\n",
        "        p1 = [self.select_column(self.tau_left[i]) for i in range(self.n)]\n",
        "        p2 = [self.select_column(self.tau_right[i]) for i in range(self.m)]\n",
        "        return np.array(p1), np.array(p2)\n",
        "\n",
        "    def update_pheromones(self, best_solutions, best_fitnesses):\n",
        "        self.tau_left *= (1 - self.rho)\n",
        "        self.tau_right *= (1 - self.rho)\n",
        "        for (p1, p2), fitness in zip(best_solutions, best_fitnesses):\n",
        "            for i in range(self.n):\n",
        "                self.tau_left[i, p1[i]] += self.Q / fitness\n",
        "            for i in range (self.m):\n",
        "                self.tau_right[i, p2[i]] += self.Q / fitness\n",
        "\n",
        "    def run(self, num_iterations=100, num_ants=10, num_best=3):\n",
        "        best_solution = None\n",
        "        best_fitness = float('inf')\n",
        "    \n",
        "\n",
        "        for iteration in range(num_iterations):\n",
        "            solutions = [self.construct_solution() for _ in range(num_ants)]\n",
        "            fitnesses = [dis(build_matrix(s[0],s[1],self.nxn_zeros, self.mxm_zeros), self.V, self.U, self.W) for s in solutions]\n",
        "\n",
        "            sorted_idx = np.argsort(fitnesses)\n",
        "            best_solutions = [solutions[i] for i in sorted_idx[:num_best]]\n",
        "            best_fitnesses = [fitnesses[i] for i in sorted_idx[:num_best]]\n",
        "\n",
        "            if abs(best_fitnesses[0] - self.lb) <= 1e-1:\n",
        "                print(\"GAP\")\n",
        "                return best_fitnesses[0]\n",
        "\n",
        "            self.update_pheromones(best_solutions, best_fitnesses)\n",
        "\n",
        "            if best_fitnesses[0] < best_fitness:\n",
        "                best_solution = best_solutions[0]\n",
        "                best_fitness = best_fitnesses[0]\n",
        "\n",
        "            print(f\"Итерация {iteration+1}: лучший fitness = {best_fitness}\")\n",
        "            \n",
        "\n",
        "        return best_fitness\n"
      ]
    },
    {
      "cell_type": "code",
      "execution_count": null,
      "metadata": {},
      "outputs": [],
      "source": [
        "import numpy as np\n",
        "np.random.seed(42)\n",
        "\n",
        "def generate_symmetric_matrix(size, min_val=1, max_val=100):\n",
        "    \n",
        "    matrix = np.random.randint(min_val, max_val + 1, size=(size, size))\n",
        "    symmetric_matrix = (matrix + matrix.T) / 2\n",
        "    np.fill_diagonal(symmetric_matrix, 0.0)\n",
        "    return symmetric_matrix\n"
      ]
    },
    {
      "cell_type": "code",
      "execution_count": 26,
      "metadata": {},
      "outputs": [],
      "source": [
        "X = generate_symmetric_matrix(3)\n",
        "Y = X.copy()"
      ]
    },
    {
      "cell_type": "code",
      "execution_count": 92,
      "metadata": {},
      "outputs": [],
      "source": [
        "ants = AntColonyMatrix(X,Y)"
      ]
    },
    {
      "cell_type": "code",
      "execution_count": null,
      "metadata": {},
      "outputs": [
        {
          "name": "stdout",
          "output_type": "stream",
          "text": [
            "Итерация 1: лучший fitness = 47.0\n",
            "Итерация 2: лучший fitness = 47.0\n",
            "Итерация 3: лучший fitness = 47.0\n",
            "Итерация 4: лучший fitness = 47.0\n",
            "Итерация 5: лучший fitness = 47.0\n",
            "Итерация 6: лучший fitness = 47.0\n",
            "Итерация 7: лучший fitness = 47.0\n",
            "Итерация 8: лучший fitness = 47.0\n",
            "Итерация 9: лучший fitness = 47.0\n",
            "Итерация 10: лучший fitness = 47.0\n",
            "Итерация 11: лучший fitness = 30.5\n",
            "GAP\n"
          ]
        }
      ],
      "source": [
        "z = ants.run(num_best=5)"
      ]
    },
    {
      "cell_type": "code",
      "execution_count": 94,
      "metadata": {},
      "outputs": [
        {
          "data": {
            "text/plain": [
              "0.0"
            ]
          },
          "execution_count": 94,
          "metadata": {},
          "output_type": "execute_result"
        }
      ],
      "source": [
        "z"
      ]
    },
    {
      "cell_type": "code",
      "execution_count": 95,
      "metadata": {},
      "outputs": [],
      "source": [
        "X = generate_symmetric_matrix(3)\n",
        "Y = X.copy()"
      ]
    },
    {
      "cell_type": "code",
      "execution_count": 96,
      "metadata": {},
      "outputs": [],
      "source": [
        "ants = AntColonyMatrix(X,Y)"
      ]
    },
    {
      "cell_type": "code",
      "execution_count": 97,
      "metadata": {},
      "outputs": [
        {
          "name": "stdout",
          "output_type": "stream",
          "text": [
            "Итерация 1: лучший fitness = 45.5\n",
            "Итерация 2: лучший fitness = 24.5\n",
            "Итерация 3: лучший fitness = 24.5\n",
            "Итерация 4: лучший fitness = 24.5\n",
            "Итерация 5: лучший fitness = 24.5\n",
            "Итерация 6: лучший fitness = 24.5\n",
            "Итерация 7: лучший fitness = 24.5\n",
            "Итерация 8: лучший fitness = 24.5\n",
            "Итерация 9: лучший fitness = 24.5\n",
            "Итерация 10: лучший fitness = 24.5\n",
            "Итерация 11: лучший fitness = 24.5\n",
            "Итерация 12: лучший fitness = 24.5\n",
            "Итерация 13: лучший fitness = 24.5\n",
            "Итерация 14: лучший fitness = 24.5\n",
            "Итерация 15: лучший fitness = 24.5\n",
            "Итерация 16: лучший fitness = 24.5\n",
            "Итерация 17: лучший fitness = 24.5\n",
            "Итерация 18: лучший fitness = 24.5\n",
            "Итерация 19: лучший fitness = 24.5\n",
            "Итерация 20: лучший fitness = 24.5\n",
            "Итерация 21: лучший fitness = 24.5\n",
            "Итерация 22: лучший fitness = 24.5\n",
            "Итерация 23: лучший fitness = 24.5\n",
            "Итерация 24: лучший fitness = 24.5\n",
            "Итерация 25: лучший fitness = 24.5\n",
            "Итерация 26: лучший fitness = 24.5\n",
            "Итерация 27: лучший fitness = 24.5\n",
            "Итерация 28: лучший fitness = 24.5\n",
            "Итерация 29: лучший fitness = 24.5\n",
            "Итерация 30: лучший fitness = 24.5\n",
            "Итерация 31: лучший fitness = 24.5\n",
            "Итерация 32: лучший fitness = 24.5\n",
            "Итерация 33: лучший fitness = 24.5\n",
            "Итерация 34: лучший fitness = 24.5\n",
            "Итерация 35: лучший fitness = 24.5\n",
            "GAP\n"
          ]
        },
        {
          "data": {
            "text/plain": [
              "0.0"
            ]
          },
          "execution_count": 97,
          "metadata": {},
          "output_type": "execute_result"
        }
      ],
      "source": [
        "ants.run(num_best=5)"
      ]
    },
    {
      "cell_type": "code",
      "execution_count": 98,
      "metadata": {},
      "outputs": [
        {
          "name": "stdout",
          "output_type": "stream",
          "text": [
            "Итерация 1: лучший fitness = 75.0\n",
            "Итерация 2: лучший fitness = 75.0\n",
            "Итерация 3: лучший fitness = 73.5\n",
            "Итерация 4: лучший fitness = 57.0\n",
            "Итерация 5: лучший fitness = 57.0\n",
            "Итерация 6: лучший fitness = 43.0\n",
            "Итерация 7: лучший fitness = 43.0\n",
            "Итерация 8: лучший fitness = 43.0\n",
            "Итерация 9: лучший fitness = 43.0\n",
            "Итерация 10: лучший fitness = 43.0\n",
            "Итерация 11: лучший fitness = 43.0\n",
            "Итерация 12: лучший fitness = 43.0\n",
            "Итерация 13: лучший fitness = 43.0\n",
            "Итерация 14: лучший fitness = 43.0\n",
            "Итерация 15: лучший fitness = 43.0\n",
            "Итерация 16: лучший fitness = 43.0\n",
            "Итерация 17: лучший fitness = 43.0\n",
            "Итерация 18: лучший fitness = 43.0\n",
            "Итерация 19: лучший fitness = 43.0\n",
            "Итерация 20: лучший fitness = 43.0\n",
            "Итерация 21: лучший fitness = 43.0\n",
            "Итерация 22: лучший fitness = 43.0\n",
            "Итерация 23: лучший fitness = 43.0\n",
            "Итерация 24: лучший fitness = 43.0\n",
            "Итерация 25: лучший fitness = 43.0\n",
            "Итерация 26: лучший fitness = 43.0\n",
            "Итерация 27: лучший fitness = 43.0\n",
            "Итерация 28: лучший fitness = 37.0\n",
            "Итерация 29: лучший fitness = 37.0\n",
            "Итерация 30: лучший fitness = 37.0\n",
            "Итерация 31: лучший fitness = 37.0\n",
            "Итерация 32: лучший fitness = 37.0\n",
            "Итерация 33: лучший fitness = 37.0\n",
            "Итерация 34: лучший fitness = 37.0\n",
            "Итерация 35: лучший fitness = 37.0\n",
            "Итерация 36: лучший fitness = 37.0\n",
            "Итерация 37: лучший fitness = 37.0\n",
            "Итерация 38: лучший fitness = 37.0\n",
            "Итерация 39: лучший fitness = 37.0\n",
            "Итерация 40: лучший fitness = 37.0\n",
            "Итерация 41: лучший fitness = 37.0\n",
            "Итерация 42: лучший fitness = 37.0\n",
            "Итерация 43: лучший fitness = 37.0\n",
            "Итерация 44: лучший fitness = 37.0\n",
            "Итерация 45: лучший fitness = 37.0\n",
            "Итерация 46: лучший fitness = 37.0\n",
            "Итерация 47: лучший fitness = 37.0\n",
            "Итерация 48: лучший fitness = 37.0\n",
            "Итерация 49: лучший fitness = 37.0\n",
            "Итерация 50: лучший fitness = 37.0\n",
            "Итерация 51: лучший fitness = 37.0\n",
            "Итерация 52: лучший fitness = 37.0\n",
            "Итерация 53: лучший fitness = 37.0\n",
            "Итерация 54: лучший fitness = 37.0\n",
            "Итерация 55: лучший fitness = 37.0\n",
            "Итерация 56: лучший fitness = 37.0\n",
            "Итерация 57: лучший fitness = 37.0\n",
            "Итерация 58: лучший fitness = 37.0\n",
            "Итерация 59: лучший fitness = 37.0\n",
            "Итерация 60: лучший fitness = 37.0\n",
            "Итерация 61: лучший fitness = 37.0\n",
            "Итерация 62: лучший fitness = 37.0\n",
            "Итерация 63: лучший fitness = 37.0\n",
            "Итерация 64: лучший fitness = 37.0\n",
            "Итерация 65: лучший fitness = 37.0\n",
            "Итерация 66: лучший fitness = 37.0\n",
            "Итерация 67: лучший fitness = 37.0\n",
            "Итерация 68: лучший fitness = 37.0\n",
            "Итерация 69: лучший fitness = 37.0\n",
            "Итерация 70: лучший fitness = 37.0\n",
            "Итерация 71: лучший fitness = 37.0\n",
            "Итерация 72: лучший fitness = 37.0\n",
            "Итерация 73: лучший fitness = 37.0\n",
            "Итерация 74: лучший fitness = 37.0\n",
            "Итерация 75: лучший fitness = 37.0\n",
            "Итерация 76: лучший fitness = 37.0\n",
            "Итерация 77: лучший fitness = 37.0\n",
            "Итерация 78: лучший fitness = 37.0\n",
            "Итерация 79: лучший fitness = 37.0\n",
            "Итерация 80: лучший fitness = 37.0\n",
            "Итерация 81: лучший fitness = 37.0\n",
            "Итерация 82: лучший fitness = 37.0\n",
            "Итерация 83: лучший fitness = 37.0\n",
            "Итерация 84: лучший fitness = 37.0\n",
            "Итерация 85: лучший fitness = 37.0\n",
            "Итерация 86: лучший fitness = 37.0\n",
            "Итерация 87: лучший fitness = 37.0\n",
            "Итерация 88: лучший fitness = 37.0\n",
            "Итерация 89: лучший fitness = 37.0\n",
            "Итерация 90: лучший fitness = 37.0\n",
            "Итерация 91: лучший fitness = 37.0\n",
            "Итерация 92: лучший fitness = 37.0\n",
            "GAP\n"
          ]
        },
        {
          "data": {
            "text/plain": [
              "0.0"
            ]
          },
          "execution_count": 98,
          "metadata": {},
          "output_type": "execute_result"
        }
      ],
      "source": [
        "X = generate_symmetric_matrix(4)\n",
        "Y = X.copy()\n",
        "ants = AntColonyMatrix(X,Y)\n",
        "ants.run(num_best=5)"
      ]
    },
    {
      "cell_type": "code",
      "execution_count": 105,
      "metadata": {},
      "outputs": [
        {
          "name": "stdout",
          "output_type": "stream",
          "text": [
            "Итерация 1: лучший fitness = 71.0\n",
            "Итерация 2: лучший fitness = 71.0\n",
            "Итерация 3: лучший fitness = 71.0\n",
            "Итерация 4: лучший fitness = 71.0\n",
            "Итерация 5: лучший fitness = 71.0\n",
            "Итерация 6: лучший fitness = 71.0\n",
            "Итерация 7: лучший fitness = 71.0\n",
            "Итерация 8: лучший fitness = 71.0\n",
            "Итерация 9: лучший fitness = 61.0\n",
            "Итерация 10: лучший fitness = 61.0\n",
            "Итерация 11: лучший fitness = 61.0\n",
            "Итерация 12: лучший fitness = 61.0\n",
            "Итерация 13: лучший fitness = 61.0\n",
            "Итерация 14: лучший fitness = 61.0\n",
            "Итерация 15: лучший fitness = 61.0\n",
            "Итерация 16: лучший fitness = 61.0\n",
            "Итерация 17: лучший fitness = 61.0\n",
            "Итерация 18: лучший fitness = 61.0\n",
            "Итерация 19: лучший fitness = 61.0\n",
            "Итерация 20: лучший fitness = 61.0\n",
            "Итерация 21: лучший fitness = 61.0\n",
            "Итерация 22: лучший fitness = 61.0\n",
            "Итерация 23: лучший fitness = 61.0\n",
            "Итерация 24: лучший fitness = 60.0\n",
            "Итерация 25: лучший fitness = 60.0\n",
            "Итерация 26: лучший fitness = 60.0\n",
            "Итерация 27: лучший fitness = 60.0\n",
            "Итерация 28: лучший fitness = 60.0\n",
            "Итерация 29: лучший fitness = 60.0\n",
            "Итерация 30: лучший fitness = 60.0\n",
            "Итерация 31: лучший fitness = 55.0\n",
            "Итерация 32: лучший fitness = 55.0\n",
            "Итерация 33: лучший fitness = 55.0\n",
            "Итерация 34: лучший fitness = 55.0\n",
            "Итерация 35: лучший fitness = 55.0\n",
            "Итерация 36: лучший fitness = 55.0\n",
            "Итерация 37: лучший fitness = 55.0\n",
            "Итерация 38: лучший fitness = 55.0\n",
            "Итерация 39: лучший fitness = 55.0\n",
            "Итерация 40: лучший fitness = 55.0\n",
            "Итерация 41: лучший fitness = 55.0\n",
            "Итерация 42: лучший fitness = 48.0\n",
            "Итерация 43: лучший fitness = 48.0\n",
            "Итерация 44: лучший fitness = 48.0\n",
            "Итерация 45: лучший fitness = 48.0\n",
            "Итерация 46: лучший fitness = 48.0\n",
            "Итерация 47: лучший fitness = 48.0\n",
            "Итерация 48: лучший fitness = 48.0\n",
            "Итерация 49: лучший fitness = 48.0\n",
            "Итерация 50: лучший fitness = 48.0\n",
            "Итерация 51: лучший fitness = 48.0\n",
            "Итерация 52: лучший fitness = 48.0\n",
            "Итерация 53: лучший fitness = 48.0\n",
            "Итерация 54: лучший fitness = 48.0\n",
            "Итерация 55: лучший fitness = 48.0\n",
            "Итерация 56: лучший fitness = 48.0\n",
            "Итерация 57: лучший fitness = 48.0\n",
            "Итерация 58: лучший fitness = 48.0\n",
            "Итерация 59: лучший fitness = 48.0\n",
            "Итерация 60: лучший fitness = 48.0\n",
            "Итерация 61: лучший fitness = 48.0\n",
            "Итерация 62: лучший fitness = 48.0\n",
            "Итерация 63: лучший fitness = 48.0\n",
            "Итерация 64: лучший fitness = 48.0\n",
            "Итерация 65: лучший fitness = 48.0\n",
            "Итерация 66: лучший fitness = 48.0\n",
            "Итерация 67: лучший fitness = 48.0\n",
            "Итерация 68: лучший fitness = 48.0\n",
            "Итерация 69: лучший fitness = 48.0\n",
            "Итерация 70: лучший fitness = 48.0\n",
            "Итерация 71: лучший fitness = 48.0\n",
            "Итерация 72: лучший fitness = 48.0\n",
            "Итерация 73: лучший fitness = 48.0\n",
            "Итерация 74: лучший fitness = 48.0\n",
            "Итерация 75: лучший fitness = 48.0\n",
            "Итерация 76: лучший fitness = 48.0\n",
            "Итерация 77: лучший fitness = 48.0\n",
            "Итерация 78: лучший fitness = 48.0\n",
            "Итерация 79: лучший fitness = 48.0\n",
            "Итерация 80: лучший fitness = 48.0\n",
            "Итерация 81: лучший fitness = 48.0\n",
            "Итерация 82: лучший fitness = 48.0\n",
            "Итерация 83: лучший fitness = 48.0\n",
            "Итерация 84: лучший fitness = 48.0\n",
            "Итерация 85: лучший fitness = 48.0\n",
            "Итерация 86: лучший fitness = 48.0\n",
            "Итерация 87: лучший fitness = 48.0\n",
            "Итерация 88: лучший fitness = 48.0\n",
            "Итерация 89: лучший fitness = 48.0\n",
            "Итерация 90: лучший fitness = 48.0\n",
            "Итерация 91: лучший fitness = 48.0\n",
            "Итерация 92: лучший fitness = 48.0\n",
            "Итерация 93: лучший fitness = 48.0\n",
            "Итерация 94: лучший fitness = 48.0\n",
            "Итерация 95: лучший fitness = 48.0\n",
            "Итерация 96: лучший fitness = 48.0\n",
            "Итерация 97: лучший fitness = 48.0\n",
            "Итерация 98: лучший fitness = 48.0\n",
            "Итерация 99: лучший fitness = 48.0\n",
            "Итерация 100: лучший fitness = 48.0\n",
            "Итерация 101: лучший fitness = 48.0\n",
            "Итерация 102: лучший fitness = 48.0\n",
            "Итерация 103: лучший fitness = 48.0\n",
            "Итерация 104: лучший fitness = 48.0\n",
            "Итерация 105: лучший fitness = 48.0\n",
            "Итерация 106: лучший fitness = 48.0\n",
            "Итерация 107: лучший fitness = 48.0\n",
            "Итерация 108: лучший fitness = 48.0\n",
            "Итерация 109: лучший fitness = 48.0\n",
            "Итерация 110: лучший fitness = 48.0\n",
            "Итерация 111: лучший fitness = 48.0\n",
            "Итерация 112: лучший fitness = 48.0\n",
            "Итерация 113: лучший fitness = 48.0\n",
            "Итерация 114: лучший fitness = 48.0\n",
            "Итерация 115: лучший fitness = 48.0\n",
            "Итерация 116: лучший fitness = 48.0\n",
            "Итерация 117: лучший fitness = 48.0\n",
            "Итерация 118: лучший fitness = 48.0\n",
            "Итерация 119: лучший fitness = 48.0\n",
            "Итерация 120: лучший fitness = 48.0\n",
            "Итерация 121: лучший fitness = 48.0\n",
            "Итерация 122: лучший fitness = 48.0\n",
            "Итерация 123: лучший fitness = 48.0\n",
            "Итерация 124: лучший fitness = 48.0\n",
            "Итерация 125: лучший fitness = 48.0\n",
            "Итерация 126: лучший fitness = 48.0\n",
            "Итерация 127: лучший fitness = 48.0\n",
            "Итерация 128: лучший fitness = 48.0\n",
            "Итерация 129: лучший fitness = 48.0\n",
            "Итерация 130: лучший fitness = 48.0\n",
            "Итерация 131: лучший fitness = 48.0\n",
            "Итерация 132: лучший fitness = 48.0\n",
            "Итерация 133: лучший fitness = 48.0\n",
            "Итерация 134: лучший fitness = 48.0\n",
            "Итерация 135: лучший fitness = 48.0\n",
            "Итерация 136: лучший fitness = 48.0\n",
            "Итерация 137: лучший fitness = 48.0\n",
            "Итерация 138: лучший fitness = 48.0\n",
            "Итерация 139: лучший fitness = 48.0\n",
            "Итерация 140: лучший fitness = 48.0\n",
            "Итерация 141: лучший fitness = 48.0\n",
            "Итерация 142: лучший fitness = 48.0\n",
            "Итерация 143: лучший fitness = 48.0\n",
            "Итерация 144: лучший fitness = 48.0\n",
            "Итерация 145: лучший fitness = 48.0\n",
            "Итерация 146: лучший fitness = 48.0\n",
            "Итерация 147: лучший fitness = 48.0\n",
            "Итерация 148: лучший fitness = 48.0\n",
            "Итерация 149: лучший fitness = 48.0\n",
            "Итерация 150: лучший fitness = 48.0\n",
            "Итерация 151: лучший fitness = 48.0\n",
            "Итерация 152: лучший fitness = 48.0\n",
            "Итерация 153: лучший fitness = 48.0\n",
            "Итерация 154: лучший fitness = 48.0\n",
            "Итерация 155: лучший fitness = 48.0\n",
            "Итерация 156: лучший fitness = 48.0\n",
            "Итерация 157: лучший fitness = 48.0\n",
            "Итерация 158: лучший fitness = 48.0\n",
            "Итерация 159: лучший fitness = 48.0\n",
            "Итерация 160: лучший fitness = 48.0\n",
            "Итерация 161: лучший fitness = 48.0\n",
            "Итерация 162: лучший fitness = 48.0\n",
            "Итерация 163: лучший fitness = 48.0\n",
            "Итерация 164: лучший fitness = 48.0\n",
            "Итерация 165: лучший fitness = 48.0\n",
            "Итерация 166: лучший fitness = 48.0\n",
            "Итерация 167: лучший fitness = 48.0\n",
            "Итерация 168: лучший fitness = 48.0\n",
            "Итерация 169: лучший fitness = 48.0\n",
            "Итерация 170: лучший fitness = 48.0\n",
            "Итерация 171: лучший fitness = 48.0\n",
            "Итерация 172: лучший fitness = 48.0\n",
            "Итерация 173: лучший fitness = 48.0\n",
            "Итерация 174: лучший fitness = 48.0\n",
            "Итерация 175: лучший fitness = 48.0\n",
            "Итерация 176: лучший fitness = 48.0\n",
            "Итерация 177: лучший fitness = 48.0\n",
            "Итерация 178: лучший fitness = 48.0\n",
            "Итерация 179: лучший fitness = 48.0\n",
            "Итерация 180: лучший fitness = 48.0\n",
            "Итерация 181: лучший fitness = 48.0\n",
            "Итерация 182: лучший fitness = 48.0\n",
            "Итерация 183: лучший fitness = 48.0\n",
            "Итерация 184: лучший fitness = 48.0\n",
            "Итерация 185: лучший fitness = 48.0\n",
            "Итерация 186: лучший fitness = 48.0\n",
            "Итерация 187: лучший fitness = 48.0\n",
            "Итерация 188: лучший fitness = 48.0\n",
            "Итерация 189: лучший fitness = 48.0\n",
            "Итерация 190: лучший fitness = 48.0\n",
            "Итерация 191: лучший fitness = 48.0\n",
            "Итерация 192: лучший fitness = 48.0\n",
            "Итерация 193: лучший fitness = 48.0\n",
            "Итерация 194: лучший fitness = 48.0\n",
            "Итерация 195: лучший fitness = 48.0\n",
            "Итерация 196: лучший fitness = 48.0\n",
            "Итерация 197: лучший fitness = 48.0\n",
            "Итерация 198: лучший fitness = 48.0\n",
            "Итерация 199: лучший fitness = 48.0\n",
            "Итерация 200: лучший fitness = 48.0\n",
            "Итерация 201: лучший fitness = 48.0\n",
            "Итерация 202: лучший fitness = 48.0\n",
            "Итерация 203: лучший fitness = 48.0\n",
            "Итерация 204: лучший fitness = 48.0\n",
            "Итерация 205: лучший fitness = 48.0\n",
            "Итерация 206: лучший fitness = 48.0\n",
            "Итерация 207: лучший fitness = 48.0\n",
            "Итерация 208: лучший fitness = 48.0\n",
            "Итерация 209: лучший fitness = 48.0\n",
            "Итерация 210: лучший fitness = 48.0\n",
            "Итерация 211: лучший fitness = 48.0\n",
            "Итерация 212: лучший fitness = 48.0\n",
            "Итерация 213: лучший fitness = 48.0\n",
            "Итерация 214: лучший fitness = 48.0\n",
            "Итерация 215: лучший fitness = 48.0\n",
            "Итерация 216: лучший fitness = 48.0\n",
            "Итерация 217: лучший fitness = 48.0\n",
            "Итерация 218: лучший fitness = 48.0\n",
            "Итерация 219: лучший fitness = 48.0\n",
            "Итерация 220: лучший fitness = 48.0\n",
            "Итерация 221: лучший fitness = 48.0\n",
            "Итерация 222: лучший fitness = 48.0\n",
            "Итерация 223: лучший fitness = 48.0\n",
            "Итерация 224: лучший fitness = 48.0\n",
            "Итерация 225: лучший fitness = 48.0\n",
            "Итерация 226: лучший fitness = 48.0\n",
            "Итерация 227: лучший fitness = 48.0\n",
            "Итерация 228: лучший fitness = 48.0\n",
            "Итерация 229: лучший fitness = 48.0\n",
            "Итерация 230: лучший fitness = 48.0\n",
            "Итерация 231: лучший fitness = 48.0\n",
            "Итерация 232: лучший fitness = 48.0\n",
            "Итерация 233: лучший fitness = 48.0\n",
            "Итерация 234: лучший fitness = 48.0\n",
            "Итерация 235: лучший fitness = 48.0\n",
            "Итерация 236: лучший fitness = 48.0\n",
            "Итерация 237: лучший fitness = 48.0\n",
            "Итерация 238: лучший fitness = 48.0\n",
            "Итерация 239: лучший fitness = 48.0\n",
            "Итерация 240: лучший fitness = 48.0\n",
            "Итерация 241: лучший fitness = 48.0\n",
            "Итерация 242: лучший fitness = 48.0\n",
            "Итерация 243: лучший fitness = 48.0\n",
            "Итерация 244: лучший fitness = 48.0\n",
            "Итерация 245: лучший fitness = 48.0\n",
            "Итерация 246: лучший fitness = 48.0\n",
            "Итерация 247: лучший fitness = 48.0\n",
            "Итерация 248: лучший fitness = 48.0\n",
            "Итерация 249: лучший fitness = 48.0\n",
            "Итерация 250: лучший fitness = 48.0\n",
            "Итерация 251: лучший fitness = 48.0\n",
            "Итерация 252: лучший fitness = 48.0\n",
            "Итерация 253: лучший fitness = 48.0\n",
            "Итерация 254: лучший fitness = 48.0\n",
            "Итерация 255: лучший fitness = 48.0\n",
            "Итерация 256: лучший fitness = 48.0\n",
            "Итерация 257: лучший fitness = 48.0\n",
            "Итерация 258: лучший fitness = 48.0\n",
            "Итерация 259: лучший fitness = 48.0\n",
            "Итерация 260: лучший fitness = 48.0\n",
            "Итерация 261: лучший fitness = 48.0\n",
            "Итерация 262: лучший fitness = 48.0\n",
            "Итерация 263: лучший fitness = 48.0\n",
            "Итерация 264: лучший fitness = 48.0\n",
            "Итерация 265: лучший fitness = 48.0\n",
            "Итерация 266: лучший fitness = 48.0\n",
            "Итерация 267: лучший fitness = 48.0\n",
            "Итерация 268: лучший fitness = 48.0\n",
            "Итерация 269: лучший fitness = 48.0\n",
            "Итерация 270: лучший fitness = 48.0\n",
            "Итерация 271: лучший fitness = 48.0\n",
            "Итерация 272: лучший fitness = 48.0\n",
            "Итерация 273: лучший fitness = 48.0\n",
            "Итерация 274: лучший fitness = 48.0\n",
            "Итерация 275: лучший fitness = 48.0\n",
            "Итерация 276: лучший fitness = 48.0\n",
            "Итерация 277: лучший fitness = 48.0\n",
            "Итерация 278: лучший fitness = 48.0\n",
            "Итерация 279: лучший fitness = 48.0\n",
            "Итерация 280: лучший fitness = 48.0\n",
            "Итерация 281: лучший fitness = 48.0\n",
            "Итерация 282: лучший fitness = 48.0\n",
            "Итерация 283: лучший fitness = 48.0\n",
            "Итерация 284: лучший fitness = 48.0\n",
            "Итерация 285: лучший fitness = 48.0\n",
            "Итерация 286: лучший fitness = 48.0\n",
            "Итерация 287: лучший fitness = 48.0\n",
            "Итерация 288: лучший fitness = 48.0\n",
            "Итерация 289: лучший fitness = 48.0\n",
            "Итерация 290: лучший fitness = 48.0\n",
            "Итерация 291: лучший fitness = 48.0\n",
            "Итерация 292: лучший fitness = 48.0\n",
            "Итерация 293: лучший fitness = 48.0\n",
            "Итерация 294: лучший fitness = 48.0\n",
            "Итерация 295: лучший fitness = 48.0\n",
            "Итерация 296: лучший fitness = 48.0\n",
            "Итерация 297: лучший fitness = 48.0\n",
            "Итерация 298: лучший fitness = 48.0\n",
            "Итерация 299: лучший fitness = 48.0\n",
            "Итерация 300: лучший fitness = 48.0\n",
            "Итерация 301: лучший fitness = 48.0\n",
            "Итерация 302: лучший fitness = 48.0\n",
            "Итерация 303: лучший fitness = 48.0\n",
            "Итерация 304: лучший fitness = 48.0\n",
            "Итерация 305: лучший fitness = 48.0\n",
            "Итерация 306: лучший fitness = 48.0\n",
            "Итерация 307: лучший fitness = 48.0\n",
            "Итерация 308: лучший fitness = 48.0\n",
            "Итерация 309: лучший fitness = 48.0\n",
            "Итерация 310: лучший fitness = 48.0\n",
            "Итерация 311: лучший fitness = 48.0\n",
            "Итерация 312: лучший fitness = 48.0\n",
            "Итерация 313: лучший fitness = 48.0\n",
            "Итерация 314: лучший fitness = 48.0\n",
            "Итерация 315: лучший fitness = 48.0\n",
            "Итерация 316: лучший fitness = 48.0\n",
            "Итерация 317: лучший fitness = 48.0\n",
            "Итерация 318: лучший fitness = 48.0\n",
            "Итерация 319: лучший fitness = 48.0\n",
            "Итерация 320: лучший fitness = 48.0\n",
            "Итерация 321: лучший fitness = 48.0\n",
            "Итерация 322: лучший fitness = 48.0\n",
            "Итерация 323: лучший fitness = 48.0\n",
            "Итерация 324: лучший fitness = 48.0\n",
            "Итерация 325: лучший fitness = 48.0\n",
            "Итерация 326: лучший fitness = 48.0\n",
            "Итерация 327: лучший fitness = 48.0\n",
            "Итерация 328: лучший fitness = 48.0\n",
            "Итерация 329: лучший fitness = 48.0\n",
            "Итерация 330: лучший fitness = 48.0\n",
            "Итерация 331: лучший fitness = 48.0\n",
            "Итерация 332: лучший fitness = 48.0\n",
            "Итерация 333: лучший fitness = 48.0\n",
            "Итерация 334: лучший fitness = 48.0\n",
            "Итерация 335: лучший fitness = 48.0\n",
            "Итерация 336: лучший fitness = 48.0\n",
            "Итерация 337: лучший fitness = 48.0\n",
            "Итерация 338: лучший fitness = 48.0\n",
            "Итерация 339: лучший fitness = 48.0\n",
            "Итерация 340: лучший fitness = 48.0\n",
            "Итерация 341: лучший fitness = 48.0\n",
            "Итерация 342: лучший fitness = 48.0\n",
            "Итерация 343: лучший fitness = 48.0\n",
            "Итерация 344: лучший fitness = 48.0\n",
            "Итерация 345: лучший fitness = 48.0\n",
            "Итерация 346: лучший fitness = 48.0\n",
            "Итерация 347: лучший fitness = 48.0\n",
            "Итерация 348: лучший fitness = 48.0\n",
            "Итерация 349: лучший fitness = 48.0\n",
            "Итерация 350: лучший fitness = 48.0\n",
            "Итерация 351: лучший fitness = 48.0\n",
            "Итерация 352: лучший fitness = 48.0\n",
            "Итерация 353: лучший fitness = 48.0\n",
            "Итерация 354: лучший fitness = 48.0\n",
            "Итерация 355: лучший fitness = 48.0\n",
            "Итерация 356: лучший fitness = 48.0\n",
            "Итерация 357: лучший fitness = 48.0\n",
            "Итерация 358: лучший fitness = 48.0\n",
            "Итерация 359: лучший fitness = 48.0\n",
            "Итерация 360: лучший fitness = 48.0\n",
            "Итерация 361: лучший fitness = 48.0\n",
            "Итерация 362: лучший fitness = 48.0\n",
            "Итерация 363: лучший fitness = 48.0\n",
            "Итерация 364: лучший fitness = 48.0\n",
            "Итерация 365: лучший fitness = 48.0\n",
            "Итерация 366: лучший fitness = 48.0\n",
            "Итерация 367: лучший fitness = 48.0\n",
            "Итерация 368: лучший fitness = 48.0\n",
            "Итерация 369: лучший fitness = 48.0\n",
            "Итерация 370: лучший fitness = 48.0\n",
            "Итерация 371: лучший fitness = 48.0\n",
            "Итерация 372: лучший fitness = 48.0\n",
            "Итерация 373: лучший fitness = 48.0\n",
            "Итерация 374: лучший fitness = 48.0\n",
            "Итерация 375: лучший fitness = 48.0\n",
            "Итерация 376: лучший fitness = 48.0\n",
            "Итерация 377: лучший fitness = 48.0\n",
            "Итерация 378: лучший fitness = 48.0\n",
            "Итерация 379: лучший fitness = 48.0\n",
            "Итерация 380: лучший fitness = 48.0\n",
            "Итерация 381: лучший fitness = 48.0\n",
            "Итерация 382: лучший fitness = 48.0\n",
            "Итерация 383: лучший fitness = 48.0\n",
            "Итерация 384: лучший fitness = 48.0\n",
            "Итерация 385: лучший fitness = 48.0\n",
            "Итерация 386: лучший fitness = 48.0\n",
            "Итерация 387: лучший fitness = 48.0\n",
            "Итерация 388: лучший fitness = 48.0\n",
            "Итерация 389: лучший fitness = 48.0\n",
            "Итерация 390: лучший fitness = 48.0\n",
            "Итерация 391: лучший fitness = 48.0\n",
            "Итерация 392: лучший fitness = 48.0\n",
            "Итерация 393: лучший fitness = 48.0\n",
            "Итерация 394: лучший fitness = 48.0\n",
            "Итерация 395: лучший fitness = 48.0\n",
            "Итерация 396: лучший fitness = 48.0\n",
            "Итерация 397: лучший fitness = 48.0\n",
            "Итерация 398: лучший fitness = 48.0\n",
            "Итерация 399: лучший fitness = 48.0\n",
            "Итерация 400: лучший fitness = 48.0\n",
            "Итерация 401: лучший fitness = 48.0\n",
            "Итерация 402: лучший fitness = 48.0\n",
            "Итерация 403: лучший fitness = 48.0\n",
            "Итерация 404: лучший fitness = 48.0\n",
            "Итерация 405: лучший fitness = 48.0\n",
            "Итерация 406: лучший fitness = 48.0\n",
            "Итерация 407: лучший fitness = 48.0\n",
            "Итерация 408: лучший fitness = 48.0\n",
            "Итерация 409: лучший fitness = 48.0\n",
            "Итерация 410: лучший fitness = 48.0\n",
            "Итерация 411: лучший fitness = 48.0\n",
            "Итерация 412: лучший fitness = 48.0\n",
            "Итерация 413: лучший fitness = 48.0\n",
            "Итерация 414: лучший fitness = 48.0\n",
            "Итерация 415: лучший fitness = 48.0\n",
            "Итерация 416: лучший fitness = 48.0\n",
            "Итерация 417: лучший fitness = 48.0\n",
            "Итерация 418: лучший fitness = 48.0\n",
            "Итерация 419: лучший fitness = 48.0\n",
            "Итерация 420: лучший fitness = 48.0\n",
            "Итерация 421: лучший fitness = 48.0\n",
            "Итерация 422: лучший fitness = 48.0\n",
            "Итерация 423: лучший fitness = 48.0\n",
            "Итерация 424: лучший fitness = 48.0\n",
            "Итерация 425: лучший fitness = 48.0\n",
            "Итерация 426: лучший fitness = 48.0\n",
            "Итерация 427: лучший fitness = 48.0\n",
            "Итерация 428: лучший fitness = 48.0\n",
            "Итерация 429: лучший fitness = 48.0\n",
            "Итерация 430: лучший fitness = 48.0\n",
            "Итерация 431: лучший fitness = 48.0\n",
            "Итерация 432: лучший fitness = 48.0\n",
            "Итерация 433: лучший fitness = 48.0\n",
            "Итерация 434: лучший fitness = 48.0\n",
            "Итерация 435: лучший fitness = 48.0\n",
            "Итерация 436: лучший fitness = 48.0\n",
            "Итерация 437: лучший fitness = 48.0\n",
            "Итерация 438: лучший fitness = 48.0\n",
            "Итерация 439: лучший fitness = 48.0\n",
            "Итерация 440: лучший fitness = 48.0\n",
            "Итерация 441: лучший fitness = 48.0\n",
            "Итерация 442: лучший fitness = 48.0\n",
            "Итерация 443: лучший fitness = 48.0\n",
            "Итерация 444: лучший fitness = 48.0\n",
            "Итерация 445: лучший fitness = 48.0\n",
            "Итерация 446: лучший fitness = 48.0\n",
            "Итерация 447: лучший fitness = 48.0\n",
            "Итерация 448: лучший fitness = 48.0\n",
            "Итерация 449: лучший fitness = 48.0\n",
            "Итерация 450: лучший fitness = 48.0\n",
            "Итерация 451: лучший fitness = 48.0\n",
            "Итерация 452: лучший fitness = 48.0\n",
            "Итерация 453: лучший fitness = 48.0\n",
            "Итерация 454: лучший fitness = 48.0\n",
            "Итерация 455: лучший fitness = 48.0\n",
            "Итерация 456: лучший fitness = 48.0\n",
            "Итерация 457: лучший fitness = 48.0\n",
            "Итерация 458: лучший fitness = 48.0\n",
            "Итерация 459: лучший fitness = 48.0\n",
            "Итерация 460: лучший fitness = 48.0\n",
            "Итерация 461: лучший fitness = 48.0\n",
            "Итерация 462: лучший fitness = 48.0\n",
            "Итерация 463: лучший fitness = 48.0\n",
            "Итерация 464: лучший fitness = 48.0\n",
            "Итерация 465: лучший fitness = 48.0\n",
            "Итерация 466: лучший fitness = 48.0\n",
            "Итерация 467: лучший fitness = 48.0\n",
            "Итерация 468: лучший fitness = 48.0\n",
            "Итерация 469: лучший fitness = 48.0\n",
            "Итерация 470: лучший fitness = 48.0\n",
            "Итерация 471: лучший fitness = 48.0\n",
            "Итерация 472: лучший fitness = 48.0\n",
            "Итерация 473: лучший fitness = 48.0\n",
            "Итерация 474: лучший fitness = 48.0\n",
            "Итерация 475: лучший fitness = 48.0\n",
            "Итерация 476: лучший fitness = 48.0\n",
            "Итерация 477: лучший fitness = 48.0\n",
            "Итерация 478: лучший fitness = 48.0\n",
            "Итерация 479: лучший fitness = 48.0\n",
            "Итерация 480: лучший fitness = 48.0\n",
            "Итерация 481: лучший fitness = 48.0\n",
            "Итерация 482: лучший fitness = 48.0\n",
            "Итерация 483: лучший fitness = 48.0\n",
            "Итерация 484: лучший fitness = 48.0\n",
            "Итерация 485: лучший fitness = 48.0\n",
            "Итерация 486: лучший fitness = 48.0\n",
            "Итерация 487: лучший fitness = 48.0\n",
            "Итерация 488: лучший fitness = 48.0\n",
            "Итерация 489: лучший fitness = 48.0\n",
            "Итерация 490: лучший fitness = 48.0\n",
            "Итерация 491: лучший fitness = 48.0\n",
            "Итерация 492: лучший fitness = 48.0\n",
            "Итерация 493: лучший fitness = 48.0\n",
            "Итерация 494: лучший fitness = 48.0\n",
            "Итерация 495: лучший fitness = 48.0\n",
            "Итерация 496: лучший fitness = 48.0\n",
            "Итерация 497: лучший fitness = 48.0\n",
            "Итерация 498: лучший fitness = 48.0\n",
            "Итерация 499: лучший fitness = 48.0\n",
            "Итерация 500: лучший fitness = 48.0\n"
          ]
        },
        {
          "data": {
            "text/plain": [
              "48.0"
            ]
          },
          "execution_count": 105,
          "metadata": {},
          "output_type": "execute_result"
        }
      ],
      "source": [
        "X = generate_symmetric_matrix(5)\n",
        "Y = X.copy()\n",
        "ants = AntColonyMatrix(X,Y)\n",
        "ants.run(num_best=5, num_iterations=500, num_ants=20)"
      ]
    },
    {
      "cell_type": "code",
      "execution_count": null,
      "metadata": {},
      "outputs": [
        {
          "name": "stdout",
          "output_type": "stream",
          "text": [
            "Итерация 1: лучший fitness = 61.0\n",
            "Итерация 2: лучший fitness = 61.0\n",
            "Итерация 3: лучший fitness = 61.0\n",
            "Итерация 4: лучший fitness = 48.0\n",
            "Итерация 5: лучший fitness = 48.0\n",
            "Итерация 6: лучший fitness = 48.0\n",
            "Итерация 7: лучший fitness = 48.0\n",
            "Итерация 8: лучший fitness = 48.0\n",
            "Итерация 9: лучший fitness = 48.0\n",
            "Итерация 10: лучший fitness = 48.0\n",
            "Итерация 11: лучший fitness = 48.0\n",
            "Итерация 12: лучший fitness = 48.0\n",
            "Итерация 13: лучший fitness = 42.0\n",
            "Итерация 14: лучший fitness = 42.0\n",
            "Итерация 15: лучший fitness = 42.0\n",
            "Итерация 16: лучший fitness = 42.0\n",
            "Итерация 17: лучший fitness = 42.0\n",
            "Итерация 18: лучший fitness = 42.0\n",
            "Итерация 19: лучший fitness = 42.0\n",
            "Итерация 20: лучший fitness = 42.0\n",
            "Итерация 21: лучший fitness = 42.0\n",
            "Итерация 22: лучший fitness = 42.0\n",
            "Итерация 23: лучший fitness = 42.0\n",
            "Итерация 24: лучший fitness = 42.0\n",
            "Итерация 25: лучший fitness = 42.0\n",
            "Итерация 26: лучший fitness = 42.0\n",
            "Итерация 27: лучший fitness = 42.0\n",
            "Итерация 28: лучший fitness = 42.0\n",
            "Итерация 29: лучший fitness = 42.0\n",
            "Итерация 30: лучший fitness = 42.0\n",
            "Итерация 31: лучший fitness = 42.0\n",
            "Итерация 32: лучший fitness = 42.0\n",
            "Итерация 33: лучший fitness = 42.0\n",
            "Итерация 34: лучший fitness = 42.0\n",
            "Итерация 35: лучший fitness = 26.0\n",
            "Итерация 36: лучший fitness = 26.0\n",
            "Итерация 37: лучший fitness = 26.0\n",
            "Итерация 38: лучший fitness = 26.0\n",
            "Итерация 39: лучший fitness = 26.0\n",
            "Итерация 40: лучший fitness = 22.0\n",
            "Итерация 41: лучший fitness = 22.0\n",
            "Итерация 42: лучший fitness = 22.0\n",
            "Итерация 43: лучший fitness = 22.0\n",
            "Итерация 44: лучший fitness = 22.0\n",
            "Итерация 45: лучший fitness = 22.0\n",
            "Итерация 46: лучший fitness = 22.0\n",
            "Итерация 47: лучший fitness = 22.0\n",
            "GAP\n"
          ]
        },
        {
          "data": {
            "text/plain": [
              "0.0"
            ]
          },
          "execution_count": 109,
          "metadata": {},
          "output_type": "execute_result"
        }
      ],
      "source": [
        "X = generate_symmetric_matrix(5)\n",
        "Y = X.copy()\n",
        "ants = AntColonyMatrix(X,Y)\n",
        "ants.run(num_best=10, num_iterations=50, num_ants=100)"
      ]
    },
    {
      "cell_type": "code",
      "execution_count": 112,
      "metadata": {},
      "outputs": [
        {
          "name": "stdout",
          "output_type": "stream",
          "text": [
            "Итерация 1: лучший fitness = 42.0\n",
            "Итерация 2: лучший fitness = 42.0\n",
            "Итерация 3: лучший fitness = 42.0\n",
            "Итерация 4: лучший fitness = 42.0\n",
            "Итерация 5: лучший fitness = 42.0\n",
            "Итерация 6: лучший fitness = 42.0\n",
            "Итерация 7: лучший fitness = 42.0\n",
            "Итерация 8: лучший fitness = 42.0\n",
            "Итерация 9: лучший fitness = 42.0\n",
            "Итерация 10: лучший fitness = 42.0\n",
            "Итерация 11: лучший fitness = 42.0\n",
            "Итерация 12: лучший fitness = 42.0\n",
            "Итерация 13: лучший fitness = 42.0\n",
            "Итерация 14: лучший fitness = 42.0\n",
            "Итерация 15: лучший fitness = 42.0\n",
            "Итерация 16: лучший fitness = 42.0\n",
            "Итерация 17: лучший fitness = 42.0\n",
            "Итерация 18: лучший fitness = 42.0\n",
            "Итерация 19: лучший fitness = 42.0\n",
            "Итерация 20: лучший fitness = 42.0\n",
            "Итерация 21: лучший fitness = 42.0\n",
            "Итерация 22: лучший fitness = 42.0\n",
            "Итерация 23: лучший fitness = 42.0\n",
            "Итерация 24: лучший fitness = 42.0\n",
            "Итерация 25: лучший fitness = 42.0\n",
            "Итерация 26: лучший fitness = 22.0\n",
            "Итерация 27: лучший fitness = 22.0\n",
            "Итерация 28: лучший fitness = 22.0\n",
            "Итерация 29: лучший fitness = 22.0\n",
            "Итерация 30: лучший fitness = 22.0\n",
            "Итерация 31: лучший fitness = 22.0\n",
            "Итерация 32: лучший fitness = 22.0\n",
            "Итерация 33: лучший fitness = 22.0\n",
            "Итерация 34: лучший fitness = 22.0\n",
            "Итерация 35: лучший fitness = 22.0\n",
            "Итерация 36: лучший fitness = 22.0\n",
            "Итерация 37: лучший fitness = 22.0\n",
            "Итерация 38: лучший fitness = 22.0\n",
            "Итерация 39: лучший fitness = 22.0\n",
            "GAP\n"
          ]
        },
        {
          "data": {
            "text/plain": [
              "0.0"
            ]
          },
          "execution_count": 112,
          "metadata": {},
          "output_type": "execute_result"
        }
      ],
      "source": [
        "ants = AntColonyMatrix(X,Y)\n",
        "ants.run(num_best=10, num_iterations=100, num_ants=100)"
      ]
    },
    {
      "cell_type": "code",
      "execution_count": 113,
      "metadata": {},
      "outputs": [],
      "source": [
        "X = generate_symmetric_matrix(10)\n",
        "Y = X.copy()"
      ]
    },
    {
      "cell_type": "code",
      "execution_count": 118,
      "metadata": {},
      "outputs": [
        {
          "name": "stdout",
          "output_type": "stream",
          "text": [
            "Итерация 1: лучший fitness = 70.5\n",
            "Итерация 2: лучший fitness = 70.5\n",
            "Итерация 3: лучший fitness = 70.5\n",
            "Итерация 4: лучший fitness = 64.5\n",
            "Итерация 5: лучший fitness = 64.5\n",
            "Итерация 6: лучший fitness = 64.5\n",
            "Итерация 7: лучший fitness = 64.5\n",
            "Итерация 8: лучший fitness = 64.5\n",
            "Итерация 9: лучший fitness = 64.5\n",
            "Итерация 10: лучший fitness = 64.5\n",
            "Итерация 11: лучший fitness = 64.5\n",
            "Итерация 12: лучший fitness = 64.5\n",
            "Итерация 13: лучший fitness = 64.5\n",
            "Итерация 14: лучший fitness = 64.5\n",
            "Итерация 15: лучший fitness = 64.5\n",
            "Итерация 16: лучший fitness = 64.5\n",
            "Итерация 17: лучший fitness = 64.5\n",
            "Итерация 18: лучший fitness = 64.5\n",
            "Итерация 19: лучший fitness = 64.5\n",
            "Итерация 20: лучший fitness = 64.5\n",
            "Итерация 21: лучший fitness = 64.5\n",
            "Итерация 22: лучший fitness = 64.5\n",
            "Итерация 23: лучший fitness = 64.5\n",
            "Итерация 24: лучший fitness = 64.5\n",
            "Итерация 25: лучший fitness = 64.5\n",
            "Итерация 26: лучший fitness = 64.5\n",
            "Итерация 27: лучший fitness = 64.5\n",
            "Итерация 28: лучший fitness = 64.5\n",
            "Итерация 29: лучший fitness = 64.5\n",
            "Итерация 30: лучший fitness = 63.5\n",
            "Итерация 31: лучший fitness = 63.5\n",
            "Итерация 32: лучший fitness = 63.5\n",
            "Итерация 33: лучший fitness = 63.5\n",
            "Итерация 34: лучший fitness = 63.5\n",
            "Итерация 35: лучший fitness = 63.5\n",
            "Итерация 36: лучший fitness = 63.5\n",
            "Итерация 37: лучший fitness = 63.5\n",
            "Итерация 38: лучший fitness = 63.0\n",
            "Итерация 39: лучший fitness = 63.0\n",
            "Итерация 40: лучший fitness = 63.0\n",
            "Итерация 41: лучший fitness = 63.0\n",
            "Итерация 42: лучший fitness = 63.0\n",
            "Итерация 43: лучший fitness = 63.0\n",
            "Итерация 44: лучший fitness = 63.0\n",
            "Итерация 45: лучший fitness = 63.0\n",
            "Итерация 46: лучший fitness = 62.5\n",
            "Итерация 47: лучший fitness = 62.5\n",
            "Итерация 48: лучший fitness = 62.5\n",
            "Итерация 49: лучший fitness = 62.5\n",
            "Итерация 50: лучший fitness = 62.5\n",
            "Итерация 51: лучший fitness = 62.5\n",
            "Итерация 52: лучший fitness = 62.5\n",
            "Итерация 53: лучший fitness = 62.5\n",
            "Итерация 54: лучший fitness = 62.5\n",
            "Итерация 55: лучший fitness = 62.5\n",
            "Итерация 56: лучший fitness = 62.5\n",
            "Итерация 57: лучший fitness = 62.5\n",
            "Итерация 58: лучший fitness = 62.5\n",
            "Итерация 59: лучший fitness = 62.5\n",
            "Итерация 60: лучший fitness = 62.5\n",
            "Итерация 61: лучший fitness = 62.5\n",
            "Итерация 62: лучший fitness = 62.5\n",
            "Итерация 63: лучший fitness = 62.5\n",
            "Итерация 64: лучший fitness = 62.5\n",
            "Итерация 65: лучший fitness = 62.5\n",
            "Итерация 66: лучший fitness = 62.5\n",
            "Итерация 67: лучший fitness = 62.5\n",
            "Итерация 68: лучший fitness = 62.5\n",
            "Итерация 69: лучший fitness = 62.5\n",
            "Итерация 70: лучший fitness = 62.5\n",
            "Итерация 71: лучший fitness = 62.5\n",
            "Итерация 72: лучший fitness = 62.5\n",
            "Итерация 73: лучший fitness = 62.5\n",
            "Итерация 74: лучший fitness = 59.0\n",
            "Итерация 75: лучший fitness = 59.0\n",
            "Итерация 76: лучший fitness = 59.0\n",
            "Итерация 77: лучший fitness = 59.0\n",
            "Итерация 78: лучший fitness = 59.0\n",
            "Итерация 79: лучший fitness = 59.0\n",
            "Итерация 80: лучший fitness = 59.0\n",
            "Итерация 81: лучший fitness = 59.0\n",
            "Итерация 82: лучший fitness = 59.0\n",
            "Итерация 83: лучший fitness = 59.0\n",
            "Итерация 84: лучший fitness = 59.0\n",
            "Итерация 85: лучший fitness = 59.0\n",
            "Итерация 86: лучший fitness = 59.0\n",
            "Итерация 87: лучший fitness = 59.0\n",
            "Итерация 88: лучший fitness = 59.0\n",
            "Итерация 89: лучший fitness = 59.0\n",
            "Итерация 90: лучший fitness = 59.0\n",
            "Итерация 91: лучший fitness = 58.0\n",
            "Итерация 92: лучший fitness = 58.0\n",
            "Итерация 93: лучший fitness = 58.0\n",
            "Итерация 94: лучший fitness = 58.0\n",
            "Итерация 95: лучший fitness = 58.0\n",
            "Итерация 96: лучший fitness = 53.0\n",
            "Итерация 97: лучший fitness = 53.0\n",
            "Итерация 98: лучший fitness = 53.0\n",
            "Итерация 99: лучший fitness = 53.0\n",
            "Итерация 100: лучший fitness = 53.0\n",
            "Итерация 101: лучший fitness = 53.0\n",
            "Итерация 102: лучший fitness = 53.0\n",
            "Итерация 103: лучший fitness = 53.0\n",
            "Итерация 104: лучший fitness = 53.0\n",
            "Итерация 105: лучший fitness = 53.0\n",
            "Итерация 106: лучший fitness = 53.0\n",
            "Итерация 107: лучший fitness = 53.0\n",
            "Итерация 108: лучший fitness = 53.0\n",
            "Итерация 109: лучший fitness = 53.0\n",
            "Итерация 110: лучший fitness = 53.0\n",
            "Итерация 111: лучший fitness = 52.0\n",
            "Итерация 112: лучший fitness = 52.0\n",
            "Итерация 113: лучший fitness = 52.0\n",
            "Итерация 114: лучший fitness = 52.0\n",
            "Итерация 115: лучший fitness = 50.5\n",
            "Итерация 116: лучший fitness = 50.5\n",
            "Итерация 117: лучший fitness = 50.5\n",
            "Итерация 118: лучший fitness = 50.5\n",
            "Итерация 119: лучший fitness = 50.5\n",
            "Итерация 120: лучший fitness = 50.5\n",
            "Итерация 121: лучший fitness = 50.5\n",
            "Итерация 122: лучший fitness = 50.5\n",
            "Итерация 123: лучший fitness = 50.5\n",
            "Итерация 124: лучший fitness = 50.5\n",
            "Итерация 125: лучший fitness = 50.5\n",
            "Итерация 126: лучший fitness = 50.5\n",
            "Итерация 127: лучший fitness = 50.5\n",
            "Итерация 128: лучший fitness = 50.5\n",
            "Итерация 129: лучший fitness = 50.5\n",
            "Итерация 130: лучший fitness = 50.5\n",
            "Итерация 131: лучший fitness = 50.5\n",
            "Итерация 132: лучший fitness = 50.5\n",
            "Итерация 133: лучший fitness = 50.5\n",
            "Итерация 134: лучший fitness = 50.5\n",
            "Итерация 135: лучший fitness = 50.5\n",
            "Итерация 136: лучший fitness = 50.5\n",
            "Итерация 137: лучший fitness = 50.5\n",
            "Итерация 138: лучший fitness = 50.5\n",
            "Итерация 139: лучший fitness = 50.5\n",
            "Итерация 140: лучший fitness = 50.5\n",
            "Итерация 141: лучший fitness = 50.5\n",
            "Итерация 142: лучший fitness = 50.5\n",
            "Итерация 143: лучший fitness = 50.5\n",
            "Итерация 144: лучший fitness = 50.5\n",
            "Итерация 145: лучший fitness = 50.5\n",
            "Итерация 146: лучший fitness = 50.5\n",
            "Итерация 147: лучший fitness = 50.5\n",
            "Итерация 148: лучший fitness = 48.5\n",
            "Итерация 149: лучший fitness = 48.5\n",
            "Итерация 150: лучший fitness = 48.5\n",
            "Итерация 151: лучший fitness = 48.5\n",
            "Итерация 152: лучший fitness = 48.5\n",
            "Итерация 153: лучший fitness = 48.5\n",
            "Итерация 154: лучший fitness = 48.5\n",
            "Итерация 155: лучший fitness = 48.5\n",
            "Итерация 156: лучший fitness = 48.5\n",
            "Итерация 157: лучший fitness = 48.5\n",
            "Итерация 158: лучший fitness = 48.5\n",
            "Итерация 159: лучший fitness = 48.5\n",
            "Итерация 160: лучший fitness = 48.5\n",
            "Итерация 161: лучший fitness = 48.5\n",
            "Итерация 162: лучший fitness = 48.5\n",
            "Итерация 163: лучший fitness = 48.5\n",
            "Итерация 164: лучший fitness = 48.5\n",
            "Итерация 165: лучший fitness = 48.5\n",
            "Итерация 166: лучший fitness = 48.5\n",
            "Итерация 167: лучший fitness = 48.5\n",
            "Итерация 168: лучший fitness = 48.5\n",
            "Итерация 169: лучший fitness = 48.5\n",
            "Итерация 170: лучший fitness = 48.5\n",
            "Итерация 171: лучший fitness = 48.5\n",
            "Итерация 172: лучший fitness = 48.5\n",
            "Итерация 173: лучший fitness = 48.5\n",
            "Итерация 174: лучший fitness = 48.5\n",
            "Итерация 175: лучший fitness = 48.5\n",
            "Итерация 176: лучший fitness = 48.5\n",
            "Итерация 177: лучший fitness = 48.5\n",
            "Итерация 178: лучший fitness = 48.5\n",
            "Итерация 179: лучший fitness = 48.5\n",
            "Итерация 180: лучший fitness = 48.5\n",
            "Итерация 181: лучший fitness = 48.5\n",
            "Итерация 182: лучший fitness = 48.5\n",
            "Итерация 183: лучший fitness = 48.5\n",
            "Итерация 184: лучший fitness = 48.5\n",
            "Итерация 185: лучший fitness = 48.5\n",
            "Итерация 186: лучший fitness = 48.5\n",
            "Итерация 187: лучший fitness = 48.5\n",
            "Итерация 188: лучший fitness = 48.5\n",
            "Итерация 189: лучший fitness = 48.5\n",
            "Итерация 190: лучший fitness = 48.5\n",
            "Итерация 191: лучший fitness = 48.5\n",
            "Итерация 192: лучший fitness = 48.5\n",
            "Итерация 193: лучший fitness = 48.5\n",
            "Итерация 194: лучший fitness = 48.5\n",
            "Итерация 195: лучший fitness = 48.5\n",
            "Итерация 196: лучший fitness = 48.5\n",
            "Итерация 197: лучший fitness = 48.5\n",
            "Итерация 198: лучший fitness = 48.5\n",
            "Итерация 199: лучший fitness = 48.5\n",
            "Итерация 200: лучший fitness = 48.5\n"
          ]
        },
        {
          "data": {
            "text/plain": [
              "48.5"
            ]
          },
          "execution_count": 118,
          "metadata": {},
          "output_type": "execute_result"
        }
      ],
      "source": [
        "ants = AntColonyMatrix(X,Y)\n",
        "ants.run(num_best=20, num_iterations=200, num_ants=500)"
      ]
    },
    {
      "cell_type": "code",
      "execution_count": 120,
      "metadata": {},
      "outputs": [
        {
          "name": "stdout",
          "output_type": "stream",
          "text": [
            "Итерация 1: лучший fitness = 71.0\n",
            "Итерация 2: лучший fitness = 64.0\n",
            "Итерация 3: лучший fitness = 64.0\n",
            "Итерация 4: лучший fitness = 64.0\n",
            "Итерация 5: лучший fitness = 64.0\n",
            "Итерация 6: лучший fitness = 64.0\n",
            "Итерация 7: лучший fitness = 64.0\n",
            "Итерация 8: лучший fitness = 64.0\n",
            "Итерация 9: лучший fitness = 64.0\n",
            "Итерация 10: лучший fitness = 64.0\n",
            "Итерация 11: лучший fitness = 62.5\n",
            "Итерация 12: лучший fitness = 62.5\n",
            "Итерация 13: лучший fitness = 62.5\n",
            "Итерация 14: лучший fitness = 62.5\n",
            "Итерация 15: лучший fitness = 62.5\n",
            "Итерация 16: лучший fitness = 62.5\n",
            "Итерация 17: лучший fitness = 62.5\n",
            "Итерация 18: лучший fitness = 62.5\n",
            "Итерация 19: лучший fitness = 62.5\n",
            "Итерация 20: лучший fitness = 62.5\n",
            "Итерация 21: лучший fitness = 62.5\n",
            "Итерация 22: лучший fitness = 62.5\n",
            "Итерация 23: лучший fitness = 62.5\n",
            "Итерация 24: лучший fitness = 62.5\n",
            "Итерация 25: лучший fitness = 62.5\n",
            "Итерация 26: лучший fitness = 62.5\n",
            "Итерация 27: лучший fitness = 62.5\n",
            "Итерация 28: лучший fitness = 62.5\n",
            "Итерация 29: лучший fitness = 62.5\n",
            "Итерация 30: лучший fitness = 62.5\n",
            "Итерация 31: лучший fitness = 62.5\n",
            "Итерация 32: лучший fitness = 62.5\n",
            "Итерация 33: лучший fitness = 62.5\n",
            "Итерация 34: лучший fitness = 62.5\n",
            "Итерация 35: лучший fitness = 62.5\n",
            "Итерация 36: лучший fitness = 62.5\n",
            "Итерация 37: лучший fitness = 62.5\n",
            "Итерация 38: лучший fitness = 62.5\n",
            "Итерация 39: лучший fitness = 62.5\n",
            "Итерация 40: лучший fitness = 62.5\n",
            "Итерация 41: лучший fitness = 62.5\n",
            "Итерация 42: лучший fitness = 62.5\n",
            "Итерация 43: лучший fitness = 62.5\n",
            "Итерация 44: лучший fitness = 62.5\n",
            "Итерация 45: лучший fitness = 62.5\n",
            "Итерация 46: лучший fitness = 62.5\n",
            "Итерация 47: лучший fitness = 62.5\n",
            "Итерация 48: лучший fitness = 62.5\n",
            "Итерация 49: лучший fitness = 62.5\n",
            "Итерация 50: лучший fitness = 59.0\n",
            "Итерация 51: лучший fitness = 59.0\n",
            "Итерация 52: лучший fitness = 59.0\n",
            "Итерация 53: лучший fitness = 59.0\n",
            "Итерация 54: лучший fitness = 59.0\n",
            "Итерация 55: лучший fitness = 59.0\n",
            "Итерация 56: лучший fitness = 59.0\n",
            "Итерация 57: лучший fitness = 59.0\n",
            "Итерация 58: лучший fitness = 59.0\n",
            "Итерация 59: лучший fitness = 59.0\n",
            "Итерация 60: лучший fitness = 59.0\n",
            "Итерация 61: лучший fitness = 59.0\n",
            "Итерация 62: лучший fitness = 59.0\n",
            "Итерация 63: лучший fitness = 59.0\n",
            "Итерация 64: лучший fitness = 58.0\n",
            "Итерация 65: лучший fitness = 53.0\n",
            "Итерация 66: лучший fitness = 53.0\n",
            "Итерация 67: лучший fitness = 53.0\n",
            "Итерация 68: лучший fitness = 53.0\n",
            "Итерация 69: лучший fitness = 53.0\n",
            "Итерация 70: лучший fitness = 53.0\n",
            "Итерация 71: лучший fitness = 53.0\n",
            "Итерация 72: лучший fitness = 53.0\n",
            "Итерация 73: лучший fitness = 53.0\n",
            "Итерация 74: лучший fitness = 53.0\n",
            "Итерация 75: лучший fitness = 52.0\n",
            "Итерация 76: лучший fitness = 52.0\n",
            "Итерация 77: лучший fitness = 52.0\n",
            "Итерация 78: лучший fitness = 52.0\n",
            "Итерация 79: лучший fitness = 52.0\n",
            "Итерация 80: лучший fitness = 52.0\n",
            "Итерация 81: лучший fitness = 51.5\n",
            "Итерация 82: лучший fitness = 51.5\n",
            "Итерация 83: лучший fitness = 50.5\n",
            "Итерация 84: лучший fitness = 48.5\n",
            "Итерация 85: лучший fitness = 48.5\n",
            "Итерация 86: лучший fitness = 48.5\n",
            "Итерация 87: лучший fitness = 48.5\n",
            "Итерация 88: лучший fitness = 48.5\n",
            "Итерация 89: лучший fitness = 48.5\n",
            "Итерация 90: лучший fitness = 47.0\n",
            "Итерация 91: лучший fitness = 47.0\n",
            "Итерация 92: лучший fitness = 43.0\n",
            "Итерация 93: лучший fitness = 43.0\n",
            "Итерация 94: лучший fitness = 43.0\n",
            "Итерация 95: лучший fitness = 41.5\n",
            "Итерация 96: лучший fitness = 41.5\n",
            "Итерация 97: лучший fitness = 41.5\n",
            "Итерация 98: лучший fitness = 41.5\n",
            "Итерация 99: лучший fitness = 41.5\n",
            "Итерация 100: лучший fitness = 41.5\n",
            "Итерация 101: лучший fitness = 41.5\n",
            "Итерация 102: лучший fitness = 41.5\n",
            "Итерация 103: лучший fitness = 41.5\n",
            "Итерация 104: лучший fitness = 41.5\n",
            "Итерация 105: лучший fitness = 36.5\n",
            "Итерация 106: лучший fitness = 36.5\n",
            "Итерация 107: лучший fitness = 36.5\n",
            "Итерация 108: лучший fitness = 36.5\n",
            "Итерация 109: лучший fitness = 36.5\n",
            "Итерация 110: лучший fitness = 36.5\n",
            "Итерация 111: лучший fitness = 36.5\n",
            "Итерация 112: лучший fitness = 36.5\n",
            "Итерация 113: лучший fitness = 36.5\n",
            "Итерация 114: лучший fitness = 36.5\n",
            "Итерация 115: лучший fitness = 35.5\n",
            "Итерация 116: лучший fitness = 35.5\n",
            "Итерация 117: лучший fitness = 35.5\n",
            "Итерация 118: лучший fitness = 35.5\n",
            "Итерация 119: лучший fitness = 35.5\n",
            "Итерация 120: лучший fitness = 35.5\n",
            "Итерация 121: лучший fitness = 35.5\n",
            "Итерация 122: лучший fitness = 35.5\n",
            "Итерация 123: лучший fitness = 34.5\n",
            "Итерация 124: лучший fitness = 34.5\n",
            "Итерация 125: лучший fitness = 34.5\n",
            "Итерация 126: лучший fitness = 34.5\n",
            "Итерация 127: лучший fitness = 34.5\n",
            "Итерация 128: лучший fitness = 34.5\n",
            "Итерация 129: лучший fitness = 34.5\n",
            "Итерация 130: лучший fitness = 34.5\n",
            "Итерация 131: лучший fitness = 34.5\n",
            "Итерация 132: лучший fitness = 34.5\n",
            "Итерация 133: лучший fitness = 34.5\n",
            "Итерация 134: лучший fitness = 34.5\n",
            "Итерация 135: лучший fitness = 34.5\n",
            "Итерация 136: лучший fitness = 34.5\n",
            "Итерация 137: лучший fitness = 34.5\n",
            "Итерация 138: лучший fitness = 34.5\n",
            "Итерация 139: лучший fitness = 34.5\n",
            "Итерация 140: лучший fitness = 34.5\n",
            "Итерация 141: лучший fitness = 34.5\n",
            "Итерация 142: лучший fitness = 34.5\n",
            "Итерация 143: лучший fitness = 34.5\n",
            "Итерация 144: лучший fitness = 34.5\n",
            "Итерация 145: лучший fitness = 34.5\n",
            "Итерация 146: лучший fitness = 34.5\n",
            "Итерация 147: лучший fitness = 34.5\n",
            "Итерация 148: лучший fitness = 34.5\n",
            "Итерация 149: лучший fitness = 34.5\n",
            "Итерация 150: лучший fitness = 34.5\n",
            "Итерация 151: лучший fitness = 34.5\n",
            "Итерация 152: лучший fitness = 34.5\n",
            "Итерация 153: лучший fitness = 34.5\n",
            "Итерация 154: лучший fitness = 34.5\n",
            "Итерация 155: лучший fitness = 34.5\n",
            "Итерация 156: лучший fitness = 34.5\n",
            "Итерация 157: лучший fitness = 34.5\n",
            "Итерация 158: лучший fitness = 34.5\n",
            "Итерация 159: лучший fitness = 34.5\n",
            "Итерация 160: лучший fitness = 34.5\n",
            "Итерация 161: лучший fitness = 34.5\n",
            "Итерация 162: лучший fitness = 34.5\n",
            "Итерация 163: лучший fitness = 34.5\n",
            "Итерация 164: лучший fitness = 34.5\n",
            "Итерация 165: лучший fitness = 34.5\n",
            "Итерация 166: лучший fitness = 34.5\n",
            "Итерация 167: лучший fitness = 34.5\n",
            "Итерация 168: лучший fitness = 34.5\n",
            "Итерация 169: лучший fitness = 34.5\n",
            "Итерация 170: лучший fitness = 34.5\n",
            "Итерация 171: лучший fitness = 34.5\n",
            "Итерация 172: лучший fitness = 34.5\n",
            "Итерация 173: лучший fitness = 34.5\n",
            "Итерация 174: лучший fitness = 34.5\n",
            "Итерация 175: лучший fitness = 34.5\n",
            "Итерация 176: лучший fitness = 34.5\n",
            "Итерация 177: лучший fitness = 34.5\n",
            "Итерация 178: лучший fitness = 34.5\n",
            "Итерация 179: лучший fitness = 34.5\n",
            "Итерация 180: лучший fitness = 34.5\n",
            "Итерация 181: лучший fitness = 34.5\n",
            "Итерация 182: лучший fitness = 34.5\n",
            "Итерация 183: лучший fitness = 34.5\n",
            "Итерация 184: лучший fitness = 34.5\n",
            "Итерация 185: лучший fitness = 34.5\n",
            "Итерация 186: лучший fitness = 34.5\n",
            "Итерация 187: лучший fitness = 34.5\n",
            "Итерация 188: лучший fitness = 34.5\n",
            "Итерация 189: лучший fitness = 34.5\n",
            "Итерация 190: лучший fitness = 34.5\n",
            "Итерация 191: лучший fitness = 34.5\n",
            "Итерация 192: лучший fitness = 34.5\n",
            "Итерация 193: лучший fitness = 34.5\n",
            "Итерация 194: лучший fitness = 34.5\n",
            "Итерация 195: лучший fitness = 34.5\n",
            "Итерация 196: лучший fitness = 34.5\n",
            "Итерация 197: лучший fitness = 34.5\n",
            "Итерация 198: лучший fitness = 34.5\n",
            "Итерация 199: лучший fitness = 34.5\n",
            "Итерация 200: лучший fitness = 34.5\n"
          ]
        },
        {
          "data": {
            "text/plain": [
              "34.5"
            ]
          },
          "execution_count": 120,
          "metadata": {},
          "output_type": "execute_result"
        }
      ],
      "source": [
        "ants = AntColonyMatrix(X,Y)\n",
        "ants.run(num_best=20, num_iterations=200, num_ants=1000)"
      ]
    }
  ],
  "metadata": {
    "colab": {
      "provenance": []
    },
    "kaggle": {
      "accelerator": "none",
      "dataSources": [
        {
          "databundleVersionId": 10379392,
          "sourceId": 89777,
          "sourceType": "competition"
        }
      ],
      "dockerImageVersionId": 30823,
      "isGpuEnabled": false,
      "isInternetEnabled": true,
      "language": "python",
      "sourceType": "notebook"
    },
    "kernelspec": {
      "display_name": "base",
      "language": "python",
      "name": "python3"
    },
    "language_info": {
      "codemirror_mode": {
        "name": "ipython",
        "version": 3
      },
      "file_extension": ".py",
      "mimetype": "text/x-python",
      "name": "python",
      "nbconvert_exporter": "python",
      "pygments_lexer": "ipython3",
      "version": "3.12.7"
    }
  },
  "nbformat": 4,
  "nbformat_minor": 0
}
