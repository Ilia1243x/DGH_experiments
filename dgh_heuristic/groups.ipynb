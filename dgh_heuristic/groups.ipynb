{
 "cells": [
  {
   "cell_type": "code",
   "execution_count": 1,
   "id": "a1bae063",
   "metadata": {},
   "outputs": [],
   "source": [
    "import numpy as np"
   ]
  },
  {
   "cell_type": "code",
   "execution_count": 2,
   "id": "ebd97771",
   "metadata": {},
   "outputs": [],
   "source": [
    "from dgh import upper"
   ]
  },
  {
   "cell_type": "code",
   "execution_count": null,
   "id": "bace5065",
   "metadata": {},
   "outputs": [],
   "source": [
    "#from smart_dgh import calculate_dgh"
   ]
  },
  {
   "cell_type": "code",
   "execution_count": 3,
   "id": "580fdc6a",
   "metadata": {},
   "outputs": [],
   "source": [
    "def get_points_circle(n, R, x_center, y_center, z_center):\n",
    "    x = np.random.uniform(x_center - R, x_center + R, n)\n",
    "    y = np.random.uniform(y_center - np.sqrt(np.square(R)-np.square(x-x_center)), y_center + np.sqrt(np.square(R)-np.square(x-x_center)), n)\n",
    "    z_pos_sqrt = np.sqrt(np.square(R)-np.square(x-x_center)-np.square(y-y_center))\n",
    "    random_adj = np.random.choice([-1,1],len(x))\n",
    "    z = random_adj * z_pos_sqrt + z_center\n",
    "    return x,y,z"
   ]
  },
  {
   "cell_type": "code",
   "execution_count": 62,
   "id": "c2e68a77",
   "metadata": {},
   "outputs": [],
   "source": [
    "points_X = get_points_circle(35, 30, 0,0,0)\n",
    "\n",
    "Y_x = points_X[0] + 61\n",
    "Y_y = points_X[1] + 61\n",
    "Y_z = points_X[2] + 61\n",
    "points_Y = (Y_x, Y_y, Y_z)\n",
    "\n",
    "\n",
    "coords_X = np.vstack(points_X).T\n",
    "coords_Y = np.vstack(points_Y).T\n",
    "\n",
    "X = np.linalg.norm(coords_X[:, None] - coords_X, axis=2)\n",
    "Y = np.linalg.norm(coords_Y[:, None] - coords_Y, axis=2)"
   ]
  },
  {
   "cell_type": "code",
   "execution_count": 5,
   "id": "dfa6cc36",
   "metadata": {},
   "outputs": [],
   "source": [
    "import numpy as np\n",
    "def generate_symmetric_matrix(size, min_val=1, max_val=100):\n",
    "\n",
    "    matrix = np.random.randint(min_val, max_val + 1, size=(size, size))\n",
    "\n",
    "    symmetric_matrix = (matrix + matrix.T) / 2\n",
    "\n",
    "    np.fill_diagonal(symmetric_matrix, 0.0)\n",
    "    return symmetric_matrix\n"
   ]
  },
  {
   "cell_type": "code",
   "execution_count": 35,
   "id": "4563291a",
   "metadata": {},
   "outputs": [
    {
     "data": {
      "text/plain": [
       "array([[  0. , 166. ,  75. , 101. ,  78. ],\n",
       "       [166. ,   0. , 173. , 144.5, 103.5],\n",
       "       [ 75. , 173. ,   0. , 154. , 145.5],\n",
       "       [101. , 144.5, 154. ,   0. ,  55.5],\n",
       "       [ 78. , 103.5, 145.5,  55.5,   0. ]])"
      ]
     },
     "execution_count": 35,
     "metadata": {},
     "output_type": "execute_result"
    }
   ],
   "source": [
    "X = generate_symmetric_matrix(5, max_val= 200)\n",
    "Y = X.copy()\n",
    "X"
   ]
  },
  {
   "cell_type": "code",
   "execution_count": null,
   "id": "63a474a0",
   "metadata": {},
   "outputs": [],
   "source": [
    "import numpy as np\n",
    "import random\n",
    "\n",
    "from mappings import rnd_S, center, S_to_fg, S_to_R, is_in_bimapping_polytope\n",
    "from fw import make_frank_wolfe_solver\n",
    "from spaces import diam, rad, arrange_distances\n",
    "from constants import DEFAULT_SEED, C_SEARCH_GRID\n",
    "from dgh import dis, upper\n",
    "\n",
    "\n",
    "\n",
    "def fg_to_R_float(f, g):\n",
    "    \"\"\"\n",
    "    Represents a mapping pair as a binary row-stochastic block matrix.\n",
    "\n",
    "    :param f: mapping in X🠖Y (1d-array)\n",
    "    :param g: mapping in Y🠖X (1d-array)\n",
    "    :return: mapping pair representation R ∈ ℛ (2d-array)\n",
    "    \"\"\"\n",
    "    n, m = len(f), len(g)\n",
    "    nxn_zeros, mxm_zeros = (np.zeros((size, size), dtype=float) for size in [n, m])\n",
    "\n",
    "    F = np.identity(m, dtype=float)[f]\n",
    "    G = np.identity(n, dtype=float)[g]\n",
    "\n",
    "    R = np.block([[F, nxn_zeros], [mxm_zeros, G]])\n",
    "\n",
    "    return R\n",
    "\n",
    "def update_fg(best_f, best_g, set_f, set_g, change_number = 1):\n",
    "   \n",
    "    f = best_f.copy()\n",
    "    g = best_g.copy()\n",
    "\n",
    "\n",
    "    pairs_f = random.sample(set_f, min(len(set_f),change_number))\n",
    "    pairs_g = random.sample(set_g, min(len(set_g),change_number))\n",
    "\n",
    "    for pair_f in pairs_f:\n",
    "       if (f[pair_f[0]] != f[pair_f[1]]):\n",
    "          continue\n",
    "       new_destination = np.random.choice(len(g), 2, replace=False)\n",
    "       f[pair_f[0]],f[pair_f[1]] = new_destination[0], new_destination[1]\n",
    "    \n",
    "    for pair_g in pairs_g:\n",
    "       if (g[pair_g[0]] != g[pair_g[1]]):\n",
    "          continue\n",
    "       new_destination = np.random.choice(len(f), 2, replace=False)\n",
    "       g[pair_g[0]],g[pair_g[1]] = new_destination[0], new_destination[1]\n",
    "\n",
    "\n",
    "\n",
    "    return f,g\n",
    "    \n",
    "def calculate_dgh(X, Y, budget_for_start = 1000, search_budget = 2000, change_number = 1, tol = 1e-16, return_fg = False):\n",
    "\n",
    "    n, m = len(X), len(Y)\n",
    "    \n",
    "    diam_X, diam_Y = map(diam, [X, Y])\n",
    "    d_max = max(diam_X, diam_Y)\n",
    "\n",
    "    rad_X, rad_Y = map(rad, [X, Y])\n",
    "    lb = max(0, abs(diam_X - diam_Y)/2, abs(rad_X - rad_Y)/2)\n",
    "\n",
    "    X, Y = map(lambda Z: Z.copy() / d_max, [X, Y])\n",
    "    lb /= d_max\n",
    "\n",
    "    start_dgh, best_f, best_g, c = upper(X,Y,iter_budget=budget_for_start, return_fg = True)\n",
    "\n",
    "    #print(fg_to_R_float(best_f, best_g))\n",
    "    #print(best_f)\n",
    "\n",
    "    start_dgh *= d_max\n",
    "    best_dis_R = start_dgh * 2\n",
    "\n",
    "    if np.isclose(best_dis_R, lb, atol=0.1): #atol = 1?\n",
    "        res = (best_dis_R/2, best_f, best_g) if return_fg else best_dis_R/2\n",
    "        return res\n",
    "    \n",
    "    set_f = []\n",
    "    set_g = []\n",
    "\n",
    "    for i in range(len(best_f)):\n",
    "       for j in range(i+1, len(best_f)):\n",
    "          if best_f[i] == best_f[j]:\n",
    "             set_f.append((i, j))\n",
    "    \n",
    "    for i in range(len(best_g)):\n",
    "       for j in range(i+1, len(best_g)):\n",
    "          if best_g[i] == best_g[j]:\n",
    "             set_g.append((i, j))\n",
    "\n",
    "    print(len(set_f), len(set_g))\n",
    "\n",
    "    fw = make_frank_wolfe_solver(X, Y, c, tol=tol)\n",
    "\n",
    "    while (search_budget > 0):\n",
    "       \n",
    "        f, g = update_fg(best_f, best_g, set_f, set_g, change_number)\n",
    "\n",
    "        S0 = fg_to_R_float(f, g)\n",
    "\n",
    "        #print(f)\n",
    "        \n",
    "        S, used_iter = fw(S0=S0, max_iter=search_budget)\n",
    "\n",
    "        search_budget -= used_iter\n",
    "\n",
    "        R = S_to_R(S, n, m)\n",
    "\n",
    "        \n",
    "        dis_R = dis(R, X, Y) * d_max\n",
    "        \n",
    "        #print(dis_R, best_dis_R)\n",
    "        \n",
    "        if dis_R != best_dis_R:\n",
    "           print(dis_R, best_dis_R)\n",
    "\n",
    "        if dis_R < best_dis_R:\n",
    "            best_f, best_g = map(list, S_to_fg(S, n, m))\n",
    "            best_dis_R = dis_R\n",
    "        \n",
    "        if np.isclose(best_dis_R, lb, atol=0.1): #atol = 1?\n",
    "           break\n",
    "    \n",
    "    res = (best_dis_R/2, best_f, best_g) if return_fg else best_dis_R/2\n",
    "\n",
    "    return res"
   ]
  },
  {
   "cell_type": "code",
   "execution_count": 118,
   "id": "2e260ae4",
   "metadata": {},
   "outputs": [],
   "source": [
    "import numpy as np\n",
    "from functools import partial\n",
    "\n",
    "from mappings import is_row_stoch, fg_to_R\n",
    "from spaces import arrange_distances\n",
    "\n",
    "\n",
    "def solve_frank_wolfe(obj, grad, find_descent_direction, minimize_obj_wrt_gamma, S0,\n",
    "                      tol=1e-16, max_iter=np.inf, verbose=0, d = None, use_taboo = True):\n",
    "\n",
    "    S = S0.copy()\n",
    "    for iter in range(max_iter):\n",
    "        # Find the Frank-Wolfe direction.\n",
    "        grad_at_S = grad(S)\n",
    "        R = find_descent_direction(grad_at_S)\n",
    "        D = R - S\n",
    "\n",
    "        # Find γ ∈ [0, 1] defining how much to go in the decided direction.\n",
    "        global_gamma = minimize_obj_wrt_gamma(S, D)\n",
    "        critical_gammas = {0, 1}\n",
    "        if 0 < global_gamma < 1:\n",
    "            critical_gammas.add(global_gamma)\n",
    "        gamma = min(critical_gammas, key=lambda x: obj(S + x*D))\n",
    "\n",
    "        if verbose > 2:\n",
    "            print(f'  iter {iter}: σ(S)={obj(S):.4f}, γ={gamma:.5f}')\n",
    "\n",
    "        # Move S towards R by γ, i.e. to (1-γ)S + γR.\n",
    "        S += gamma * D\n",
    "\n",
    "        if (use_taboo and iter > 1 and iter % 2 == 0):\n",
    "            hash = tuple(S.argmax(axis = 1))\n",
    "            if hash in d:\n",
    "                print('nothing to find here')\n",
    "                break\n",
    "\n",
    "        # Stop if the rate of descent is too small or if the line search stalls.\n",
    "        if np.sum(-grad_at_S * D) < tol or np.isclose(gamma, 0):\n",
    "            break\n",
    "\n",
    "    if use_taboo:\n",
    "        hash = tuple(S.argmax(axis = 1))\n",
    "        d[hash] = 1\n",
    "        \n",
    "    return S, iter + 1\n",
    "\n",
    "\n",
    "def make_frank_wolfe_solver(X, Y, c, **kwargs):\n",
    "    \n",
    "    n, m = len(X), len(Y)\n",
    "\n",
    "    # Define auxiliary function that is a component in the objective and its gradient.\n",
    "    def dot_multiplicand(S):\n",
    "        X__Y, Y__X, _Y_X = arrange_distances(X, Y)\n",
    "        c_Y_X, c__Y_X = c**_Y_X,  c**-_Y_X\n",
    "\n",
    "        return (c__Y_X @ S @ c_Y_X + c_Y_X @ S @ c__Y_X).T + \\\n",
    "            c**-X__Y @ S @ c**Y__X + c**X__Y @ S @ c**-Y__X\n",
    "\n",
    "    # Smooth distortion σ as the objective.\n",
    "    def obj(S):\n",
    "        return np.sum(S * dot_multiplicand(S))\n",
    "\n",
    "    # ∇σ.\n",
    "    def grad(S):\n",
    "        return 2 * dot_multiplicand(S)\n",
    "\n",
    "    # To minimize〈R, ∇σ(S)〉over 𝓢 given S ∈ 𝓢, R must be a vertex of 𝓢.\n",
    "    def find_descent_direction(grad_at_S):\n",
    "        f = np.argmin(grad_at_S[:n, :m], axis=1)\n",
    "        g = np.argmin(grad_at_S[n:, m:], axis=1)\n",
    "\n",
    "        return fg_to_R(f, g)\n",
    "\n",
    "    # To minimize σ(γ) = σ(S + γD), for line search.\n",
    "    def minimize_obj_wrt_gamma(S, D):\n",
    "        # Leverage that the objective is quadratic in γ, σ(γ) = aγ² + bγ + c.\n",
    "        a = np.sum(D * dot_multiplicand(D))\n",
    "        b = np.sum(D * dot_multiplicand(S)) + np.sum(S * dot_multiplicand(D))\n",
    "        with np.errstate(divide='ignore', invalid='ignore'):\n",
    "            global_gamma = np.divide(-b, 2*a)\n",
    "\n",
    "        return global_gamma\n",
    "\n",
    "    fw = partial(solve_frank_wolfe, obj, grad, find_descent_direction,\n",
    "                 minimize_obj_wrt_gamma, **kwargs)\n",
    "\n",
    "    return fw\n"
   ]
  },
  {
   "cell_type": "code",
   "execution_count": 127,
   "id": "6327cfed",
   "metadata": {},
   "outputs": [],
   "source": [
    "def calculate_dgh_v2(X, Y, budget_for_start = 1000, search_budget = 2000, change_number = 1, tol = 1e-16, return_fg = False, restart_nums = 10):\n",
    "\n",
    "    '''\n",
    "    with taboo search +\n",
    "    with restarts +\n",
    "    '''\n",
    "\n",
    "    n, m = len(X), len(Y)\n",
    "    \n",
    "    diam_X, diam_Y = map(diam, [X, Y])\n",
    "    d_max = max(diam_X, diam_Y)\n",
    "\n",
    "    rad_X, rad_Y = map(rad, [X, Y])\n",
    "    lb = max(0, abs(diam_X - diam_Y)/2, abs(rad_X - rad_Y)/2)\n",
    "\n",
    "    X, Y = map(lambda Z: Z.copy() / d_max, [X, Y])\n",
    "    lb /= d_max\n",
    "\n",
    "    start_dgh, best_f, best_g, c = upper(X,Y,iter_budget=budget_for_start, return_fg = True)\n",
    "\n",
    "    #print(fg_to_R_float(best_f, best_g))\n",
    "    #print(best_f)\n",
    "\n",
    "    start_dgh *= d_max\n",
    "    best_dis_R = start_dgh * 2\n",
    "\n",
    "    if np.isclose(best_dis_R, lb, atol=0.1): #atol = 1?\n",
    "        res = (best_dis_R/2, best_f, best_g) if return_fg else best_dis_R/2\n",
    "        return res\n",
    "    \n",
    "    set_f = []\n",
    "    set_g = []\n",
    "\n",
    "    for i in range(len(best_f)):\n",
    "       for j in range(i+1, len(best_f)):\n",
    "          if best_f[i] == best_f[j]:\n",
    "             set_f.append((i, j))\n",
    "    \n",
    "    for i in range(len(best_g)):\n",
    "       for j in range(i+1, len(best_g)):\n",
    "          if best_g[i] == best_g[j]:\n",
    "             set_g.append((i, j))\n",
    "\n",
    "    print(len(set_f), len(set_g))\n",
    "\n",
    "    taboo_dict = dict()\n",
    "\n",
    "    fw = make_frank_wolfe_solver(X, Y, c, tol=tol, d = taboo_dict)\n",
    "\n",
    "    #restart_nums = 10 # search_budget // 100 #пока что так\n",
    "\n",
    "    cur_f, cur_g = best_f.copy(), best_g.copy()\n",
    "\n",
    "    while (restart_nums > 0):\n",
    "       \n",
    "       frank_budget = search_budget\n",
    "       \n",
    "       while (frank_budget > 0):\n",
    "          \n",
    "          f, g = update_fg(cur_f, cur_g, set_f, set_g, change_number)\n",
    "          \n",
    "          S0 = fg_to_R_float(f, g)\n",
    "          \n",
    "          S, used_iter = fw(S0=S0, max_iter=search_budget, use_taboo = True)\n",
    "          \n",
    "          frank_budget -= used_iter\n",
    "          \n",
    "          R = S_to_R(S, n, m)\n",
    "          \n",
    "          dis_R = dis(R, X, Y) * d_max\n",
    "          \n",
    "          if dis_R != best_dis_R:\n",
    "             print(dis_R, best_dis_R)\n",
    "\n",
    "          if dis_R < best_dis_R:\n",
    "             \n",
    "             best_f, best_g = map(list, S_to_fg(S, n, m))\n",
    "             cur_f, cur_g = best_f.copy(), best_g.copy()\n",
    "             best_dis_R = dis_R\n",
    "        \n",
    "          if np.isclose(best_dis_R, lb, atol=0.1): #atol = 1?\n",
    "             break\n",
    "          \n",
    "       if np.isclose(best_dis_R, lb, atol=0.1): #atol = 1?\n",
    "          break\n",
    "       \n",
    "       S0 = rnd_S(n, m)\n",
    "\n",
    "       #print(\"RESTART start\")\n",
    "       S, _ = fw(S0=S0, max_iter=budget_for_start, use_taboo = False) #получаем новое вроде бы неплохое отображение\n",
    "       #print(\"RESTART end\")\n",
    "\n",
    "       R = S_to_R(S, n, m)\n",
    "       dis_R = dis(R, X, Y) * d_max\n",
    "\n",
    "       cur_f, cur_g = map(list, S_to_fg(S, n, m))\n",
    "\n",
    "       if dis_R < best_dis_R:\n",
    "         best_f, best_g =  cur_f.copy(), cur_g.copy()\n",
    "         best_dis_R = dis_R\n",
    "         \n",
    "       if np.isclose(best_dis_R, lb, atol=0.1): #atol = 1?\n",
    "         break\n",
    "\n",
    "       restart_nums -= 1\n",
    "\n",
    "       print(f\"{'restart', 10 - restart_nums}\")\n",
    "       \n",
    "    \n",
    "    res = (best_dis_R/2, best_f, best_g) if return_fg else best_dis_R/2\n",
    "\n",
    "    return res"
   ]
  },
  {
   "cell_type": "code",
   "execution_count": 64,
   "id": "4de1e0a8",
   "metadata": {},
   "outputs": [
    {
     "data": {
      "text/plain": [
       "np.float64(9.982129780737243e-15)"
      ]
     },
     "execution_count": 64,
     "metadata": {},
     "output_type": "execute_result"
    }
   ],
   "source": [
    "result = upper(X, Y, iter_budget=500, return_fg=True)\n",
    "d_gh, f, g, c = result\n",
    "d_gh"
   ]
  },
  {
   "cell_type": "code",
   "execution_count": 65,
   "id": "fc637f8e",
   "metadata": {},
   "outputs": [
    {
     "data": {
      "text/plain": [
       "np.float64(12.867148049952613)"
      ]
     },
     "execution_count": 65,
     "metadata": {},
     "output_type": "execute_result"
    }
   ],
   "source": [
    "result = upper(X, Y, iter_budget=100, return_fg=True)\n",
    "d_gh, f, g, c = result\n",
    "d_gh"
   ]
  },
  {
   "cell_type": "code",
   "execution_count": 130,
   "id": "3737cb96",
   "metadata": {},
   "outputs": [
    {
     "name": "stdout",
     "output_type": "stream",
     "text": [
      "20 19\n",
      "15.91028027860233 25.734296099905226\n",
      "24.36558138121449 15.91028027860233\n",
      "25.734296099905226 15.91028027860233\n",
      "25.734296099905222 15.91028027860233\n",
      "('restart', -39)\n",
      "23.090691836869542 15.91028027860233\n",
      "21.314338889899656 15.91028027860233\n",
      "25.734296099905226 15.91028027860233\n",
      "nothing to find here\n",
      "21.314338889899656 15.91028027860233\n",
      "25.734296099905226 15.91028027860233\n",
      "21.314338889899656 15.91028027860233\n",
      "('restart', -38)\n",
      "25.734296099905226 15.91028027860233\n",
      "27.73416504041199 15.91028027860233\n",
      "16.879680442648592 15.91028027860233\n",
      "25.734296099905226 15.91028027860233\n",
      "19.206508729108563 15.91028027860233\n",
      "19.206508729108563 15.91028027860233\n",
      "25.734296099905222 15.91028027860233\n",
      "('restart', -37)\n",
      "21.392287342867547 15.91028027860233\n",
      "19.206508729108563 15.91028027860233\n",
      "23.090691836869542 15.91028027860233\n",
      "24.365581381214493 15.91028027860233\n",
      "25.734296099905226 15.91028027860233\n",
      "25.734296099905226 15.91028027860233\n",
      "21.392287342867547 15.91028027860233\n",
      "('restart', -36)\n",
      "16.879680442648592 15.91028027860233\n",
      "nothing to find here\n",
      "25.734296099905222 15.91028027860233\n",
      "24.365581381214493 15.91028027860233\n",
      "nothing to find here\n",
      "21.314338889899656 15.91028027860233\n",
      "16.357821346906203 15.91028027860233\n",
      "22.461058350565196 15.91028027860233\n",
      "('restart', -35)\n",
      "21.392287342867547 15.91028027860233\n",
      "21.314338889899656 15.91028027860233\n",
      "22.4610583505652 15.91028027860233\n",
      "23.090691836869542 15.91028027860233\n",
      "25.734296099905222 15.91028027860233\n",
      "24.365581381214493 15.91028027860233\n",
      "('restart', -34)\n",
      "24.365581381214493 15.91028027860233\n",
      "25.734296099905222 15.91028027860233\n",
      "17.78480643915691 15.91028027860233\n",
      "21.314338889899656 15.91028027860233\n",
      "33.072487563946375 15.91028027860233\n",
      "('restart', -33)\n",
      "nothing to find here\n",
      "16.879680442648592 15.91028027860233\n",
      "25.734296099905222 15.91028027860233\n",
      "25.734296099905226 15.91028027860233\n",
      "25.734296099905226 15.91028027860233\n",
      "16.357821346906203 15.91028027860233\n",
      "('restart', -32)\n",
      "25.734296099905226 15.91028027860233\n",
      "17.534621395524645 15.91028027860233\n",
      "21.314338889899656 15.91028027860233\n",
      "25.734296099905222 15.91028027860233\n",
      "24.365581381214493 15.91028027860233\n",
      "22.4610583505652 15.91028027860233\n",
      "('restart', -31)\n",
      "25.734296099905222 15.91028027860233\n",
      "24.365581381214493 15.91028027860233\n",
      "23.090691836869542 15.91028027860233\n",
      "21.392287342867547 15.91028027860233\n",
      "25.734296099905222 15.91028027860233\n",
      "nothing to find here\n",
      "16.879680442648592 15.91028027860233\n",
      "('restart', -30)\n",
      "21.392287342867547 15.91028027860233\n",
      "25.734296099905226 15.91028027860233\n",
      "25.734296099905226 15.91028027860233\n",
      "23.490023367523644 15.91028027860233\n",
      "19.206508729108563 15.91028027860233\n",
      "24.81799748804828 15.91028027860233\n",
      "('restart', -29)\n",
      "19.206508729108563 15.91028027860233\n",
      "25.734296099905226 15.91028027860233\n",
      "nothing to find here\n",
      "25.734296099905222 15.91028027860233\n",
      "21.873309517405595 15.91028027860233\n",
      "21.314338889899656 15.91028027860233\n",
      "('restart', -28)\n",
      "nothing to find here\n",
      "23.428441786934048 15.91028027860233\n",
      "nothing to find here\n",
      "21.392287342867547 15.91028027860233\n",
      "25.734296099905226 15.91028027860233\n",
      "23.072335104418247 15.91028027860233\n",
      "23.490023367523644 15.91028027860233\n",
      "('restart', -27)\n",
      "25.734296099905222 15.91028027860233\n",
      "22.4610583505652 15.91028027860233\n",
      "25.734296099905226 15.91028027860233\n",
      "23.072335104418247 15.91028027860233\n",
      "19.206508729108563 15.91028027860233\n",
      "('restart', -26)\n",
      "25.109611597452073 15.91028027860233\n",
      "25.734296099905222 15.91028027860233\n",
      "25.734296099905222 15.91028027860233\n",
      "17.534621395524645 15.91028027860233\n",
      "25.734296099905222 15.91028027860233\n",
      "25.734296099905226 15.91028027860233\n",
      "('restart', -25)\n",
      "22.461058350565196 15.91028027860233\n",
      "27.73416504041199 15.91028027860233\n",
      "25.734296099905222 15.91028027860233\n",
      "nothing to find here\n",
      "27.73416504041199 15.91028027860233\n",
      "25.734296099905226 15.91028027860233\n",
      "('restart', -24)\n",
      "nothing to find here\n",
      "24.365581381214493 15.91028027860233\n",
      "25.734296099905226 15.91028027860233\n",
      "16.357821346906203 15.91028027860233\n",
      "27.73416504041199 15.91028027860233\n",
      "18.56961051719538 15.91028027860233\n",
      "('restart', -23)\n",
      "21.392287342867547 15.91028027860233\n",
      "25.734296099905226 15.91028027860233\n",
      "23.49002336752364 15.91028027860233\n",
      "nothing to find here\n",
      "21.314338889899656 15.91028027860233\n",
      "29.402138995878317 15.91028027860233\n",
      "nothing to find here\n",
      "21.314338889899656 15.91028027860233\n",
      "('restart', -22)\n",
      "24.36558138121449 15.91028027860233\n",
      "17.534621395524645 15.91028027860233\n",
      "25.734296099905226 15.91028027860233\n",
      "nothing to find here\n",
      "16.879680442648592 15.91028027860233\n",
      "19.206508729108563 15.91028027860233\n",
      "('restart', -21)\n",
      "25.734296099905222 15.91028027860233\n",
      "25.734296099905222 15.91028027860233\n",
      "23.090691836869542 15.91028027860233\n",
      "24.140312804028213 15.91028027860233\n",
      "17.534621395524645 15.91028027860233\n",
      "18.174077421155122 15.91028027860233\n",
      "('restart', -20)\n",
      "25.734296099905226 15.91028027860233\n",
      "25.734296099905226 15.91028027860233\n",
      "nothing to find here\n",
      "25.734296099905226 15.91028027860233\n",
      "nothing to find here\n",
      "25.734296099905226 15.91028027860233\n",
      "22.4610583505652 15.91028027860233\n",
      "25.734296099905226 15.91028027860233\n",
      "('restart', -19)\n",
      "21.392287342867547 15.91028027860233\n",
      "25.734296099905222 15.91028027860233\n",
      "25.734296099905226 15.91028027860233\n",
      "21.314338889899656 15.91028027860233\n",
      "27.73416504041199 15.91028027860233\n",
      "19.206508729108563 15.91028027860233\n",
      "('restart', -18)\n",
      "25.734296099905222 15.91028027860233\n",
      "25.734296099905222 15.91028027860233\n",
      "27.73416504041199 15.91028027860233\n",
      "25.734296099905226 15.91028027860233\n",
      "27.734165040411984 15.91028027860233\n",
      "('restart', -17)\n",
      "22.260571211975027 15.91028027860233\n",
      "nothing to find here\n",
      "16.879680442648592 15.91028027860233\n",
      "nothing to find here\n",
      "24.36558138121449 15.91028027860233\n",
      "16.357821346906203 15.91028027860233\n",
      "('restart', -16)\n",
      "25.734296099905226 15.91028027860233\n",
      "nothing to find here\n",
      "25.734296099905222 15.91028027860233\n",
      "27.734165040411984 15.91028027860233\n",
      "nothing to find here\n",
      "16.879680442648592 15.91028027860233\n",
      "23.49002336752364 15.91028027860233\n",
      "('restart', -15)\n",
      "19.206508729108563 15.91028027860233\n",
      "nothing to find here\n",
      "25.734296099905226 15.91028027860233\n",
      "27.75133698932029 15.91028027860233\n",
      "17.946006885024673 15.91028027860233\n",
      "nothing to find here\n",
      "19.206508729108563 15.91028027860233\n",
      "25.734296099905222 15.91028027860233\n",
      "nothing to find here\n",
      "21.392287342867547 15.91028027860233\n",
      "('restart', -14)\n",
      "23.090691836869542 15.91028027860233\n",
      "nothing to find here\n",
      "21.392287342867547 15.91028027860233\n",
      "23.428441786934048 15.91028027860233\n",
      "nothing to find here\n",
      "25.734296099905226 15.91028027860233\n",
      "25.734296099905226 15.91028027860233\n",
      "('restart', -13)\n",
      "22.4610583505652 15.91028027860233\n",
      "21.392287342867547 15.91028027860233\n",
      "nothing to find here\n",
      "17.534621395524645 15.91028027860233\n",
      "21.314338889899656 15.91028027860233\n",
      "25.734296099905226 15.91028027860233\n",
      "nothing to find here\n",
      "('restart', -12)\n",
      "25.734296099905226 15.91028027860233\n",
      "25.734296099905226 15.91028027860233\n",
      "21.314338889899656 15.91028027860233\n",
      "21.314338889899656 15.91028027860233\n",
      "('restart', -11)\n",
      "22.4610583505652 15.91028027860233\n",
      "25.734296099905226 15.91028027860233\n",
      "25.734296099905222 15.91028027860233\n",
      "25.734296099905226 15.91028027860233\n",
      "24.36558138121449 15.91028027860233\n",
      "('restart', -10)\n",
      "18.174077421155125 15.91028027860233\n",
      "nothing to find here\n",
      "25.734296099905222 15.91028027860233\n",
      "21.392287342867547 15.91028027860233\n",
      "25.734296099905222 15.91028027860233\n",
      "nothing to find here\n",
      "16.357821346906203 15.91028027860233\n",
      "('restart', -9)\n",
      "nothing to find here\n",
      "25.734296099905226 15.91028027860233\n",
      "22.496344905767067 15.91028027860233\n",
      "21.392287342867547 15.91028027860233\n",
      "nothing to find here\n",
      "19.206508729108563 15.91028027860233\n",
      "25.734296099905226 15.91028027860233\n",
      "('restart', -8)\n",
      "25.734296099905226 15.91028027860233\n",
      "nothing to find here\n",
      "21.392287342867547 15.91028027860233\n",
      "17.534621395524645 15.91028027860233\n",
      "23.090691836869542 15.91028027860233\n",
      "nothing to find here\n",
      "25.734296099905222 15.91028027860233\n",
      "23.71552186891761 15.91028027860233\n",
      "('restart', -7)\n",
      "21.873309517405595 15.91028027860233\n",
      "25.734296099905226 15.91028027860233\n",
      "25.734296099905226 15.91028027860233\n",
      "25.734296099905226 15.91028027860233\n",
      "nothing to find here\n",
      "19.206508729108563 15.91028027860233\n",
      "25.734296099905226 15.91028027860233\n",
      "('restart', -6)\n",
      "25.734296099905226 15.91028027860233\n",
      "nothing to find here\n",
      "19.206508729108563 15.91028027860233\n",
      "25.734296099905226 15.91028027860233\n",
      "25.734296099905226 15.91028027860233\n",
      "25.734296099905226 15.91028027860233\n",
      "nothing to find here\n",
      "24.36558138121449 15.91028027860233\n",
      "('restart', -5)\n",
      "23.781761677139418 15.91028027860233\n",
      "nothing to find here\n",
      "21.314338889899656 15.91028027860233\n",
      "25.734296099905226 15.91028027860233\n",
      "nothing to find here\n",
      "25.734296099905226 15.91028027860233\n",
      "22.4610583505652 15.91028027860233\n",
      "('restart', -4)\n",
      "24.365581381214493 15.91028027860233\n",
      "nothing to find here\n",
      "19.206508729108563 15.91028027860233\n",
      "17.946006885024673 15.91028027860233\n",
      "nothing to find here\n",
      "25.734296099905222 15.91028027860233\n",
      "('restart', -3)\n",
      "nothing to find here\n",
      "24.36558138121449 15.91028027860233\n",
      "25.734296099905222 15.91028027860233\n",
      "25.734296099905222 15.91028027860233\n",
      "19.206508729108563 15.91028027860233\n",
      "nothing to find here\n",
      "16.879680442648592 15.91028027860233\n",
      "24.36558138121449 15.91028027860233\n",
      "26.53215320955503 15.91028027860233\n",
      "('restart', -2)\n",
      "25.734296099905226 15.91028027860233\n",
      "25.734296099905226 15.91028027860233\n",
      "27.73416504041199 15.91028027860233\n",
      "nothing to find here\n",
      "16.879680442648592 15.91028027860233\n",
      "23.072335104418247 15.91028027860233\n",
      "25.734296099905226 15.91028027860233\n",
      "('restart', -1)\n",
      "nothing to find here\n",
      "16.879680442648592 15.91028027860233\n",
      "18.174077421155122 15.91028027860233\n",
      "22.496344905767067 15.91028027860233\n",
      "25.734296099905226 15.91028027860233\n",
      "25.734296099905226 15.91028027860233\n",
      "nothing to find here\n",
      "21.314338889899656 15.91028027860233\n",
      "('restart', 0)\n",
      "19.206508729108563 15.91028027860233\n",
      "24.36558138121449 15.91028027860233\n",
      "24.692228784075063 15.91028027860233\n",
      "25.734296099905226 15.91028027860233\n",
      "nothing to find here\n",
      "25.734296099905226 15.91028027860233\n",
      "('restart', 1)\n",
      "nothing to find here\n",
      "25.734296099905226 15.91028027860233\n",
      "25.734296099905226 15.91028027860233\n",
      "nothing to find here\n",
      "25.734296099905222 15.91028027860233\n",
      "nothing to find here\n",
      "25.734296099905226 15.91028027860233\n",
      "('restart', 2)\n",
      "23.07233510441825 15.91028027860233\n",
      "nothing to find here\n",
      "16.357821346906203 15.91028027860233\n",
      "19.206508729108563 15.91028027860233\n",
      "25.734296099905222 15.91028027860233\n",
      "nothing to find here\n",
      "17.534621395524645 15.91028027860233\n",
      "23.090691836869542 15.91028027860233\n",
      "('restart', 3)\n",
      "25.734296099905222 15.91028027860233\n",
      "19.206508729108563 15.91028027860233\n",
      "nothing to find here\n",
      "21.314338889899656 15.91028027860233\n",
      "nothing to find here\n",
      "nothing to find here\n",
      "23.090691836869542 15.91028027860233\n",
      "('restart', 4)\n",
      "23.428441786934048 15.91028027860233\n",
      "19.206508729108563 15.91028027860233\n",
      "25.734296099905226 15.91028027860233\n",
      "25.734296099905226 15.91028027860233\n",
      "nothing to find here\n",
      "24.365581381214493 15.91028027860233\n",
      "nothing to find here\n",
      "19.206508729108563 15.91028027860233\n",
      "('restart', 5)\n",
      "nothing to find here\n",
      "21.314338889899656 15.91028027860233\n",
      "25.734296099905226 15.91028027860233\n",
      "19.206508729108563 15.91028027860233\n",
      "nothing to find here\n",
      "19.206508729108563 15.91028027860233\n",
      "24.365581381214493 15.91028027860233\n",
      "('restart', 6)\n",
      "nothing to find here\n",
      "21.314338889899656 15.91028027860233\n",
      "23.090691836869542 15.91028027860233\n",
      "nothing to find here\n",
      "25.734296099905226 15.91028027860233\n",
      "25.734296099905226 15.91028027860233\n",
      "('restart', 7)\n",
      "25.734296099905222 15.91028027860233\n",
      "nothing to find here\n",
      "25.734296099905226 15.91028027860233\n",
      "25.734296099905226 15.91028027860233\n",
      "22.4610583505652 15.91028027860233\n",
      "nothing to find here\n",
      "25.734296099905226 15.91028027860233\n",
      "23.090691836869542 15.91028027860233\n",
      "nothing to find here\n",
      "25.734296099905226 15.91028027860233\n",
      "('restart', 8)\n",
      "25.109611597452073 15.91028027860233\n",
      "25.734296099905226 15.91028027860233\n",
      "23.090691836869542 15.91028027860233\n",
      "25.734296099905226 15.91028027860233\n",
      "nothing to find here\n",
      "17.534621395524645 15.91028027860233\n",
      "32.34657511439791 15.91028027860233\n",
      "('restart', 9)\n",
      "25.734296099905222 15.91028027860233\n",
      "23.07233510441825 15.91028027860233\n",
      "nothing to find here\n",
      "21.392287342867547 15.91028027860233\n",
      "17.946006885024673 15.91028027860233\n",
      "22.4610583505652 15.91028027860233\n",
      "25.734296099905222 15.91028027860233\n",
      "('restart', 10)\n"
     ]
    },
    {
     "data": {
      "text/plain": [
       "np.float64(7.955140139301165)"
      ]
     },
     "execution_count": 130,
     "metadata": {},
     "output_type": "execute_result"
    }
   ],
   "source": [
    "result = calculate_dgh_v2(X, Y, budget_for_start = 100, search_budget = 50, change_number=20, return_fg=True, restart_nums=50)\n",
    "d_gh, f, g = result\n",
    "d_gh"
   ]
  },
  {
   "cell_type": "code",
   "execution_count": 175,
   "id": "c20fb5af",
   "metadata": {},
   "outputs": [],
   "source": [
    "import plotly.graph_objects as go\n",
    "import numpy as np\n",
    "\n",
    "def plot_incorrect_mappings(points_X, points_Y, f, g, title=\"\"):\n",
    "    x_X, y_X, z_X = points_X\n",
    "    x_Y, y_Y, z_Y = points_Y\n",
    "    n = len(x_X)\n",
    "\n",
    "    incorrect_X = [i for i in range(n) if f[i] != i]\n",
    "    incorrect_Y = [i for i in range(n) if g[i] != i]\n",
    "\n",
    "    fig = go.Figure()\n",
    "\n",
    "    fig.add_trace(go.Scatter3d(\n",
    "        x=x_X, y=y_X, z=z_X, mode='markers+text',\n",
    "        text=[f'X{i}' for i in range(n)],\n",
    "        marker=dict(color='blue', size=5),\n",
    "        textposition='top center', name='X'\n",
    "    ))\n",
    "    fig.add_trace(go.Scatter3d(\n",
    "        x=x_Y, y=y_Y, z=z_Y, mode='markers+text',\n",
    "        text=[f'Y{i}' for i in range(n)],\n",
    "        marker=dict(color='red', size=5),\n",
    "        textposition='top center', name='Y'\n",
    "    ))\n",
    "\n",
    "    for i in incorrect_X:\n",
    "        j = f[i]\n",
    "        fig.add_trace(go.Scatter3d(\n",
    "            x=[x_X[i], x_Y[j]], y=[y_X[i], y_Y[j]], z=[z_X[i], z_Y[j]],\n",
    "            mode='lines', line=dict(color='blue', width=2, dash='dot'),\n",
    "            name=f'f(X{i}) → Y{j}'\n",
    "        ))\n",
    "\n",
    "    for i in incorrect_Y:\n",
    "        k = g[i]\n",
    "        fig.add_trace(go.Scatter3d(\n",
    "            x=[x_Y[i], x_X[k]], y=[y_Y[i], y_X[k]], z=[z_Y[i], z_X[k]],\n",
    "            mode='lines', line=dict(color='red', width=2, dash='dot'),\n",
    "            name=f'g(Y{i}) → X{k}'\n",
    "        ))\n",
    "\n",
    "    fig.update_layout(\n",
    "        title=title,\n",
    "        scene=dict(aspectmode='cube'),\n",
    "        showlegend=True\n",
    "    )\n",
    "\n",
    "    return fig"
   ]
  },
  {
   "cell_type": "code",
   "execution_count": 176,
   "id": "0d4ef3ba",
   "metadata": {},
   "outputs": [
    {
     "data": {
      "application/vnd.plotly.v1+json": {
       "config": {
        "plotlyServerURL": "https://plot.ly"
       },
       "data": [
        {
         "marker": {
          "color": "blue",
          "size": 5
         },
         "mode": "markers+text",
         "name": "X",
         "text": [
          "X0",
          "X1",
          "X2",
          "X3",
          "X4",
          "X5",
          "X6",
          "X7",
          "X8",
          "X9",
          "X10",
          "X11",
          "X12",
          "X13",
          "X14",
          "X15",
          "X16",
          "X17",
          "X18",
          "X19",
          "X20",
          "X21",
          "X22",
          "X23",
          "X24",
          "X25",
          "X26",
          "X27",
          "X28",
          "X29",
          "X30",
          "X31",
          "X32",
          "X33",
          "X34"
         ],
         "textposition": "top center",
         "type": "scatter3d",
         "x": {
          "bdata": "lrMZOOCrL8DwcEZY/RImwNgmnFoOUSdAqhkp1b29MUCy57W9ZtchwNyAZCFplDFA1kprMJGePUAk0HNrRPA3wDgOkABE0AHApPJvP/pZNcCwcbseeK82QBjo4KDNgjnAkjtMEC7wMcAKDHwT8R0xwPgdMLtvxTxAXnj/+VLRNkDAL98pcEIMQO0R+wzOczzA8Hr1ikSlMkCowGKx6qQWQNAEgCJROANApFAVGO/vIMDoL2zgvhs3QLCxKffNaCtAI8YnnfUOM8ALA3rlFNM8wKDpI4GU+AtAL6hjGhOSPcDIbM9sOlcaQJxaZjhCOC1AALaoAm60+r+awDUuasokwN7OzwYNKCfAsnxE+p9mPECIt875n785wA==",
          "dtype": "f8"
         },
         "y": {
          "bdata": "YR0X8xejM0Dhvexmups6wJmknmovLDdAltBQE945NcDQNDVy/xU4QFR8IyjHUihARInlXXt8/7+gyuwL2S/kv32ac+OxiTjAANICIiHw5L+Ac/d3ZQzcv5I8L/JOFyXAO33ClcQoJMBYlL8D/VowQGQiDKQKU/q/sASZxm2eHUAgFbn9NrIPwJ+tS/nH3B3AjNxKp1rwIEBYr5HzHsAzwJBsTEsaTgFAUzV/Mn5/PEBmesTEMo4sQADGRiWRUMY/xNGrvOzEGUB6THdFo0AaQIDRgcJSgPy/YDU+MCV6D0DVFhJiIso3QBkfDqDvqzTAEGkw4vuoAcAQ5ApMY4P3v+A4cItFnDfA01kqcr7kEMCQSkW34fPvvw==",
          "dtype": "f8"
         },
         "z": {
          "bdata": "Ot/Nn3o8MEAF3O6/NsEgQE+5e3UAJC5ALWt7uWk2J0AeKrIFpQAvwN3h8Ql2DDVAuoI1qCBaEUC3KqyuFRIywLINY7OGHTFANrUnclkQNcDBRymoQKAzwDLf/m5GfifAFW8RqujUNcCRQ4K4AG0yQNBpbZemrCBAjtWBjbkDMkDlCIDg04Y9QBvbfKx1khfA3pedYz/sNUBMLvKOOtw1QOpMPjdH0z1A2j40EZASEMD2nPXIsXcpQPJH7OWnrzrAjXuwhjVBNkDqhiDGkGwUwKX/lvQEvj3AQJUAiP5rCUCZxGSAtgwxQOiqqB7NGTDA42OHokDfPUCsfhKXXBo8QBKZRsHl4CxAiW9M8l5iIUAdEWEnwrkuQA==",
          "dtype": "f8"
         }
        },
        {
         "marker": {
          "color": "red",
          "size": 5
         },
         "mode": "markers+text",
         "name": "Y",
         "text": [
          "Y0",
          "Y1",
          "Y2",
          "Y3",
          "Y4",
          "Y5",
          "Y6",
          "Y7",
          "Y8",
          "Y9",
          "Y10",
          "Y11",
          "Y12",
          "Y13",
          "Y14",
          "Y15",
          "Y16",
          "Y17",
          "Y18",
          "Y19",
          "Y20",
          "Y21",
          "Y22",
          "Y23",
          "Y24",
          "Y25",
          "Y26",
          "Y27",
          "Y28",
          "Y29",
          "Y30",
          "Y31",
          "Y32",
          "Y33",
          "Y34"
         ],
         "textposition": "top center",
         "type": "scatter3d",
         "x": {
          "bdata": "GpP58QeVRkDEY+6pQPtIQNuEU8shKlJAakZKdW+vU0AUhpJQJgpKQDcgWUgapVNAttIaTKSnVkDuF0bK3YdCQBz/9r/7Yk1ArgZI4ALTQ0Bs3K4H3utUQPSLjy+ZvkFAN+LZ9+iHRUD7+UF2B/FFQH4HzO5bcVZAGN5/vlT0VEB++U6BEyJQQAp3gvkYRkBAvF69IlHpU0AKLBarTqpQQE0AKBKFs09A16v6OQRESkD6Cxu47wZVQDY25b4ZrVJA7hxsMYX4REB6/kKNdRZAQE0fCaTEH1BA0Vec5extP0DM9symc+VQQFTLDEcI51JAULrqj1yqTUDaj3J0ZU1JQEgMTL78tUhALB+R/qdZVkA8pBgDMKBBQA==",
          "dtype": "f8"
         },
         "y": {
          "bdata": "WMfF/MUoVEAQoYnMIjJBQCapp9oLC1VAtZdX9hDjQ0A0TY3cf0VVQIpvBOVYSlJAttMQJRyETUDWTNCbQC9OQMIyRg4nO0JAuPR3ez8sTkAZERA150dOQNwwdEMsOklAsWCP2s51SUAW5e9Av1ZTQO2e36pnrU1AS5Bp3OYZUUCubiSQ3IRMQEyK1gBnxEpAklvpVAteUUBUKDeG8J9EQMnGtKThlE9AVc2fjN9fVkBNj5hYxtFSQMZGJZFQlk5AHL3Ky07cUEDIdFc0CuRQQHTx62n9m01Aq/GBKdE7UEC1hYSYiDJVQHTw+C8IKkRAb/ncQXBlTUDgqJ/l5MNNQJDjRzrdsUJAxrS6MWhjTEDW6iJ5MABOQA==",
          "dtype": "f8"
         },
         "z": {
          "bdata": "znfzpx5PU0CB2/3XJlhRQCp3rw6ABFNAZm0vN80mUkB4dZO+1r9GQHd4fIIdg1RALFiDCqJVUECk6qko9XZFQGzD2Kxhh1NAZSXsRtP3Q0AgXOur369EQDRIQGRuoEhAdkj3qouVQ0DkkCAuQNtTQDqt7dKUVVFAZHVgY+7AU0A5AiD4tKFWQJ1kcEqxjUtA+GXn2A+7VECTi7yjDrdUQDqTz83RtFZAJXjZ/a19TECfsx459m5SQAfcCQ0sKEFA4x6sYU3QVEAj7zvnbfJLQFsAaQv7QT9AqgRA9F8LUEAmMRmgLYNTQIyqq3AZc0ZA+dihKNC3VkCrn8Qll0ZWQCLTKLgc3FJA8Y1J3ktsUUAkIuxEOBdTQA==",
          "dtype": "f8"
         }
        },
        {
         "line": {
          "color": "blue",
          "dash": "dot",
          "width": 2
         },
         "mode": "lines",
         "name": "f(X0) → Y34",
         "type": "scatter3d",
         "x": [
          -15.835695031297103,
          35.25146521285248
         ],
         "y": [
          19.637084191458943,
          60.00147928433368
         ],
         "z": [
          16.23624609733745,
          76.36280940112971
         ]
        },
        {
         "line": {
          "color": "blue",
          "dash": "dot",
          "width": 2
         },
         "mode": "lines",
         "name": "f(X1) → Y28",
         "type": "scatter3d",
         "x": [
          -11.037089117621207,
          67.58518381134053
         ],
         "y": [
          -26.608313019560118,
          84.78958714429503
         ],
         "z": [
          8.377370832355163,
          78.04965975246577
         ]
        },
        {
         "line": {
          "color": "blue",
          "dash": "dot",
          "width": 2
         },
         "mode": "lines",
         "name": "f(X2) → Y8",
         "type": "scatter3d",
         "x": [
          11.658312636910907,
          58.7733077961004
         ],
         "y": [
          23.172598518115226,
          36.46212938716555
         ],
         "z": [
          15.070316001275073,
          78.11533662002847
         ]
        },
        {
         "line": {
          "color": "blue",
          "dash": "dot",
          "width": 2
         },
         "mode": "lines",
         "name": "f(X3) → Y15",
         "type": "scatter3d",
         "x": [
          17.741177866491547,
          83.81767237174097
         ],
         "y": [
          -21.226044852476285,
          68.40471563633871
         ],
         "z": [
          11.606275364223245,
          79.01455006046086
         ]
        },
        {
         "line": {
          "color": "blue",
          "dash": "dot",
          "width": 2
         },
         "mode": "lines",
         "name": "f(X4) → Y12",
         "type": "scatter3d",
         "x": [
          -8.920705727057655,
          43.0617971242795
         ],
         "y": [
          24.0859290485285,
          50.92037517548432
         ],
         "z": [
          -15.501259019850348,
          39.16832482408874
         ]
        },
        {
         "line": {
          "color": "blue",
          "dash": "dot",
          "width": 2
         },
         "mode": "lines",
         "name": "f(X5) → Y19",
         "type": "scatter3d",
         "x": [
          17.5797291632051,
          66.66105153241384
         ],
         "y": [
          12.161675695735688,
          41.24952771847953
         ],
         "z": [
          21.048676129868785,
          82.8602685300123
         ]
        },
        {
         "line": {
          "color": "blue",
          "dash": "dot",
          "width": 2
         },
         "mode": "lines",
         "name": "f(X6) → Y33",
         "type": "scatter3d",
         "x": [
          29.619402910417953,
          89.40087856456802
         ],
         "y": [
          -1.967891089233107,
          56.77661725632201
         ],
         "z": [
          4.33801520182231,
          69.69213063414624
         ]
        },
        {
         "line": {
          "color": "blue",
          "dash": "dot",
          "width": 2
         },
         "mode": "lines",
         "name": "f(X7) → Y4",
         "type": "scatter3d",
         "x": [
          -23.938544002318068,
          52.07929427294235
         ],
         "y": [
          -0.6308408005628117,
          85.0859290485285
         ],
         "z": [
          -18.070643345864223,
          45.49874098014965
         ]
        },
        {
         "line": {
          "color": "blue",
          "dash": "dot",
          "width": 2
         },
         "mode": "lines",
         "name": "f(X8) → Y2",
         "type": "scatter3d",
         "x": [
          -2.2266922038995993,
          72.6583126369109
         ],
         "y": [
          -24.537870612834457,
          84.17259851811522
         ],
         "z": [
          17.11533662002848,
          76.07031600127507
         ]
        },
        {
         "line": {
          "color": "blue",
          "dash": "dot",
          "width": 2
         },
         "mode": "lines",
         "name": "f(X9) → Y4",
         "type": "scatter3d",
         "x": [
          -21.351474728423128,
          52.07929427294235
         ],
         "y": [
          -0.6543126739766763,
          85.0859290485285
         ],
         "z": [
          -21.063864836401272,
          45.49874098014965
         ]
        },
        {
         "line": {
          "color": "blue",
          "dash": "dot",
          "width": 2
         },
         "mode": "lines",
         "name": "f(X10) → Y29",
         "type": "scatter3d",
         "x": [
          22.685426636469572,
          75.60988022088469
         ],
         "y": [
          -0.43825661387909776,
          40.32837485938299
         ],
         "z": [
          -19.62598658569164,
          44.89921387083186
         ]
        },
        {
         "line": {
          "color": "blue",
          "dash": "dot",
          "width": 2
         },
         "mode": "lines",
         "name": "f(X11) → Y21",
         "type": "scatter3d",
         "x": [
          -25.51095014086613,
          52.5313789819699
         ],
         "y": [
          -10.54552418543452,
          89.49801936727211
         ],
         "z": [
          -11.74663111554364,
          56.98187230223292
         ]
        },
        {
         "line": {
          "color": "blue",
          "dash": "dot",
          "width": 2
         },
         "mode": "lines",
         "name": "f(X12) → Y4",
         "type": "scatter3d",
         "x": [
          -17.9382028757205,
          52.07929427294235
         ],
         "y": [
          -10.079624824515681,
          85.0859290485285
         ],
         "z": [
          -21.83167517591126,
          45.49874098014965
         ]
        },
        {
         "line": {
          "color": "blue",
          "dash": "dot",
          "width": 2
         },
         "mode": "lines",
         "name": "f(X13) → Y34",
         "type": "scatter3d",
         "x": [
          -17.116959779534263,
          35.25146521285248
         ],
         "y": [
          16.355423197052318,
          60.00147928433368
         ],
         "z": [
          18.425792247584074,
          76.36280940112971
         ]
        },
        {
         "line": {
          "color": "blue",
          "dash": "dot",
          "width": 2
         },
         "mode": "lines",
         "name": "f(X14) → Y33",
         "type": "scatter3d",
         "x": [
          28.771236132857638,
          89.40087856456802
         ],
         "y": [
          -1.6452738197423509,
          56.77661725632201
         ],
         "z": [
          8.337208492380256,
          69.69213063414624
         ]
        },
        {
         "line": {
          "color": "blue",
          "dash": "dot",
          "width": 2
         },
         "mode": "lines",
         "name": "f(X15) → Y3",
         "type": "scatter3d",
         "x": [
          22.81767237174096,
          78.74117786649154
         ],
         "y": [
          7.404715636338707,
          39.773955147523715
         ],
         "z": [
          18.014550060460856,
          72.60627536422325
         ]
        },
        {
         "line": {
          "color": "blue",
          "dash": "dot",
          "width": 2
         },
         "mode": "lines",
         "name": "f(X17) → Y21",
         "type": "scatter3d",
         "x": [
          -28.452362834259407,
          52.5313789819699
         ],
         "y": [
          -7.465606589550048,
          89.49801936727211
         ],
         "z": [
          -5.893027014847372,
          56.98187230223292
         ]
        },
        {
         "line": {
          "color": "blue",
          "dash": "dot",
          "width": 2
         },
         "mode": "lines",
         "name": "f(X18) → Y19",
         "type": "scatter3d",
         "x": [
          18.645577130252548,
          66.66105153241384
         ],
         "y": [
          8.469441631210678,
          41.24952771847953
         ],
         "z": [
          21.922842241263304,
          82.8602685300123
         ]
        },
        {
         "line": {
          "color": "blue",
          "dash": "dot",
          "width": 2
         },
         "mode": "lines",
         "name": "f(X19) → Y5",
         "type": "scatter3d",
         "x": [
          5.661051532413843,
          78.5797291632051
         ],
         "y": [
          -19.750472281520473,
          73.16167569573568
         ],
         "z": [
          21.860268530012306,
          82.04867612986878
         ]
        },
        {
         "line": {
          "color": "blue",
          "dash": "dot",
          "width": 2
         },
         "mode": "lines",
         "name": "f(X20) → Y30",
         "type": "scatter3d",
         "x": [
          2.4024985022848355,
          59.33094977341955
         ],
         "y": [
          2.163136089582231,
          58.79248832025302
         ],
         "z": [
          29.825305416784353,
          90.87207999997544
         ]
        },
        {
         "line": {
          "color": "blue",
          "dash": "dot",
          "width": 2
         },
         "mode": "lines",
         "name": "f(X21) → Y11",
         "type": "scatter3d",
         "x": [
          -8.468621018030099,
          35.48904985913387
         ],
         "y": [
          28.498019367272104,
          50.454475814565484
         ],
         "z": [
          -4.0181276977670795,
          49.253368884456364
         ]
        },
        {
         "line": {
          "color": "blue",
          "dash": "dot",
          "width": 2
         },
         "mode": "lines",
         "name": "f(X22) → Y3",
         "type": "scatter3d",
         "x": [
          23.108381296551585,
          78.74117786649154
         ],
         "y": [
          14.277731083854814,
          39.773955147523715
         ],
         "z": [
          12.73377826688964,
          72.60627536422325
         ]
        },
        {
         "line": {
          "color": "blue",
          "dash": "dot",
          "width": 2
         },
         "mode": "lines",
         "name": "f(X28) → Y32",
         "type": "scatter3d",
         "x": [
          6.585183811340535,
          49.42177561486511
         ],
         "y": [
          23.78958714429503,
          37.389563832380304
         ],
         "z": [
          17.049659752465775,
          75.43925289141455
         ]
        },
        {
         "line": {
          "color": "blue",
          "dash": "dot",
          "width": 2
         },
         "mode": "lines",
         "name": "f(X29) → Y10",
         "type": "scatter3d",
         "x": [
          14.609880220884683,
          83.68542663646957
         ],
         "y": [
          -20.671625140617014,
          60.5617433861209
         ],
         "z": [
          -16.100786129168142,
          41.374013414308365
         ]
        },
        {
         "line": {
          "color": "blue",
          "dash": "dot",
          "width": 2
         },
         "mode": "lines",
         "name": "f(X32) → Y28",
         "type": "scatter3d",
         "x": [
          -11.578224385134884,
          67.58518381134053
         ],
         "y": [
          -23.610436167619696,
          84.78958714429503
         ],
         "z": [
          14.439252891414558,
          78.04965975246577
         ]
        },
        {
         "line": {
          "color": "blue",
          "dash": "dot",
          "width": 2
         },
         "mode": "lines",
         "name": "f(X34) → Y13",
         "type": "scatter3d",
         "x": [
          -25.74853478714752,
          43.88304022046574
         ],
         "y": [
          -0.9985207156663183,
          77.35542319705232
         ],
         "z": [
          15.362809401129704,
          79.42579224758407
         ]
        },
        {
         "line": {
          "color": "red",
          "dash": "dot",
          "width": 2
         },
         "mode": "lines",
         "name": "g(Y0) → X34",
         "type": "scatter3d",
         "x": [
          45.16430496870289,
          -25.74853478714752
         ],
         "y": [
          80.63708419145894,
          -0.9985207156663183
         ],
         "z": [
          77.23624609733744,
          15.362809401129704
         ]
        },
        {
         "line": {
          "color": "red",
          "dash": "dot",
          "width": 2
         },
         "mode": "lines",
         "name": "g(Y1) → X28",
         "type": "scatter3d",
         "x": [
          49.96291088237879,
          6.585183811340535
         ],
         "y": [
          34.391686980439886,
          23.78958714429503
         ],
         "z": [
          69.37737083235517,
          17.049659752465775
         ]
        },
        {
         "line": {
          "color": "red",
          "dash": "dot",
          "width": 2
         },
         "mode": "lines",
         "name": "g(Y2) → X8",
         "type": "scatter3d",
         "x": [
          72.6583126369109,
          -2.2266922038995993
         ],
         "y": [
          84.17259851811522,
          -24.537870612834457
         ],
         "z": [
          76.07031600127507,
          17.11533662002848
         ]
        },
        {
         "line": {
          "color": "red",
          "dash": "dot",
          "width": 2
         },
         "mode": "lines",
         "name": "g(Y3) → X15",
         "type": "scatter3d",
         "x": [
          78.74117786649154,
          22.81767237174096
         ],
         "y": [
          39.773955147523715,
          7.404715636338707
         ],
         "z": [
          72.60627536422325,
          18.014550060460856
         ]
        },
        {
         "line": {
          "color": "red",
          "dash": "dot",
          "width": 2
         },
         "mode": "lines",
         "name": "g(Y4) → X12",
         "type": "scatter3d",
         "x": [
          52.07929427294235,
          -17.9382028757205
         ],
         "y": [
          85.0859290485285,
          -10.079624824515681
         ],
         "z": [
          45.49874098014965,
          -21.83167517591126
         ]
        },
        {
         "line": {
          "color": "red",
          "dash": "dot",
          "width": 2
         },
         "mode": "lines",
         "name": "g(Y5) → X19",
         "type": "scatter3d",
         "x": [
          78.5797291632051,
          5.661051532413843
         ],
         "y": [
          73.16167569573568,
          -19.750472281520473
         ],
         "z": [
          82.04867612986878,
          21.860268530012306
         ]
        },
        {
         "line": {
          "color": "red",
          "dash": "dot",
          "width": 2
         },
         "mode": "lines",
         "name": "g(Y6) → X33",
         "type": "scatter3d",
         "x": [
          90.61940291041796,
          28.400878564568025
         ],
         "y": [
          59.032108910766894,
          -4.22338274367799
         ],
         "z": [
          65.33801520182232,
          8.69213063414624
         ]
        },
        {
         "line": {
          "color": "red",
          "dash": "dot",
          "width": 2
         },
         "mode": "lines",
         "name": "g(Y7) → X4",
         "type": "scatter3d",
         "x": [
          37.06145599768193,
          -8.920705727057655
         ],
         "y": [
          60.36915919943719,
          24.0859290485285
         ],
         "z": [
          42.92935665413577,
          -15.501259019850348
         ]
        },
        {
         "line": {
          "color": "red",
          "dash": "dot",
          "width": 2
         },
         "mode": "lines",
         "name": "g(Y8) → X2",
         "type": "scatter3d",
         "x": [
          58.7733077961004,
          11.658312636910907
         ],
         "y": [
          36.46212938716555,
          23.172598518115226
         ],
         "z": [
          78.11533662002847,
          15.070316001275073
         ]
        },
        {
         "line": {
          "color": "red",
          "dash": "dot",
          "width": 2
         },
         "mode": "lines",
         "name": "g(Y9) → X4",
         "type": "scatter3d",
         "x": [
          39.64852527157687,
          -8.920705727057655
         ],
         "y": [
          60.345687326023324,
          24.0859290485285
         ],
         "z": [
          39.93613516359873,
          -15.501259019850348
         ]
        },
        {
         "line": {
          "color": "red",
          "dash": "dot",
          "width": 2
         },
         "mode": "lines",
         "name": "g(Y10) → X29",
         "type": "scatter3d",
         "x": [
          83.68542663646957,
          14.609880220884683
         ],
         "y": [
          60.5617433861209,
          -20.671625140617014
         ],
         "z": [
          41.374013414308365,
          -16.100786129168142
         ]
        },
        {
         "line": {
          "color": "red",
          "dash": "dot",
          "width": 2
         },
         "mode": "lines",
         "name": "g(Y11) → X21",
         "type": "scatter3d",
         "x": [
          35.48904985913387,
          -8.468621018030099
         ],
         "y": [
          50.454475814565484,
          28.498019367272104
         ],
         "z": [
          49.253368884456364,
          -4.0181276977670795
         ]
        },
        {
         "line": {
          "color": "red",
          "dash": "dot",
          "width": 2
         },
         "mode": "lines",
         "name": "g(Y12) → X4",
         "type": "scatter3d",
         "x": [
          43.0617971242795,
          -8.920705727057655
         ],
         "y": [
          50.92037517548432,
          24.0859290485285
         ],
         "z": [
          39.16832482408874,
          -15.501259019850348
         ]
        },
        {
         "line": {
          "color": "red",
          "dash": "dot",
          "width": 2
         },
         "mode": "lines",
         "name": "g(Y13) → X34",
         "type": "scatter3d",
         "x": [
          43.88304022046574,
          -25.74853478714752
         ],
         "y": [
          77.35542319705232,
          -0.9985207156663183
         ],
         "z": [
          79.42579224758407,
          15.362809401129704
         ]
        },
        {
         "line": {
          "color": "red",
          "dash": "dot",
          "width": 2
         },
         "mode": "lines",
         "name": "g(Y14) → X33",
         "type": "scatter3d",
         "x": [
          89.77123613285764,
          28.400878564568025
         ],
         "y": [
          59.35472618025765,
          -4.22338274367799
         ],
         "z": [
          69.33720849238026,
          8.69213063414624
         ]
        },
        {
         "line": {
          "color": "red",
          "dash": "dot",
          "width": 2
         },
         "mode": "lines",
         "name": "g(Y15) → X3",
         "type": "scatter3d",
         "x": [
          83.81767237174097,
          17.741177866491547
         ],
         "y": [
          68.40471563633871,
          -21.226044852476285
         ],
         "z": [
          79.01455006046086,
          11.606275364223245
         ]
        },
        {
         "line": {
          "color": "red",
          "dash": "dot",
          "width": 2
         },
         "mode": "lines",
         "name": "g(Y17) → X21",
         "type": "scatter3d",
         "x": [
          32.547637165740596,
          -8.468621018030099
         ],
         "y": [
          53.53439341044995,
          28.498019367272104
         ],
         "z": [
          55.10697298515263,
          -4.0181276977670795
         ]
        },
        {
         "line": {
          "color": "red",
          "dash": "dot",
          "width": 2
         },
         "mode": "lines",
         "name": "g(Y18) → X19",
         "type": "scatter3d",
         "x": [
          79.64557713025255,
          5.661051532413843
         ],
         "y": [
          69.46944163121069,
          -19.750472281520473
         ],
         "z": [
          82.92284224126331,
          21.860268530012306
         ]
        },
        {
         "line": {
          "color": "red",
          "dash": "dot",
          "width": 2
         },
         "mode": "lines",
         "name": "g(Y19) → X5",
         "type": "scatter3d",
         "x": [
          66.66105153241384,
          17.5797291632051
         ],
         "y": [
          41.24952771847953,
          12.161675695735688
         ],
         "z": [
          82.8602685300123,
          21.048676129868785
         ]
        },
        {
         "line": {
          "color": "red",
          "dash": "dot",
          "width": 2
         },
         "mode": "lines",
         "name": "g(Y20) → X16",
         "type": "scatter3d",
         "x": [
          63.402498502284836,
          3.532440497516262
         ],
         "y": [
          63.16313608958223,
          -3.962018949709673
         ],
         "z": [
          90.82530541678435,
          29.52667048574303
         ]
        },
        {
         "line": {
          "color": "red",
          "dash": "dot",
          "width": 2
         },
         "mode": "lines",
         "name": "g(Y21) → X11",
         "type": "scatter3d",
         "x": [
          52.5313789819699,
          -25.51095014086613
         ],
         "y": [
          89.49801936727211,
          -10.54552418543452
         ],
         "z": [
          56.98187230223292,
          -11.74663111554364
         ]
        },
        {
         "line": {
          "color": "red",
          "dash": "dot",
          "width": 2
         },
         "mode": "lines",
         "name": "g(Y22) → X3",
         "type": "scatter3d",
         "x": [
          84.10838129655158,
          17.741177866491547
         ],
         "y": [
          75.27773108385482,
          -21.226044852476285
         ],
         "z": [
          73.73377826688964,
          11.606275364223245
         ]
        },
        {
         "line": {
          "color": "red",
          "dash": "dot",
          "width": 2
         },
         "mode": "lines",
         "name": "g(Y28) → X32",
         "type": "scatter3d",
         "x": [
          67.58518381134053,
          -11.578224385134884
         ],
         "y": [
          84.78958714429503,
          -23.610436167619696
         ],
         "z": [
          78.04965975246577,
          14.439252891414558
         ]
        },
        {
         "line": {
          "color": "red",
          "dash": "dot",
          "width": 2
         },
         "mode": "lines",
         "name": "g(Y29) → X10",
         "type": "scatter3d",
         "x": [
          75.60988022088469,
          22.685426636469572
         ],
         "y": [
          40.32837485938299,
          -0.43825661387909776
         ],
         "z": [
          44.89921387083186,
          -19.62598658569164
         ]
        },
        {
         "line": {
          "color": "red",
          "dash": "dot",
          "width": 2
         },
         "mode": "lines",
         "name": "g(Y32) → X28",
         "type": "scatter3d",
         "x": [
          49.42177561486511,
          6.585183811340535
         ],
         "y": [
          37.389563832380304,
          23.78958714429503
         ],
         "z": [
          75.43925289141455,
          17.049659752465775
         ]
        },
        {
         "line": {
          "color": "red",
          "dash": "dot",
          "width": 2
         },
         "mode": "lines",
         "name": "g(Y34) → X13",
         "type": "scatter3d",
         "x": [
          35.25146521285248,
          -17.116959779534263
         ],
         "y": [
          60.00147928433368,
          16.355423197052318
         ],
         "z": [
          76.36280940112971,
          18.425792247584074
         ]
        }
       ],
       "layout": {
        "scene": {
         "aspectmode": "cube"
        },
        "showlegend": true,
        "template": {
         "data": {
          "bar": [
           {
            "error_x": {
             "color": "#2a3f5f"
            },
            "error_y": {
             "color": "#2a3f5f"
            },
            "marker": {
             "line": {
              "color": "#E5ECF6",
              "width": 0.5
             },
             "pattern": {
              "fillmode": "overlay",
              "size": 10,
              "solidity": 0.2
             }
            },
            "type": "bar"
           }
          ],
          "barpolar": [
           {
            "marker": {
             "line": {
              "color": "#E5ECF6",
              "width": 0.5
             },
             "pattern": {
              "fillmode": "overlay",
              "size": 10,
              "solidity": 0.2
             }
            },
            "type": "barpolar"
           }
          ],
          "carpet": [
           {
            "aaxis": {
             "endlinecolor": "#2a3f5f",
             "gridcolor": "white",
             "linecolor": "white",
             "minorgridcolor": "white",
             "startlinecolor": "#2a3f5f"
            },
            "baxis": {
             "endlinecolor": "#2a3f5f",
             "gridcolor": "white",
             "linecolor": "white",
             "minorgridcolor": "white",
             "startlinecolor": "#2a3f5f"
            },
            "type": "carpet"
           }
          ],
          "choropleth": [
           {
            "colorbar": {
             "outlinewidth": 0,
             "ticks": ""
            },
            "type": "choropleth"
           }
          ],
          "contour": [
           {
            "colorbar": {
             "outlinewidth": 0,
             "ticks": ""
            },
            "colorscale": [
             [
              0,
              "#0d0887"
             ],
             [
              0.1111111111111111,
              "#46039f"
             ],
             [
              0.2222222222222222,
              "#7201a8"
             ],
             [
              0.3333333333333333,
              "#9c179e"
             ],
             [
              0.4444444444444444,
              "#bd3786"
             ],
             [
              0.5555555555555556,
              "#d8576b"
             ],
             [
              0.6666666666666666,
              "#ed7953"
             ],
             [
              0.7777777777777778,
              "#fb9f3a"
             ],
             [
              0.8888888888888888,
              "#fdca26"
             ],
             [
              1,
              "#f0f921"
             ]
            ],
            "type": "contour"
           }
          ],
          "contourcarpet": [
           {
            "colorbar": {
             "outlinewidth": 0,
             "ticks": ""
            },
            "type": "contourcarpet"
           }
          ],
          "heatmap": [
           {
            "colorbar": {
             "outlinewidth": 0,
             "ticks": ""
            },
            "colorscale": [
             [
              0,
              "#0d0887"
             ],
             [
              0.1111111111111111,
              "#46039f"
             ],
             [
              0.2222222222222222,
              "#7201a8"
             ],
             [
              0.3333333333333333,
              "#9c179e"
             ],
             [
              0.4444444444444444,
              "#bd3786"
             ],
             [
              0.5555555555555556,
              "#d8576b"
             ],
             [
              0.6666666666666666,
              "#ed7953"
             ],
             [
              0.7777777777777778,
              "#fb9f3a"
             ],
             [
              0.8888888888888888,
              "#fdca26"
             ],
             [
              1,
              "#f0f921"
             ]
            ],
            "type": "heatmap"
           }
          ],
          "histogram": [
           {
            "marker": {
             "pattern": {
              "fillmode": "overlay",
              "size": 10,
              "solidity": 0.2
             }
            },
            "type": "histogram"
           }
          ],
          "histogram2d": [
           {
            "colorbar": {
             "outlinewidth": 0,
             "ticks": ""
            },
            "colorscale": [
             [
              0,
              "#0d0887"
             ],
             [
              0.1111111111111111,
              "#46039f"
             ],
             [
              0.2222222222222222,
              "#7201a8"
             ],
             [
              0.3333333333333333,
              "#9c179e"
             ],
             [
              0.4444444444444444,
              "#bd3786"
             ],
             [
              0.5555555555555556,
              "#d8576b"
             ],
             [
              0.6666666666666666,
              "#ed7953"
             ],
             [
              0.7777777777777778,
              "#fb9f3a"
             ],
             [
              0.8888888888888888,
              "#fdca26"
             ],
             [
              1,
              "#f0f921"
             ]
            ],
            "type": "histogram2d"
           }
          ],
          "histogram2dcontour": [
           {
            "colorbar": {
             "outlinewidth": 0,
             "ticks": ""
            },
            "colorscale": [
             [
              0,
              "#0d0887"
             ],
             [
              0.1111111111111111,
              "#46039f"
             ],
             [
              0.2222222222222222,
              "#7201a8"
             ],
             [
              0.3333333333333333,
              "#9c179e"
             ],
             [
              0.4444444444444444,
              "#bd3786"
             ],
             [
              0.5555555555555556,
              "#d8576b"
             ],
             [
              0.6666666666666666,
              "#ed7953"
             ],
             [
              0.7777777777777778,
              "#fb9f3a"
             ],
             [
              0.8888888888888888,
              "#fdca26"
             ],
             [
              1,
              "#f0f921"
             ]
            ],
            "type": "histogram2dcontour"
           }
          ],
          "mesh3d": [
           {
            "colorbar": {
             "outlinewidth": 0,
             "ticks": ""
            },
            "type": "mesh3d"
           }
          ],
          "parcoords": [
           {
            "line": {
             "colorbar": {
              "outlinewidth": 0,
              "ticks": ""
             }
            },
            "type": "parcoords"
           }
          ],
          "pie": [
           {
            "automargin": true,
            "type": "pie"
           }
          ],
          "scatter": [
           {
            "fillpattern": {
             "fillmode": "overlay",
             "size": 10,
             "solidity": 0.2
            },
            "type": "scatter"
           }
          ],
          "scatter3d": [
           {
            "line": {
             "colorbar": {
              "outlinewidth": 0,
              "ticks": ""
             }
            },
            "marker": {
             "colorbar": {
              "outlinewidth": 0,
              "ticks": ""
             }
            },
            "type": "scatter3d"
           }
          ],
          "scattercarpet": [
           {
            "marker": {
             "colorbar": {
              "outlinewidth": 0,
              "ticks": ""
             }
            },
            "type": "scattercarpet"
           }
          ],
          "scattergeo": [
           {
            "marker": {
             "colorbar": {
              "outlinewidth": 0,
              "ticks": ""
             }
            },
            "type": "scattergeo"
           }
          ],
          "scattergl": [
           {
            "marker": {
             "colorbar": {
              "outlinewidth": 0,
              "ticks": ""
             }
            },
            "type": "scattergl"
           }
          ],
          "scattermap": [
           {
            "marker": {
             "colorbar": {
              "outlinewidth": 0,
              "ticks": ""
             }
            },
            "type": "scattermap"
           }
          ],
          "scattermapbox": [
           {
            "marker": {
             "colorbar": {
              "outlinewidth": 0,
              "ticks": ""
             }
            },
            "type": "scattermapbox"
           }
          ],
          "scatterpolar": [
           {
            "marker": {
             "colorbar": {
              "outlinewidth": 0,
              "ticks": ""
             }
            },
            "type": "scatterpolar"
           }
          ],
          "scatterpolargl": [
           {
            "marker": {
             "colorbar": {
              "outlinewidth": 0,
              "ticks": ""
             }
            },
            "type": "scatterpolargl"
           }
          ],
          "scatterternary": [
           {
            "marker": {
             "colorbar": {
              "outlinewidth": 0,
              "ticks": ""
             }
            },
            "type": "scatterternary"
           }
          ],
          "surface": [
           {
            "colorbar": {
             "outlinewidth": 0,
             "ticks": ""
            },
            "colorscale": [
             [
              0,
              "#0d0887"
             ],
             [
              0.1111111111111111,
              "#46039f"
             ],
             [
              0.2222222222222222,
              "#7201a8"
             ],
             [
              0.3333333333333333,
              "#9c179e"
             ],
             [
              0.4444444444444444,
              "#bd3786"
             ],
             [
              0.5555555555555556,
              "#d8576b"
             ],
             [
              0.6666666666666666,
              "#ed7953"
             ],
             [
              0.7777777777777778,
              "#fb9f3a"
             ],
             [
              0.8888888888888888,
              "#fdca26"
             ],
             [
              1,
              "#f0f921"
             ]
            ],
            "type": "surface"
           }
          ],
          "table": [
           {
            "cells": {
             "fill": {
              "color": "#EBF0F8"
             },
             "line": {
              "color": "white"
             }
            },
            "header": {
             "fill": {
              "color": "#C8D4E3"
             },
             "line": {
              "color": "white"
             }
            },
            "type": "table"
           }
          ]
         },
         "layout": {
          "annotationdefaults": {
           "arrowcolor": "#2a3f5f",
           "arrowhead": 0,
           "arrowwidth": 1
          },
          "autotypenumbers": "strict",
          "coloraxis": {
           "colorbar": {
            "outlinewidth": 0,
            "ticks": ""
           }
          },
          "colorscale": {
           "diverging": [
            [
             0,
             "#8e0152"
            ],
            [
             0.1,
             "#c51b7d"
            ],
            [
             0.2,
             "#de77ae"
            ],
            [
             0.3,
             "#f1b6da"
            ],
            [
             0.4,
             "#fde0ef"
            ],
            [
             0.5,
             "#f7f7f7"
            ],
            [
             0.6,
             "#e6f5d0"
            ],
            [
             0.7,
             "#b8e186"
            ],
            [
             0.8,
             "#7fbc41"
            ],
            [
             0.9,
             "#4d9221"
            ],
            [
             1,
             "#276419"
            ]
           ],
           "sequential": [
            [
             0,
             "#0d0887"
            ],
            [
             0.1111111111111111,
             "#46039f"
            ],
            [
             0.2222222222222222,
             "#7201a8"
            ],
            [
             0.3333333333333333,
             "#9c179e"
            ],
            [
             0.4444444444444444,
             "#bd3786"
            ],
            [
             0.5555555555555556,
             "#d8576b"
            ],
            [
             0.6666666666666666,
             "#ed7953"
            ],
            [
             0.7777777777777778,
             "#fb9f3a"
            ],
            [
             0.8888888888888888,
             "#fdca26"
            ],
            [
             1,
             "#f0f921"
            ]
           ],
           "sequentialminus": [
            [
             0,
             "#0d0887"
            ],
            [
             0.1111111111111111,
             "#46039f"
            ],
            [
             0.2222222222222222,
             "#7201a8"
            ],
            [
             0.3333333333333333,
             "#9c179e"
            ],
            [
             0.4444444444444444,
             "#bd3786"
            ],
            [
             0.5555555555555556,
             "#d8576b"
            ],
            [
             0.6666666666666666,
             "#ed7953"
            ],
            [
             0.7777777777777778,
             "#fb9f3a"
            ],
            [
             0.8888888888888888,
             "#fdca26"
            ],
            [
             1,
             "#f0f921"
            ]
           ]
          },
          "colorway": [
           "#636efa",
           "#EF553B",
           "#00cc96",
           "#ab63fa",
           "#FFA15A",
           "#19d3f3",
           "#FF6692",
           "#B6E880",
           "#FF97FF",
           "#FECB52"
          ],
          "font": {
           "color": "#2a3f5f"
          },
          "geo": {
           "bgcolor": "white",
           "lakecolor": "white",
           "landcolor": "#E5ECF6",
           "showlakes": true,
           "showland": true,
           "subunitcolor": "white"
          },
          "hoverlabel": {
           "align": "left"
          },
          "hovermode": "closest",
          "mapbox": {
           "style": "light"
          },
          "paper_bgcolor": "white",
          "plot_bgcolor": "#E5ECF6",
          "polar": {
           "angularaxis": {
            "gridcolor": "white",
            "linecolor": "white",
            "ticks": ""
           },
           "bgcolor": "#E5ECF6",
           "radialaxis": {
            "gridcolor": "white",
            "linecolor": "white",
            "ticks": ""
           }
          },
          "scene": {
           "xaxis": {
            "backgroundcolor": "#E5ECF6",
            "gridcolor": "white",
            "gridwidth": 2,
            "linecolor": "white",
            "showbackground": true,
            "ticks": "",
            "zerolinecolor": "white"
           },
           "yaxis": {
            "backgroundcolor": "#E5ECF6",
            "gridcolor": "white",
            "gridwidth": 2,
            "linecolor": "white",
            "showbackground": true,
            "ticks": "",
            "zerolinecolor": "white"
           },
           "zaxis": {
            "backgroundcolor": "#E5ECF6",
            "gridcolor": "white",
            "gridwidth": 2,
            "linecolor": "white",
            "showbackground": true,
            "ticks": "",
            "zerolinecolor": "white"
           }
          },
          "shapedefaults": {
           "line": {
            "color": "#2a3f5f"
           }
          },
          "ternary": {
           "aaxis": {
            "gridcolor": "white",
            "linecolor": "white",
            "ticks": ""
           },
           "baxis": {
            "gridcolor": "white",
            "linecolor": "white",
            "ticks": ""
           },
           "bgcolor": "#E5ECF6",
           "caxis": {
            "gridcolor": "white",
            "linecolor": "white",
            "ticks": ""
           }
          },
          "title": {
           "x": 0.05
          },
          "xaxis": {
           "automargin": true,
           "gridcolor": "white",
           "linecolor": "white",
           "ticks": "",
           "title": {
            "standoff": 15
           },
           "zerolinecolor": "white",
           "zerolinewidth": 2
          },
          "yaxis": {
           "automargin": true,
           "gridcolor": "white",
           "linecolor": "white",
           "ticks": "",
           "title": {
            "standoff": 15
           },
           "zerolinecolor": "white",
           "zerolinewidth": 2
          }
         }
        },
        "title": {
         "text": ""
        }
       }
      }
     },
     "metadata": {},
     "output_type": "display_data"
    }
   ],
   "source": [
    "plot_incorrect_mappings(points_X, points_Y, f, g, title=\"\")"
   ]
  }
 ],
 "metadata": {
  "kernelspec": {
   "display_name": "Python 3",
   "language": "python",
   "name": "python3"
  },
  "language_info": {
   "codemirror_mode": {
    "name": "ipython",
    "version": 3
   },
   "file_extension": ".py",
   "mimetype": "text/x-python",
   "name": "python",
   "nbconvert_exporter": "python",
   "pygments_lexer": "ipython3",
   "version": "3.12.5"
  }
 },
 "nbformat": 4,
 "nbformat_minor": 5
}
