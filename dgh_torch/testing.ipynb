{
  "cells": [
    {
      "cell_type": "code",
      "execution_count": 1,
      "metadata": {
        "id": "XHh1wxa5-YWW"
      },
      "outputs": [],
      "source": [
        "import numpy as np\n",
        "from scipy.spatial import distance\n",
        "import matplotlib.pyplot as plt\n",
        "import time\n",
        "import torch"
      ]
    },
    {
      "cell_type": "code",
      "execution_count": 2,
      "metadata": {
        "id": "8mA5C3yZ-YWY"
      },
      "outputs": [],
      "source": [
        "from oles_dgh import upper_oles"
      ]
    },
    {
      "cell_type": "code",
      "execution_count": 3,
      "metadata": {
        "id": "NVVTOwUx-YWY"
      },
      "outputs": [],
      "source": [
        "X = np.zeros((100,100))\n",
        "Y = np.zeros((100,100))\n",
        "for i in range(100):\n",
        "    for j in range(i+1, 100):\n",
        "        X[i][j] = np.random.randint(0, 50)\n",
        "        Y[i][j] = np.random.randint(0, 50)\n",
        "X += X.T\n",
        "Y += Y.T"
      ]
    },
    {
      "cell_type": "code",
      "execution_count": 4,
      "metadata": {
        "colab": {
          "base_uri": "https://localhost:8080/"
        },
        "id": "MCJ1Npet-YWY",
        "outputId": "2e695af5-7e06-4633-a7c0-fa8912eeec9f"
      },
      "outputs": [
        {
          "output_type": "stream",
          "name": "stdout",
          "text": [
            "time on c: 0.657268762588501\n",
            "time on full frank-wolf: 0.20316362380981445\n",
            "time on full R: 0.013664484024047852\n",
            "time on full dots: 0.18204355239868164\n",
            "time on check: 0.0018413066864013672\n",
            "0.865807294845581\n",
            "tensor(22., device='cuda:0', dtype=torch.float64)\n"
          ]
        }
      ],
      "source": [
        "if __name__ == \"__main__\":\n",
        "    start = time.time()\n",
        "    dGH = upper_oles(X, Y)\n",
        "    print(time.time()-start)\n",
        "    print(dGH)"
      ]
    },
    {
      "cell_type": "code",
      "execution_count": null,
      "metadata": {
        "id": "rjtm8wTP-YWa",
        "outputId": "d289a05a-cd7c-43f4-f0dc-b34b28cc2a3c"
      },
      "outputs": [
        {
          "name": "stdout",
          "output_type": "stream",
          "text": [
            "0.08551430702209473\n",
            "0.5\n"
          ]
        }
      ],
      "source": [
        "X = np.array([[0, 1, 10, 10],\n",
        "           [0, 0, 10, 10],\n",
        "               [0, 0, 0, 1],\n",
        "              [0, 0, 0, 0]])\n",
        "X += X.T\n",
        "Y = np.array([[0, 1, 1, 10],\n",
        "               [0, 0, 1, 10],\n",
        "               [0, 0, 0, 10],\n",
        "               [0, 0, 0, 0]])\n",
        "Y += Y.T\n",
        "start = time.time()\n",
        "dGH = upper(X, Y)\n",
        "print(time.time()-start)\n",
        "print(dGH)"
      ]
    },
    {
      "cell_type": "code",
      "execution_count": 5,
      "metadata": {
        "id": "QeWqi3Zz-YWa"
      },
      "outputs": [],
      "source": [
        "def get_points_circle(n, R, x_center, y_center, z_center):\n",
        "    x = np.random.uniform(x_center - R, x_center + R, n)\n",
        "    y = np.random.uniform(y_center - np.sqrt(np.square(R)-np.square(x-x_center)), y_center + np.sqrt(np.square(R)-np.square(x-x_center)), n)\n",
        "    z_pos_sqrt = np.sqrt(np.square(R)-np.square(x-x_center)-np.square(y-y_center))\n",
        "    random_adj = np.random.choice([-1,1],len(x))\n",
        "    z = random_adj * z_pos_sqrt + z_center\n",
        "    return x,y,z"
      ]
    },
    {
      "cell_type": "code",
      "execution_count": 6,
      "metadata": {
        "id": "NufY7emr-YWb"
      },
      "outputs": [],
      "source": [
        "def calculate_distance(x1,y1,z1,x2,y2,z2,R):#points\n",
        "    u = np.array([x1,y1,z1])\n",
        "    v = np.array([x2,y2,z2])\n",
        "\n",
        "    cosinus = np.clip(np.dot(u / np.linalg.norm(u), (v / np.linalg.norm(v)).T),-1,1)\n",
        "\n",
        "    theta = np.arccos(cosinus)\n",
        "    return R * theta"
      ]
    },
    {
      "cell_type": "code",
      "execution_count": 7,
      "metadata": {
        "id": "ROLrV9Lv-YWb"
      },
      "outputs": [],
      "source": [
        "def compute_dgh_two_circles(x_center1, y_center1, z_center1, x_center2, y_center2, z_center2, R, n):\n",
        "    x1,y1,z1 = get_points_circle(n, R, x_center1, y_center1, z_center1)\n",
        "    x2,y2,z2 = get_points_circle(n, R, x_center2, y_center2, z_center2)\n",
        "    X = np.zeros((n, n))\n",
        "    Y = np.zeros((n,n))\n",
        "    for i in range(n): #пока цикл простой пофиг\n",
        "        for j in range(i+1, n):\n",
        "            X[i][j] = calculate_distance(x1[i],y1[i],z1[i],x1[j],y1[j],z1[j],R)\n",
        "            Y[i][j] = calculate_distance(x2[i],y2[i],z2[i],x2[j],y2[j],z2[j],R)\n",
        "    X += X.T\n",
        "    Y += Y.T\n",
        "    #start = time.time()\n",
        "    #dGH_oles = upper_oles(X,Y)\n",
        "    dGH = upper(X, Y)\n",
        "    #print(time.time()-start)\n",
        "    #return dGH_oles\n",
        "    return dGH\n"
      ]
    },
    {
      "cell_type": "code",
      "execution_count": 8,
      "metadata": {
        "id": "mzVKOwQM-YWc"
      },
      "outputs": [],
      "source": [
        "def make_k_tries(k ,x_center1, y_center1, z_center1, x_center2, y_center2, z_center2, R, n):\n",
        "    dGH_mean = 0\n",
        "    for i in range(k):\n",
        "        dGH = compute_dgh_two_circles(x_center1, y_center1, z_center1, x_center2, y_center2, z_center2, R, n)\n",
        "        dGH_mean += dGH\n",
        "    return dGH_mean / k"
      ]
    },
    {
      "cell_type": "code",
      "execution_count": 9,
      "metadata": {
        "id": "fu9JOMET-YWc"
      },
      "outputs": [],
      "source": [
        "def compute_dgh_two_circles_oles(x_center1, y_center1, z_center1, x_center2, y_center2, z_center2, R, n):\n",
        "    x1,y1,z1 = get_points_circle(n, R, x_center1, y_center1, z_center1)\n",
        "    x2,y2,z2 = get_points_circle(n, R, x_center2, y_center2, z_center2)\n",
        "    X = np.zeros((n, n))\n",
        "    Y = np.zeros((n,n))\n",
        "    for i in range(n): #пока цикл простой пофиг\n",
        "        for j in range(i+1, n):\n",
        "            X[i][j] = calculate_distance(x1[i],y1[i],z1[i],x1[j],y1[j],z1[j],R)\n",
        "            Y[i][j] = calculate_distance(x2[i],y2[i],z2[i],x2[j],y2[j],z2[j],R)\n",
        "    X += X.T\n",
        "    Y += Y.T\n",
        "    #start = time.time()\n",
        "    dGH_oles = upper_oles(X,Y)\n",
        "    #dGH = upper(X, Y)\n",
        "    #print(time.time()-start)\n",
        "    return dGH_oles\n",
        "    #return dGH"
      ]
    },
    {
      "cell_type": "code",
      "execution_count": 10,
      "metadata": {
        "id": "LgmK--Vg-YWc"
      },
      "outputs": [],
      "source": [
        "def make_k_tries_oles(k ,x_center1, y_center1, z_center1, x_center2, y_center2, z_center2, R, n):\n",
        "    dGH_mean = 0\n",
        "    for i in range(k):\n",
        "        dGH = compute_dgh_two_circles_oles(x_center1, y_center1, z_center1, x_center2, y_center2, z_center2, R, n)\n",
        "        dGH_mean += dGH\n",
        "    return dGH_mean / k"
      ]
    },
    {
      "cell_type": "code",
      "execution_count": 13,
      "metadata": {
        "colab": {
          "base_uri": "https://localhost:8080/"
        },
        "id": "OxLFyb8i-YWd",
        "outputId": "f29a85b1-ec6a-423f-94ea-bb7c5f5118a9"
      },
      "outputs": [
        {
          "output_type": "stream",
          "name": "stdout",
          "text": [
            "time on c: 263.71713852882385\n",
            "time on full frank-wolf: 249.4932382106781\n",
            "time on full R: 7.511458158493042\n",
            "time on full dots: 234.94233536720276\n",
            "time on check: 1.8369479179382324\n",
            "tensor(0.4152, device='cuda:0', dtype=torch.float64)\n",
            "time: 598.6753296852112\n"
          ]
        }
      ],
      "source": [
        "if __name__ == \"__main__\":\n",
        "    x_center1, y_center1, z_center1 = -10, -15, -17\n",
        "    x_center2, y_center2, z_center2 = 12, 16, 11\n",
        "    R = 9\n",
        "    k = 1 #number of tries\n",
        "    numbers = [2000]\n",
        "    for number in numbers:\n",
        "        start = time.time()\n",
        "        print(make_k_tries_oles(k ,x_center1, y_center1, z_center1, x_center2, y_center2, z_center2, R, number))\n",
        "        print(f'time: {time.time()-start}')"
      ]
    },
    {
      "cell_type": "code",
      "source": [
        "distances = []\n",
        "if __name__ == \"__main__\":\n",
        "    x_center1, y_center1, z_center1 = -10, -15, -17\n",
        "    x_center2, y_center2, z_center2 = 12, 16, 11\n",
        "    R = 9\n",
        "    k = 10 #number of tries\n",
        "    numbers = [5,10,50,100,300,500,1000,1500,2000]\n",
        "    for number in numbers[:4]:\n",
        "        start = time.time()\n",
        "        distances.append(make_k_tries_oles(5 ,x_center1, y_center1, z_center1, x_center2, y_center2, z_center2, R, number).item())\n",
        "        #print(f'time: {time.time()-start}')\n",
        "    for number in numbers[4:]:\n",
        "        start = time.time()\n",
        "        distances.append(make_k_tries_oles(3 ,x_center1, y_center1, z_center1, x_center2, y_center2, z_center2, R, number).item())\n",
        "        print(f'time: {time.time()-start}')"
      ],
      "metadata": {
        "colab": {
          "base_uri": "https://localhost:8080/"
        },
        "id": "VE6OSBuPFU79",
        "outputId": "f471737f-84df-47d4-c668-30b41cce1a9e"
      },
      "execution_count": 16,
      "outputs": [
        {
          "output_type": "stream",
          "name": "stdout",
          "text": [
            "time on c: 0.03136634826660156\n",
            "time on full frank-wolf: 0.022077560424804688\n",
            "time on full R: 0.0037157535552978516\n",
            "time on full dots: 0.016930818557739258\n",
            "time on check: 0.00019669532775878906\n",
            "time on c: 0.03074359893798828\n",
            "time on full frank-wolf: 0.022855758666992188\n",
            "time on full R: 0.0038175582885742188\n",
            "time on full dots: 0.017168521881103516\n",
            "time on check: 0.00016999244689941406\n",
            "time on c: 0.03379368782043457\n",
            "time on full frank-wolf: 0.023331403732299805\n",
            "time on full R: 0.003970623016357422\n",
            "time on full dots: 0.0174252986907959\n",
            "time on check: 0.00017118453979492188\n",
            "time on c: 0.029298067092895508\n",
            "time on full frank-wolf: 0.02298593521118164\n",
            "time on full R: 0.003824949264526367\n",
            "time on full dots: 0.017324447631835938\n",
            "time on check: 0.0001621246337890625\n",
            "time on c: 0.03035759925842285\n",
            "time on full frank-wolf: 0.022908687591552734\n",
            "time on full R: 0.0038199424743652344\n",
            "time on full dots: 0.01767873764038086\n",
            "time on check: 0.0001780986785888672\n",
            "time on c: 0.06673431396484375\n",
            "time on full frank-wolf: 0.06952667236328125\n",
            "time on full R: 0.006159782409667969\n",
            "time on full dots: 0.05978202819824219\n",
            "time on check: 0.0002799034118652344\n",
            "time on c: 0.07692337036132812\n",
            "time on full frank-wolf: 0.06072664260864258\n",
            "time on full R: 0.006106376647949219\n",
            "time on full dots: 0.05251789093017578\n",
            "time on check: 0.0003135204315185547\n",
            "time on c: 0.06395387649536133\n",
            "time on full frank-wolf: 0.05518031120300293\n",
            "time on full R: 0.007994890213012695\n",
            "time on full dots: 0.04504513740539551\n",
            "time on check: 0.00031828880310058594\n",
            "time on c: 0.06200528144836426\n",
            "time on full frank-wolf: 0.05085587501525879\n",
            "time on full R: 0.005707502365112305\n",
            "time on full dots: 0.0431673526763916\n",
            "time on check: 0.0002644062042236328\n",
            "time on c: 0.06130051612854004\n",
            "time on full frank-wolf: 0.044400930404663086\n",
            "time on full R: 0.005402088165283203\n",
            "time on full dots: 0.0364069938659668\n",
            "time on check: 0.00022339820861816406\n",
            "time on c: 0.13657355308532715\n",
            "time on full frank-wolf: 0.11312174797058105\n",
            "time on full R: 0.00837254524230957\n",
            "time on full dots: 0.1008005142211914\n",
            "time on check: 0.0006437301635742188\n",
            "time on c: 0.12802433967590332\n",
            "time on full frank-wolf: 0.1044468879699707\n",
            "time on full R: 0.008328676223754883\n",
            "time on full dots: 0.09263014793395996\n",
            "time on check: 0.0007164478302001953\n",
            "time on c: 0.11857056617736816\n",
            "time on full frank-wolf: 0.10050797462463379\n",
            "time on full R: 0.009146690368652344\n",
            "time on full dots: 0.0839388370513916\n",
            "time on check: 0.0005593299865722656\n",
            "time on c: 0.11896395683288574\n",
            "time on full frank-wolf: 0.09933924674987793\n",
            "time on full R: 0.01064157485961914\n",
            "time on full dots: 0.08391666412353516\n",
            "time on check: 0.0005679130554199219\n",
            "time on c: 0.12267899513244629\n",
            "time on full frank-wolf: 0.10168123245239258\n",
            "time on full R: 0.008719205856323242\n",
            "time on full dots: 0.08720803260803223\n",
            "time on check: 0.0005156993865966797\n",
            "time on c: 0.20577692985534668\n",
            "time on full frank-wolf: 0.17705845832824707\n",
            "time on full R: 0.015278100967407227\n",
            "time on full dots: 0.15114831924438477\n",
            "time on check: 0.0018668174743652344\n",
            "time on c: 0.1854114532470703\n",
            "time on full frank-wolf: 0.15094232559204102\n",
            "time on full R: 0.011896848678588867\n",
            "time on full dots: 0.1329030990600586\n",
            "time on check: 0.0014810562133789062\n",
            "time on c: 0.18337678909301758\n",
            "time on full frank-wolf: 0.152390718460083\n",
            "time on full R: 0.012345075607299805\n",
            "time on full dots: 0.13379740715026855\n",
            "time on check: 0.001493215560913086\n",
            "time on c: 0.17963385581970215\n",
            "time on full frank-wolf: 0.15537190437316895\n",
            "time on full R: 0.012579679489135742\n",
            "time on full dots: 0.1348280906677246\n",
            "time on check: 0.001379251480102539\n",
            "time on c: 0.1892855167388916\n",
            "time on full frank-wolf: 0.15171384811401367\n",
            "time on full R: 0.01202702522277832\n",
            "time on full dots: 0.13322949409484863\n",
            "time on check: 0.0016925334930419922\n",
            "time on c: 1.8068315982818604\n",
            "time on full frank-wolf: 1.4639859199523926\n",
            "time on full R: 0.0917661190032959\n",
            "time on full dots: 1.3087944984436035\n",
            "time on check: 0.017217636108398438\n",
            "time on c: 1.7901911735534668\n",
            "time on full frank-wolf: 1.5570707321166992\n",
            "time on full R: 0.11879563331604004\n",
            "time on full dots: 1.3638062477111816\n",
            "time on check: 0.020760774612426758\n",
            "time on c: 1.809152603149414\n",
            "time on full frank-wolf: 1.465378999710083\n",
            "time on full R: 0.09726905822753906\n",
            "time on full dots: 1.3050882816314697\n",
            "time on check: 0.016726255416870117\n",
            "time: 15.409971714019775\n",
            "time on c: 6.389822721481323\n",
            "time on full frank-wolf: 5.555901527404785\n",
            "time on full R: 0.2982628345489502\n",
            "time on full dots: 5.034735202789307\n",
            "time on check: 0.057943105697631836\n",
            "time on c: 6.245068073272705\n",
            "time on full frank-wolf: 6.11539101600647\n",
            "time on full R: 0.4232594966888428\n",
            "time on full dots: 5.342301607131958\n",
            "time on check: 0.10628676414489746\n",
            "time on c: 6.332577466964722\n",
            "time on full frank-wolf: 5.590636730194092\n",
            "time on full R: 0.31044602394104004\n",
            "time on full dots: 5.046480417251587\n",
            "time on check: 0.05919480323791504\n",
            "time: 51.716349840164185\n",
            "time on c: 35.960535287857056\n",
            "time on full frank-wolf: 33.00297927856445\n",
            "time on full R: 1.2785685062408447\n",
            "time on full dots: 30.61337423324585\n",
            "time on check: 0.26410603523254395\n",
            "time on c: 35.73677039146423\n",
            "time on full frank-wolf: 33.389631509780884\n",
            "time on full R: 1.3739557266235352\n",
            "time on full dots: 30.62404227256775\n",
            "time on check: 0.557964563369751\n",
            "time on c: 35.86930203437805\n",
            "time on full frank-wolf: 33.48050332069397\n",
            "time on full R: 1.342834234237671\n",
            "time on full dots: 31.0451078414917\n",
            "time on check: 0.2736520767211914\n",
            "time: 270.85483956336975\n",
            "time on c: 117.19854259490967\n",
            "time on full frank-wolf: 108.99350500106812\n",
            "time on full R: 4.065483570098877\n",
            "time on full dots: 101.64733242988586\n",
            "time on check: 0.647087812423706\n",
            "time on c: 117.55323266983032\n",
            "time on full frank-wolf: 109.2703709602356\n",
            "time on full R: 4.161574602127075\n",
            "time on full dots: 101.8132917881012\n",
            "time on check: 0.6464226245880127\n",
            "time on c: 117.46658992767334\n",
            "time on full frank-wolf: 109.54178643226624\n",
            "time on full R: 4.1808106899261475\n",
            "time on full dots: 102.03913378715515\n",
            "time on check: 0.6461288928985596\n",
            "time: 825.4591989517212\n",
            "time on c: 265.2214081287384\n",
            "time on full frank-wolf: 249.72908115386963\n",
            "time on full R: 7.621878147125244\n",
            "time on full dots: 235.19019031524658\n",
            "time on check: 1.7662527561187744\n",
            "time on c: 264.4864499568939\n",
            "time on full frank-wolf: 249.42387676239014\n",
            "time on full R: 7.6101086139678955\n",
            "time on full dots: 235.03760743141174\n",
            "time on check: 1.6584060192108154\n",
            "time on c: 265.67704224586487\n",
            "time on full frank-wolf: 249.49722480773926\n",
            "time on full R: 7.598101854324341\n",
            "time on full dots: 234.90526819229126\n",
            "time on check: 1.8014354705810547\n",
            "time: 1803.9413685798645\n"
          ]
        }
      ]
    },
    {
      "cell_type": "code",
      "source": [
        "import matplotlib.pyplot as plt\n",
        "plt.figure(figsize = (10,6))\n",
        "plt.plot(numbers[1:], distances[1:])\n",
        "plt.xlabel('Количество точек')\n",
        "plt.ylabel('Расстояние')\n",
        "plt.show()"
      ],
      "metadata": {
        "colab": {
          "base_uri": "https://localhost:8080/",
          "height": 542
        },
        "id": "xkvBcyraSESz",
        "outputId": "32f5a9c4-c81c-48bc-c6bf-1ab0fca0a2b8"
      },
      "execution_count": 31,
      "outputs": [
        {
          "output_type": "display_data",
          "data": {
            "text/plain": [
              "<Figure size 1000x600 with 1 Axes>"
            ],
            "image/png": "[encoded data removed]"
          },
          "metadata": {}
        }
      ]
    },
    {
      "cell_type": "code",
      "source": [
        "print(min(distances))"
      ],
      "metadata": {
        "colab": {
          "base_uri": "https://localhost:8080/"
        },
        "id": "MSkSzJuxUQD7",
        "outputId": "21a907b7-d907-4a6e-92e0-3a12a36aa2d5"
      },
      "execution_count": 21,
      "outputs": [
        {
          "output_type": "stream",
          "name": "stdout",
          "text": [
            "0.4397785926271756\n"
          ]
        }
      ]
    },
    {
      "cell_type": "code",
      "source": [
        "if __name__ == \"__main__\":\n",
        "    x_center1, y_center1, z_center1 = -10, -15, -17\n",
        "    x_center2, y_center2, z_center2 = 12, 16, 11\n",
        "    R = 9\n",
        "    k = 1 #number of tries\n",
        "    numbers = [2000]\n",
        "    for number in numbers:\n",
        "        start = time.time()\n",
        "        print(make_k_tries_oles(k ,x_center1, y_center1, z_center1, x_center2, y_center2, z_center2, R, number))\n",
        "        print(f'time: {time.time()-start}')"
      ],
      "metadata": {
        "id": "u2WIFUYsFLTT"
      },
      "execution_count": null,
      "outputs": []
    },
    {
      "cell_type": "code",
      "execution_count": null,
      "metadata": {
        "id": "l8d7PykS-YWd",
        "outputId": "7c6d09ba-c97a-44be-ab1e-ec801e15d925"
      },
      "outputs": [
        {
          "name": "stdout",
          "output_type": "stream",
          "text": [
            "time on c: 79.7296531200409\n",
            "time on full frank-wolf: 78.17215585708618\n",
            "time on full R: 3.2318058013916016\n",
            "time on full dots: 71.34737396240234\n",
            "time on f: 0.31336164474487305\n",
            "time on g: 0.2535557746887207\n",
            "0.44897536773850505\n",
            "time: 174.00340247154236\n"
          ]
        }
      ],
      "source": [
        "if __name__ == \"__main__\":\n",
        "    x_center1, y_center1, z_center1 = -10, -15, -17\n",
        "    x_center2, y_center2, z_center2 = 12, 16, 11\n",
        "    R = 9\n",
        "    k = 1 #number of tries\n",
        "    numbers = [1000]\n",
        "    for number in numbers:\n",
        "        start = time.time()\n",
        "        print(make_k_tries_oles(k ,x_center1, y_center1, z_center1, x_center2, y_center2, z_center2, R, number))\n",
        "        print(f'time: {time.time()-start}')"
      ]
    },
    {
      "cell_type": "code",
      "execution_count": null,
      "metadata": {
        "id": "QSByUL_4-YWd",
        "outputId": "a95ba80d-8e32-47f9-ec2a-b1a83e7986db"
      },
      "outputs": [
        {
          "name": "stdout",
          "output_type": "stream",
          "text": [
            "0.4435441215035236\n",
            "time: 226.2553949356079\n"
          ]
        }
      ],
      "source": [
        "if __name__ == \"__main__\":\n",
        "    x_center1, y_center1, z_center1 = -10, -15, -17\n",
        "    x_center2, y_center2, z_center2 = 12, 16, 11\n",
        "    R = 9\n",
        "    k = 1 #number of tries\n",
        "    numbers = [1000]\n",
        "    for number in numbers:\n",
        "        start = time.time()\n",
        "        print(make_k_tries_oles(k ,x_center1, y_center1, z_center1, x_center2, y_center2, z_center2, R, number))\n",
        "        print(f'time: {time.time()-start}')"
      ]
    },
    {
      "cell_type": "code",
      "execution_count": null,
      "metadata": {
        "id": "5KbfzylY-YWe",
        "outputId": "3f1ee15e-5627-4deb-97cb-c6a75b177705"
      },
      "outputs": [
        {
          "name": "stdout",
          "output_type": "stream",
          "text": [
            "0.6240873234327713\n",
            "time: 211.4914791584015\n"
          ]
        }
      ],
      "source": [
        "if __name__ == \"__main__\":\n",
        "    x_center1, y_center1, z_center1 = -10, -15, -17\n",
        "    x_center2, y_center2, z_center2 = 12, 16, 11\n",
        "    R = 9\n",
        "    k = 1 #number of tries\n",
        "    numbers = [1000]\n",
        "    for number in numbers:\n",
        "        start = time.time()\n",
        "        print(make_k_tries(k ,x_center1, y_center1, z_center1, x_center2, y_center2, z_center2, R, number))\n",
        "        print(f'time: {time.time()-start}')"
      ]
    },
    {
      "cell_type": "code",
      "execution_count": null,
      "metadata": {
        "id": "hWURpDu--YWe",
        "outputId": "f4d13b3b-3411-4bb3-9846-908bdf5fb9bb"
      },
      "outputs": [
        {
          "name": "stdout",
          "output_type": "stream",
          "text": [
            "0.4028286346574203\n",
            "time: 1256.0480937957764\n"
          ]
        }
      ],
      "source": [
        "if __name__ == \"__main__\":\n",
        "    x_center1, y_center1, z_center1 = -10, -15, -17\n",
        "    x_center2, y_center2, z_center2 = 12, 16, 11\n",
        "    R = 9\n",
        "    k = 1 #number of tries\n",
        "    numbers = [2000]\n",
        "    for number in numbers:\n",
        "        start = time.time()\n",
        "        print(make_k_tries(k ,x_center1, y_center1, z_center1, x_center2, y_center2, z_center2, R, number))\n",
        "        print(f'time: {time.time()-start}')"
      ]
    },
    {
      "cell_type": "code",
      "execution_count": null,
      "metadata": {
        "id": "9VKHa3hd-YWe",
        "outputId": "855e8bc4-624d-4c02-b692-d167727d7635"
      },
      "outputs": [
        {
          "name": "stdout",
          "output_type": "stream",
          "text": [
            "time on c: 553.288063287735\n",
            "time on full frank-wolf: 478.6768407821655\n",
            "time on full R: 11.376916646957397\n",
            "time on full dots: 451.5821509361267\n",
            "time on f: 0.7831676006317139\n",
            "time on g: 0.8175716400146484\n",
            "0.3998888115337726\n",
            "time: 1095.0859456062317\n"
          ]
        }
      ],
      "source": [
        "if __name__ == \"__main__\":\n",
        "    x_center1, y_center1, z_center1 = -10, -15, -17\n",
        "    x_center2, y_center2, z_center2 = 12, 16, 11\n",
        "    R = 9\n",
        "    k = 1 #number of tries\n",
        "    numbers = [2000]\n",
        "    for number in numbers:\n",
        "        start = time.time()\n",
        "        print(make_k_tries_oles(k ,x_center1, y_center1, z_center1, x_center2, y_center2, z_center2, R, number))\n",
        "        print(f'time: {time.time()-start}')"
      ]
    },
    {
      "cell_type": "code",
      "execution_count": null,
      "metadata": {
        "id": "sisaKFmF-YWf",
        "outputId": "31ad82b4-66e8-44cc-cf60-f2cb4ed8277a"
      },
      "outputs": [
        {
          "name": "stdout",
          "output_type": "stream",
          "text": [
            "time on c: 603.4774601459503\n",
            "time on full frank-wolf: 597.3417661190033\n",
            "time on full R: 12.530794143676758\n",
            "time on full dots: 567.1814260482788\n",
            "time on f: 0.8445067405700684\n",
            "time on g: 0.8159785270690918\n",
            "0.38511589751979974\n",
            "time: 1262.774350643158\n"
          ]
        }
      ],
      "source": [
        "if __name__ == \"__main__\":\n",
        "    x_center1, y_center1, z_center1 = -10, -15, -17\n",
        "    x_center2, y_center2, z_center2 = 12, 16, 11\n",
        "    R = 9\n",
        "    k = 1 #number of tries\n",
        "    numbers = [2000]\n",
        "    for number in numbers:\n",
        "        start = time.time()\n",
        "        print(make_k_tries_oles(k ,x_center1, y_center1, z_center1, x_center2, y_center2, z_center2, R, number))\n",
        "        print(f'time: {time.time()-start}')"
      ]
    }
  ],
  "metadata": {
    "kernelspec": {
      "display_name": "Python 3",
      "name": "python3"
    },
    "language_info": {
      "codemirror_mode": {
        "name": "ipython",
        "version": 3
      },
      "file_extension": ".py",
      "mimetype": "text/x-python",
      "name": "python",
      "nbconvert_exporter": "python",
      "pygments_lexer": "ipython3",
      "version": "3.12.5"
    },
    "colab": {
      "provenance": [],
      "gpuType": "T4"
    },
    "accelerator": "GPU"
  },
  "nbformat": 4,
  "nbformat_minor": 0
}